{
 "cells": [
  {
   "cell_type": "markdown",
   "id": "e368f4cc-441e-4df5-a6b2-3eb84e53bf90",
   "metadata": {},
   "source": [
    "# 21BCE5676 Sireesha Pamidimokkala"
   ]
  },
  {
   "cell_type": "code",
   "execution_count": 1,
   "id": "8caf27a7",
   "metadata": {},
   "outputs": [
    {
     "name": "stdout",
     "output_type": "stream",
     "text": [
      "hi\n"
     ]
    }
   ],
   "source": [
    "print(\"hi\") #simple print statement"
   ]
  },
  {
   "cell_type": "markdown",
   "id": "b6103c9a",
   "metadata": {},
   "source": [
    "# Using NumPy"
   ]
  },
  {
   "cell_type": "code",
   "execution_count": 22,
   "id": "7e1d7f0d",
   "metadata": {},
   "outputs": [
    {
     "name": "stdout",
     "output_type": "stream",
     "text": [
      "Requirement already satisfied: numpy in c:\\users\\sireesha\\appdata\\local\\programs\\python\\python311\\lib\\site-packages (1.26.3)Note: you may need to restart the kernel to use updated packages.\n",
      "\n"
     ]
    },
    {
     "name": "stderr",
     "output_type": "stream",
     "text": [
      "\n",
      "[notice] A new release of pip is available: 23.2.1 -> 23.3.2\n",
      "[notice] To update, run: python.exe -m pip install --upgrade pip\n"
     ]
    }
   ],
   "source": [
    "#installation (My pc did not have conda environment , hence using pip )\n",
    "%pip install numpy "
   ]
  },
  {
   "cell_type": "code",
   "execution_count": 2,
   "id": "0f669612",
   "metadata": {},
   "outputs": [],
   "source": [
    "#importing it as a library for our use\n",
    "import numpy as np"
   ]
  },
  {
   "cell_type": "markdown",
   "id": "52bcaad2-9c1b-4d7c-8a83-d94d19b0581e",
   "metadata": {},
   "source": [
    "# NumPy Arrays\n"
   ]
  },
  {
   "cell_type": "code",
   "execution_count": 26,
   "id": "ea0c70ae",
   "metadata": {},
   "outputs": [
    {
     "data": {
      "text/plain": [
       "[1, 2, 3]"
      ]
     },
     "execution_count": 26,
     "metadata": {},
     "output_type": "execute_result"
    }
   ],
   "source": [
    "#creating a vector(1d array) from python list directly\n",
    "my_list=[1,2,3]\n",
    "my_list"
   ]
  },
  {
   "cell_type": "code",
   "execution_count": 21,
   "id": "5ac84b06",
   "metadata": {},
   "outputs": [
    {
     "data": {
      "text/plain": [
       "array([1, 2, 3])"
      ]
     },
     "execution_count": 21,
     "metadata": {},
     "output_type": "execute_result"
    }
   ],
   "source": [
    "np.array(my_list)"
   ]
  },
  {
   "cell_type": "code",
   "execution_count": 27,
   "id": "efc7b339",
   "metadata": {},
   "outputs": [
    {
     "data": {
      "text/plain": [
       "[[1, 2, 3], [4, 5, 6], [7, 8, 9]]"
      ]
     },
     "execution_count": 27,
     "metadata": {},
     "output_type": "execute_result"
    }
   ],
   "source": [
    "#creating a matrix(2d array) from python lists directly\n",
    "my_matrix=[[1,2,3],[4,5,6],[7,8,9]]\n",
    "my_matrix"
   ]
  },
  {
   "cell_type": "markdown",
   "id": "64d3d8e7",
   "metadata": {},
   "source": [
    "# Built-in Methods of Numpy: "
   ]
  },
  {
   "cell_type": "markdown",
   "id": "6fe4e8cd",
   "metadata": {},
   "source": [
    " 1) Arange-:Returns evenly spaced values within given interval (exculed last element)"
   ]
  },
  {
   "cell_type": "markdown",
   "id": "3e263015",
   "metadata": {},
   "source": [
    "Q. Print even numbers between 0 & 10."
   ]
  },
  {
   "cell_type": "code",
   "execution_count": 28,
   "id": "9338a120-64f9-4efc-8d98-4f9e6ce5e37e",
   "metadata": {},
   "outputs": [
    {
     "data": {
      "text/plain": [
       "array([0, 1, 2, 3, 4, 5, 6, 7, 8, 9])"
      ]
     },
     "execution_count": 28,
     "metadata": {},
     "output_type": "execute_result"
    }
   ],
   "source": [
    "np.arange(0,10)"
   ]
  },
  {
   "cell_type": "code",
   "execution_count": 29,
   "id": "3e5e9380-efe6-4d9d-90c3-cedbabe4e8d0",
   "metadata": {},
   "outputs": [
    {
     "data": {
      "text/plain": [
       "array([  0,   4,   8,  12,  16,  20,  24,  28,  32,  36,  40,  44,  48,\n",
       "        52,  56,  60,  64,  68,  72,  76,  80,  84,  88,  92,  96, 100,\n",
       "       104, 108])"
      ]
     },
     "execution_count": 29,
     "metadata": {},
     "output_type": "execute_result"
    }
   ],
   "source": [
    "np.arange(0,110,4)"
   ]
  },
  {
   "cell_type": "code",
   "execution_count": 15,
   "id": "ae99ce46",
   "metadata": {},
   "outputs": [
    {
     "data": {
      "text/plain": [
       "array([10, 12, 14, 16, 18, 20])"
      ]
     },
     "execution_count": 15,
     "metadata": {},
     "output_type": "execute_result"
    }
   ],
   "source": [
    "np.arange(10,21,2)"
   ]
  },
  {
   "cell_type": "markdown",
   "id": "c32c477b",
   "metadata": {},
   "source": [
    "If you start from 9 you get odd numbers."
   ]
  },
  {
   "cell_type": "code",
   "execution_count": 16,
   "id": "b4ce5050",
   "metadata": {},
   "outputs": [
    {
     "data": {
      "text/plain": [
       "array([ 0,  1,  2,  3,  4,  5,  6,  7,  8,  9, 10, 11, 12, 13, 14, 15, 16,\n",
       "       17, 18, 19, 20, 21, 22, 23, 24, 25, 26, 27, 28, 29])"
      ]
     },
     "execution_count": 16,
     "metadata": {},
     "output_type": "execute_result"
    }
   ],
   "source": [
    "np.arange(30) #All generated"
   ]
  },
  {
   "cell_type": "markdown",
   "id": "aed4080c",
   "metadata": {},
   "source": [
    "2) Zeros and ones - Generate array of zeros and ones."
   ]
  },
  {
   "cell_type": "code",
   "execution_count": 19,
   "id": "316c2537",
   "metadata": {},
   "outputs": [
    {
     "data": {
      "text/plain": [
       "array([0., 0., 0.])"
      ]
     },
     "execution_count": 19,
     "metadata": {},
     "output_type": "execute_result"
    }
   ],
   "source": [
    "np.zeros(3) #one-dimensional"
   ]
  },
  {
   "cell_type": "code",
   "execution_count": 20,
   "id": "0ef01d9a",
   "metadata": {},
   "outputs": [
    {
     "data": {
      "text/plain": [
       "array([[0., 0., 0., 0., 0.],\n",
       "       [0., 0., 0., 0., 0.],\n",
       "       [0., 0., 0., 0., 0.],\n",
       "       [0., 0., 0., 0., 0.],\n",
       "       [0., 0., 0., 0., 0.]])"
      ]
     },
     "execution_count": 20,
     "metadata": {},
     "output_type": "execute_result"
    }
   ],
   "source": [
    "np.zeros((5,5)) #two-dimensional"
   ]
  },
  {
   "cell_type": "code",
   "execution_count": 21,
   "id": "470420ec",
   "metadata": {},
   "outputs": [
    {
     "data": {
      "text/plain": [
       "array([1., 1., 1.])"
      ]
     },
     "execution_count": 21,
     "metadata": {},
     "output_type": "execute_result"
    }
   ],
   "source": [
    "np.ones(3)"
   ]
  },
  {
   "cell_type": "code",
   "execution_count": 25,
   "id": "008f029f",
   "metadata": {},
   "outputs": [
    {
     "data": {
      "text/plain": [
       "array([[1., 1.],\n",
       "       [1., 1.],\n",
       "       [1., 1.]])"
      ]
     },
     "execution_count": 25,
     "metadata": {},
     "output_type": "execute_result"
    }
   ],
   "source": [
    "np.ones((3,2))"
   ]
  },
  {
   "cell_type": "markdown",
   "id": "fb6a7a5e",
   "metadata": {},
   "source": [
    "3) Linspace-: Returns Evenly spaced numbers in a given interval (includes last element)"
   ]
  },
  {
   "cell_type": "code",
   "execution_count": 26,
   "id": "50d35d3e",
   "metadata": {},
   "outputs": [
    {
     "data": {
      "text/plain": [
       "array([  0. ,  27.5,  55. ,  82.5, 110. ])"
      ]
     },
     "execution_count": 26,
     "metadata": {},
     "output_type": "execute_result"
    }
   ],
   "source": [
    "np.linspace(0,110,5)"
   ]
  },
  {
   "cell_type": "code",
   "execution_count": 30,
   "id": "d9ad5bcf-e717-4d10-81a0-9e824be20717",
   "metadata": {},
   "outputs": [
    {
     "data": {
      "text/plain": [
       "array([ 0.        ,  0.1010101 ,  0.2020202 ,  0.3030303 ,  0.4040404 ,\n",
       "        0.50505051,  0.60606061,  0.70707071,  0.80808081,  0.90909091,\n",
       "        1.01010101,  1.11111111,  1.21212121,  1.31313131,  1.41414141,\n",
       "        1.51515152,  1.61616162,  1.71717172,  1.81818182,  1.91919192,\n",
       "        2.02020202,  2.12121212,  2.22222222,  2.32323232,  2.42424242,\n",
       "        2.52525253,  2.62626263,  2.72727273,  2.82828283,  2.92929293,\n",
       "        3.03030303,  3.13131313,  3.23232323,  3.33333333,  3.43434343,\n",
       "        3.53535354,  3.63636364,  3.73737374,  3.83838384,  3.93939394,\n",
       "        4.04040404,  4.14141414,  4.24242424,  4.34343434,  4.44444444,\n",
       "        4.54545455,  4.64646465,  4.74747475,  4.84848485,  4.94949495,\n",
       "        5.05050505,  5.15151515,  5.25252525,  5.35353535,  5.45454545,\n",
       "        5.55555556,  5.65656566,  5.75757576,  5.85858586,  5.95959596,\n",
       "        6.06060606,  6.16161616,  6.26262626,  6.36363636,  6.46464646,\n",
       "        6.56565657,  6.66666667,  6.76767677,  6.86868687,  6.96969697,\n",
       "        7.07070707,  7.17171717,  7.27272727,  7.37373737,  7.47474747,\n",
       "        7.57575758,  7.67676768,  7.77777778,  7.87878788,  7.97979798,\n",
       "        8.08080808,  8.18181818,  8.28282828,  8.38383838,  8.48484848,\n",
       "        8.58585859,  8.68686869,  8.78787879,  8.88888889,  8.98989899,\n",
       "        9.09090909,  9.19191919,  9.29292929,  9.39393939,  9.49494949,\n",
       "        9.5959596 ,  9.6969697 ,  9.7979798 ,  9.8989899 , 10.        ])"
      ]
     },
     "execution_count": 30,
     "metadata": {},
     "output_type": "execute_result"
    }
   ],
   "source": [
    "np.linspace(0,10,100)"
   ]
  },
  {
   "cell_type": "markdown",
   "id": "58a6b083",
   "metadata": {},
   "source": [
    "Q.Generate 25 numbers between 500 & 1000."
   ]
  },
  {
   "cell_type": "code",
   "execution_count": 27,
   "id": "8f710446",
   "metadata": {},
   "outputs": [
    {
     "data": {
      "text/plain": [
       "array([ 500.        ,  520.83333333,  541.66666667,  562.5       ,\n",
       "        583.33333333,  604.16666667,  625.        ,  645.83333333,\n",
       "        666.66666667,  687.5       ,  708.33333333,  729.16666667,\n",
       "        750.        ,  770.83333333,  791.66666667,  812.5       ,\n",
       "        833.33333333,  854.16666667,  875.        ,  895.83333333,\n",
       "        916.66666667,  937.5       ,  958.33333333,  979.16666667,\n",
       "       1000.        ])"
      ]
     },
     "execution_count": 27,
     "metadata": {},
     "output_type": "execute_result"
    }
   ],
   "source": [
    "np.linspace(500,1000,25)"
   ]
  },
  {
   "cell_type": "code",
   "execution_count": 28,
   "id": "2e9b24bd",
   "metadata": {},
   "outputs": [
    {
     "data": {
      "text/plain": [
       "array([ 0.        ,  0.05025126,  0.10050251,  0.15075377,  0.20100503,\n",
       "        0.25125628,  0.30150754,  0.35175879,  0.40201005,  0.45226131,\n",
       "        0.50251256,  0.55276382,  0.60301508,  0.65326633,  0.70351759,\n",
       "        0.75376884,  0.8040201 ,  0.85427136,  0.90452261,  0.95477387,\n",
       "        1.00502513,  1.05527638,  1.10552764,  1.15577889,  1.20603015,\n",
       "        1.25628141,  1.30653266,  1.35678392,  1.40703518,  1.45728643,\n",
       "        1.50753769,  1.55778894,  1.6080402 ,  1.65829146,  1.70854271,\n",
       "        1.75879397,  1.80904523,  1.85929648,  1.90954774,  1.95979899,\n",
       "        2.01005025,  2.06030151,  2.11055276,  2.16080402,  2.21105528,\n",
       "        2.26130653,  2.31155779,  2.36180905,  2.4120603 ,  2.46231156,\n",
       "        2.51256281,  2.56281407,  2.61306533,  2.66331658,  2.71356784,\n",
       "        2.7638191 ,  2.81407035,  2.86432161,  2.91457286,  2.96482412,\n",
       "        3.01507538,  3.06532663,  3.11557789,  3.16582915,  3.2160804 ,\n",
       "        3.26633166,  3.31658291,  3.36683417,  3.41708543,  3.46733668,\n",
       "        3.51758794,  3.5678392 ,  3.61809045,  3.66834171,  3.71859296,\n",
       "        3.76884422,  3.81909548,  3.86934673,  3.91959799,  3.96984925,\n",
       "        4.0201005 ,  4.07035176,  4.12060302,  4.17085427,  4.22110553,\n",
       "        4.27135678,  4.32160804,  4.3718593 ,  4.42211055,  4.47236181,\n",
       "        4.52261307,  4.57286432,  4.62311558,  4.67336683,  4.72361809,\n",
       "        4.77386935,  4.8241206 ,  4.87437186,  4.92462312,  4.97487437,\n",
       "        5.02512563,  5.07537688,  5.12562814,  5.1758794 ,  5.22613065,\n",
       "        5.27638191,  5.32663317,  5.37688442,  5.42713568,  5.47738693,\n",
       "        5.52763819,  5.57788945,  5.6281407 ,  5.67839196,  5.72864322,\n",
       "        5.77889447,  5.82914573,  5.87939698,  5.92964824,  5.9798995 ,\n",
       "        6.03015075,  6.08040201,  6.13065327,  6.18090452,  6.23115578,\n",
       "        6.28140704,  6.33165829,  6.38190955,  6.4321608 ,  6.48241206,\n",
       "        6.53266332,  6.58291457,  6.63316583,  6.68341709,  6.73366834,\n",
       "        6.7839196 ,  6.83417085,  6.88442211,  6.93467337,  6.98492462,\n",
       "        7.03517588,  7.08542714,  7.13567839,  7.18592965,  7.2361809 ,\n",
       "        7.28643216,  7.33668342,  7.38693467,  7.43718593,  7.48743719,\n",
       "        7.53768844,  7.5879397 ,  7.63819095,  7.68844221,  7.73869347,\n",
       "        7.78894472,  7.83919598,  7.88944724,  7.93969849,  7.98994975,\n",
       "        8.04020101,  8.09045226,  8.14070352,  8.19095477,  8.24120603,\n",
       "        8.29145729,  8.34170854,  8.3919598 ,  8.44221106,  8.49246231,\n",
       "        8.54271357,  8.59296482,  8.64321608,  8.69346734,  8.74371859,\n",
       "        8.79396985,  8.84422111,  8.89447236,  8.94472362,  8.99497487,\n",
       "        9.04522613,  9.09547739,  9.14572864,  9.1959799 ,  9.24623116,\n",
       "        9.29648241,  9.34673367,  9.39698492,  9.44723618,  9.49748744,\n",
       "        9.54773869,  9.59798995,  9.64824121,  9.69849246,  9.74874372,\n",
       "        9.79899497,  9.84924623,  9.89949749,  9.94974874, 10.        ])"
      ]
     },
     "execution_count": 28,
     "metadata": {},
     "output_type": "execute_result"
    }
   ],
   "source": [
    "np.linspace(0,10,200)"
   ]
  },
  {
   "cell_type": "markdown",
   "id": "3477be06",
   "metadata": {},
   "source": [
    "4) Eye- Creates identity matrix"
   ]
  },
  {
   "cell_type": "code",
   "execution_count": 29,
   "id": "36d3e580",
   "metadata": {},
   "outputs": [
    {
     "data": {
      "text/plain": [
       "array([[1., 0., 0., 0.],\n",
       "       [0., 1., 0., 0.],\n",
       "       [0., 0., 1., 0.],\n",
       "       [0., 0., 0., 1.]])"
      ]
     },
     "execution_count": 29,
     "metadata": {},
     "output_type": "execute_result"
    }
   ],
   "source": [
    "np.eye(4)"
   ]
  },
  {
   "cell_type": "markdown",
   "id": "9efe8603",
   "metadata": {},
   "source": [
    "5) rand-Creates an array of specified shape and fills it wuth random samples from (0-1)"
   ]
  },
  {
   "cell_type": "code",
   "execution_count": 30,
   "id": "e0737330",
   "metadata": {},
   "outputs": [
    {
     "data": {
      "text/plain": [
       "array([0.15457553, 0.75498273, 0.34753852, 0.00995138, 0.94337459])"
      ]
     },
     "execution_count": 30,
     "metadata": {},
     "output_type": "execute_result"
    }
   ],
   "source": [
    "np.random.rand(5)"
   ]
  },
  {
   "cell_type": "code",
   "execution_count": 31,
   "id": "be6bbfe8-fa0d-4725-8259-1d42e32ad9c3",
   "metadata": {},
   "outputs": [
    {
     "data": {
      "text/plain": [
       "array([0.39577602, 0.55515715])"
      ]
     },
     "execution_count": 31,
     "metadata": {},
     "output_type": "execute_result"
    }
   ],
   "source": [
    "np.random.rand(2)"
   ]
  },
  {
   "cell_type": "code",
   "execution_count": 31,
   "id": "08103e37",
   "metadata": {},
   "outputs": [
    {
     "data": {
      "text/plain": [
       "array([[0.33566232, 0.83985887, 0.46668441],\n",
       "       [0.79065671, 0.56131555, 0.09331186],\n",
       "       [0.13441226, 0.91273684, 0.60037855],\n",
       "       [0.42692594, 0.27733871, 0.19669135]])"
      ]
     },
     "execution_count": 31,
     "metadata": {},
     "output_type": "execute_result"
    }
   ],
   "source": [
    "np.random.rand(4,3)"
   ]
  },
  {
   "cell_type": "markdown",
   "id": "54a715e2",
   "metadata": {},
   "source": [
    "6) randn- Creates an array of specified shape from normal distribution.It is not uniform"
   ]
  },
  {
   "cell_type": "code",
   "execution_count": 32,
   "id": "a4f9e193",
   "metadata": {},
   "outputs": [
    {
     "data": {
      "text/plain": [
       "array([ 0.2066042 , -0.66055739,  1.53630616,  0.34481368,  0.48561693])"
      ]
     },
     "execution_count": 32,
     "metadata": {},
     "output_type": "execute_result"
    }
   ],
   "source": [
    "np.random.randn(5)"
   ]
  },
  {
   "cell_type": "code",
   "execution_count": 32,
   "id": "e837641c-360a-429a-9d49-a1c13c2163f1",
   "metadata": {},
   "outputs": [
    {
     "data": {
      "text/plain": [
       "array([[-0.53700625,  0.46877446, -1.272458  ,  1.80149521,  0.29720367],\n",
       "       [ 1.15236543, -0.13738665, -0.87504116,  0.03892219,  1.15792451],\n",
       "       [-0.79859877,  0.1461173 , -0.96225157, -0.2487522 ,  0.26052207],\n",
       "       [-0.35793236, -0.73577331,  0.01182122,  0.04077941, -0.46353511],\n",
       "       [-0.0179564 ,  0.05759173,  0.4980431 , -1.55713346,  0.15351823]])"
      ]
     },
     "execution_count": 32,
     "metadata": {},
     "output_type": "execute_result"
    }
   ],
   "source": [
    "np.random.randn(5,5)"
   ]
  },
  {
   "cell_type": "markdown",
   "id": "8fc67d38",
   "metadata": {},
   "source": [
    "7) randint - Returns integers from given range (Exclusive)"
   ]
  },
  {
   "cell_type": "code",
   "execution_count": 35,
   "id": "a26ca87f",
   "metadata": {},
   "outputs": [
    {
     "data": {
      "text/plain": [
       "array([53, 52, 31, 82, 35, 43,  6, 18, 32, 38])"
      ]
     },
     "execution_count": 35,
     "metadata": {},
     "output_type": "execute_result"
    }
   ],
   "source": [
    "ranarr=np.random.randint(1,100,15) #last argument is how many elements to generate\n",
    "np.random.randint(1,100,10)"
   ]
  },
  {
   "cell_type": "code",
   "execution_count": 34,
   "id": "8ec21422",
   "metadata": {},
   "outputs": [
    {
     "data": {
      "text/plain": [
       "array([1, 1, 1, 1, 1])"
      ]
     },
     "execution_count": 34,
     "metadata": {},
     "output_type": "execute_result"
    }
   ],
   "source": [
    "np.random.randint(1,2,5)"
   ]
  },
  {
   "cell_type": "markdown",
   "id": "5df59b64",
   "metadata": {},
   "source": [
    "# Array Attributes and Methods"
   ]
  },
  {
   "cell_type": "markdown",
   "id": "098b344e-bf29-4de4-91f7-e271579d76ba",
   "metadata": {},
   "source": [
    "1. Arange -  Returns an array with evenly spaced elements as per the interval"
   ]
  },
  {
   "cell_type": "code",
   "execution_count": 38,
   "id": "f0eb45df-2442-4533-9212-b69c6159b968",
   "metadata": {
    "scrolled": true
   },
   "outputs": [
    {
     "data": {
      "text/plain": [
       "array([ 0,  1,  2,  3,  4,  5,  6,  7,  8,  9, 10, 11, 12, 13, 14, 15, 16,\n",
       "       17, 18, 19, 20, 21, 22, 23, 24])"
      ]
     },
     "execution_count": 38,
     "metadata": {},
     "output_type": "execute_result"
    }
   ],
   "source": [
    "arr = np.arange(25)\n",
    "arr"
   ]
  },
  {
   "cell_type": "markdown",
   "id": "39c3dacb",
   "metadata": {},
   "source": [
    "1) Reshape - Returns an array containing same data in new shape"
   ]
  },
  {
   "cell_type": "code",
   "execution_count": 39,
   "id": "597ebc50",
   "metadata": {},
   "outputs": [
    {
     "data": {
      "text/plain": [
       "(15,)"
      ]
     },
     "execution_count": 39,
     "metadata": {},
     "output_type": "execute_result"
    }
   ],
   "source": [
    "ranarr.shape #checking dimension"
   ]
  },
  {
   "cell_type": "code",
   "execution_count": 40,
   "id": "b6e7f3ff",
   "metadata": {},
   "outputs": [
    {
     "data": {
      "text/plain": [
       "array([[73, 51, 70, 66, 24],\n",
       "       [19, 20, 38, 25, 51],\n",
       "       [72, 33, 20, 45, 50]])"
      ]
     },
     "execution_count": 40,
     "metadata": {},
     "output_type": "execute_result"
    }
   ],
   "source": [
    "ranarr.reshape(3,5) #changing the dimension"
   ]
  },
  {
   "cell_type": "code",
   "execution_count": 41,
   "id": "9bc9f502",
   "metadata": {},
   "outputs": [
    {
     "data": {
      "text/plain": [
       "array([[73, 51, 70],\n",
       "       [66, 24, 19],\n",
       "       [20, 38, 25],\n",
       "       [51, 72, 33],\n",
       "       [20, 45, 50]])"
      ]
     },
     "execution_count": 41,
     "metadata": {},
     "output_type": "execute_result"
    }
   ],
   "source": [
    "ranarr.reshape(5,3)"
   ]
  },
  {
   "cell_type": "raw",
   "id": "11bebb9f",
   "metadata": {},
   "source": [
    "Q. Generate 30 integers between 200 & 800. Print original dimension. Change the dimensions into diff possibilities"
   ]
  },
  {
   "cell_type": "code",
   "execution_count": 42,
   "id": "b301bee1",
   "metadata": {},
   "outputs": [
    {
     "data": {
      "text/plain": [
       "array([452, 224, 641, 315, 782, 699, 786, 370, 256, 550, 500, 253, 563,\n",
       "       765, 464, 518, 467, 286, 481, 721, 796, 351, 491, 692, 681, 440,\n",
       "       700, 453, 584, 295])"
      ]
     },
     "execution_count": 42,
     "metadata": {},
     "output_type": "execute_result"
    }
   ],
   "source": [
    "arr=np.random.randint(200,800,30) \n",
    "arr"
   ]
  },
  {
   "cell_type": "code",
   "execution_count": 43,
   "id": "5c50913b",
   "metadata": {},
   "outputs": [
    {
     "data": {
      "text/plain": [
       "(30,)"
      ]
     },
     "execution_count": 43,
     "metadata": {},
     "output_type": "execute_result"
    }
   ],
   "source": [
    "arr.shape"
   ]
  },
  {
   "cell_type": "code",
   "execution_count": 44,
   "id": "056dccde",
   "metadata": {},
   "outputs": [
    {
     "data": {
      "text/plain": [
       "array([[452, 224, 641, 315, 782, 699, 786, 370, 256, 550, 500, 253, 563,\n",
       "        765, 464],\n",
       "       [518, 467, 286, 481, 721, 796, 351, 491, 692, 681, 440, 700, 453,\n",
       "        584, 295]])"
      ]
     },
     "execution_count": 44,
     "metadata": {},
     "output_type": "execute_result"
    }
   ],
   "source": [
    "arr.reshape(2,15)"
   ]
  },
  {
   "cell_type": "code",
   "execution_count": 45,
   "id": "c15553bf",
   "metadata": {},
   "outputs": [
    {
     "data": {
      "text/plain": [
       "array([[452, 224, 641, 315, 782, 699, 786, 370, 256, 550],\n",
       "       [500, 253, 563, 765, 464, 518, 467, 286, 481, 721],\n",
       "       [796, 351, 491, 692, 681, 440, 700, 453, 584, 295]])"
      ]
     },
     "execution_count": 45,
     "metadata": {},
     "output_type": "execute_result"
    }
   ],
   "source": [
    "arr.reshape(3,10)"
   ]
  },
  {
   "cell_type": "markdown",
   "id": "ca1c0ec6",
   "metadata": {},
   "source": [
    "2) Max,min,argmax,argmin- To find maximum,minimum and their indexes."
   ]
  },
  {
   "cell_type": "code",
   "execution_count": 46,
   "id": "b48d480b",
   "metadata": {},
   "outputs": [
    {
     "data": {
      "text/plain": [
       "796"
      ]
     },
     "execution_count": 46,
     "metadata": {},
     "output_type": "execute_result"
    }
   ],
   "source": [
    "arr.max()\n"
   ]
  },
  {
   "cell_type": "code",
   "execution_count": 47,
   "id": "4a1dfd0c",
   "metadata": {},
   "outputs": [
    {
     "data": {
      "text/plain": [
       "20"
      ]
     },
     "execution_count": 47,
     "metadata": {},
     "output_type": "execute_result"
    }
   ],
   "source": [
    "arr.argmax()"
   ]
  },
  {
   "cell_type": "markdown",
   "id": "6b083119",
   "metadata": {},
   "source": [
    "3) dtype - Checks the data type of objects in ana array"
   ]
  },
  {
   "cell_type": "code",
   "execution_count": 70,
   "id": "c3f5e4eb",
   "metadata": {},
   "outputs": [
    {
     "data": {
      "text/plain": [
       "dtype('int32')"
      ]
     },
     "execution_count": 70,
     "metadata": {},
     "output_type": "execute_result"
    }
   ],
   "source": [
    "arr.dtype"
   ]
  },
  {
   "cell_type": "markdown",
   "id": "e6032383-a896-4ff1-b508-feafd9982fa3",
   "metadata": {},
   "source": [
    "4. Shape- shape is an attribute of arrays."
   ]
  },
  {
   "cell_type": "code",
   "execution_count": 48,
   "id": "506d24ea-0c64-4bff-bf82-56380560e6e3",
   "metadata": {},
   "outputs": [
    {
     "data": {
      "text/plain": [
       "(30,)"
      ]
     },
     "execution_count": 48,
     "metadata": {},
     "output_type": "execute_result"
    }
   ],
   "source": [
    "arr.shape"
   ]
  },
  {
   "cell_type": "code",
   "execution_count": 50,
   "id": "43c0b14c-f60a-42f0-9b56-57ab990c1fa2",
   "metadata": {},
   "outputs": [
    {
     "data": {
      "text/plain": [
       "(6, 5)"
      ]
     },
     "execution_count": 50,
     "metadata": {},
     "output_type": "execute_result"
    }
   ],
   "source": [
    "ar3=arr.reshape(6,5)\n",
    "ar3\n",
    "ar3.shape"
   ]
  },
  {
   "cell_type": "markdown",
   "id": "e2298a24",
   "metadata": {},
   "source": [
    "# Selection from array"
   ]
  },
  {
   "cell_type": "code",
   "execution_count": 51,
   "id": "c9def394",
   "metadata": {},
   "outputs": [
    {
     "data": {
      "text/plain": [
       "315"
      ]
     },
     "execution_count": 51,
     "metadata": {},
     "output_type": "execute_result"
    }
   ],
   "source": [
    "arr[3] #using index"
   ]
  },
  {
   "cell_type": "code",
   "execution_count": 52,
   "id": "374d8896",
   "metadata": {},
   "outputs": [
    {
     "data": {
      "text/plain": [
       "array([224, 641, 315, 782, 699])"
      ]
     },
     "execution_count": 52,
     "metadata": {},
     "output_type": "execute_result"
    }
   ],
   "source": [
    "arr[1:6] #values in a range of index"
   ]
  },
  {
   "cell_type": "code",
   "execution_count": 53,
   "id": "44598447",
   "metadata": {},
   "outputs": [
    {
     "data": {
      "text/plain": [
       "array([452, 224, 641, 315])"
      ]
     },
     "execution_count": 53,
     "metadata": {},
     "output_type": "execute_result"
    }
   ],
   "source": [
    "arr[:4] #default from 0 index"
   ]
  },
  {
   "cell_type": "code",
   "execution_count": 54,
   "id": "0a65b486",
   "metadata": {},
   "outputs": [
    {
     "data": {
      "text/plain": [
       "array([315, 782, 699, 786, 370, 256, 550, 500, 253, 563, 765, 464, 518,\n",
       "       467, 286, 481, 721, 796, 351, 491, 692, 681, 440, 700, 453, 584,\n",
       "       295])"
      ]
     },
     "execution_count": 54,
     "metadata": {},
     "output_type": "execute_result"
    }
   ],
   "source": [
    "arr[3:] #from specified index to end"
   ]
  },
  {
   "cell_type": "markdown",
   "id": "c37a9eb9-ee1f-49b2-b3ec-ee8b4cc1a1f6",
   "metadata": {},
   "source": [
    "# Broadcasting "
   ]
  },
  {
   "cell_type": "markdown",
   "id": "c840dd09-05c4-4b7b-bd51-b8a6036a3d11",
   "metadata": {},
   "source": [
    " Subject to certain constraints, the smaller array is “broadcast” across the larger array so that they have compatible shapes. "
   ]
  },
  {
   "cell_type": "code",
   "execution_count": 56,
   "id": "90528973-50f8-43cc-84c8-41937f87af5a",
   "metadata": {},
   "outputs": [
    {
     "data": {
      "text/plain": [
       "array([100, 100, 100, 100, 100, 699, 786, 370, 256, 550, 500, 253, 563,\n",
       "       765, 464, 518, 467, 286, 481, 721, 796, 351, 491, 692, 681, 440,\n",
       "       700, 453, 584, 295])"
      ]
     },
     "execution_count": 56,
     "metadata": {},
     "output_type": "execute_result"
    }
   ],
   "source": [
    "#Setting a value with index range \n",
    "arr[0:5]=100\n",
    "arr"
   ]
  },
  {
   "cell_type": "code",
   "execution_count": 65,
   "id": "88945db4-29e2-4c64-b6c2-2caa3c8a7ef7",
   "metadata": {},
   "outputs": [
    {
     "data": {
      "text/plain": [
       "array([10, 11, 12, 13, 14, 15, 16, 17, 18, 19])"
      ]
     },
     "execution_count": 65,
     "metadata": {},
     "output_type": "execute_result"
    }
   ],
   "source": [
    "# Reset array to its original values\n",
    "arr = np.arange(10,20)\n",
    "arr"
   ]
  },
  {
   "cell_type": "code",
   "execution_count": 66,
   "id": "d645f10d-d21e-4b9a-8220-6e06fda703f1",
   "metadata": {},
   "outputs": [
    {
     "data": {
      "text/plain": [
       "array([10, 11, 12, 13, 14])"
      ]
     },
     "execution_count": 66,
     "metadata": {},
     "output_type": "execute_result"
    }
   ],
   "source": [
    "#Slicing array and creating a view of it\n",
    "slice_of_arr = arr[0:5]\n",
    "\n",
    "slice_of_arr"
   ]
  },
  {
   "cell_type": "code",
   "execution_count": 67,
   "id": "3c33fab6-ad67-4675-93b4-401780c7af02",
   "metadata": {},
   "outputs": [
    {
     "data": {
      "text/plain": [
       "array([2222, 2222, 2222, 2222, 2222])"
      ]
     },
     "execution_count": 67,
     "metadata": {},
     "output_type": "execute_result"
    }
   ],
   "source": [
    "#changing slice\n",
    "slice_of_arr[:]=2222\n",
    "slice_of_arr"
   ]
  },
  {
   "cell_type": "markdown",
   "id": "67d5db8c-1086-4935-b03e-5e3e6eb05d83",
   "metadata": {},
   "source": [
    "The changes also occur in our original array"
   ]
  },
  {
   "cell_type": "code",
   "execution_count": 3,
   "id": "7003ffa4-b2b9-479e-b691-7f930eff0e93",
   "metadata": {},
   "outputs": [
    {
     "data": {
      "text/plain": [
       "array([10, 11, 12, 13, 14, 15, 16, 17, 18, 19])"
      ]
     },
     "execution_count": 3,
     "metadata": {},
     "output_type": "execute_result"
    }
   ],
   "source": [
    "#REDIFINING\n",
    "arr = np.arange(10,20) #Data is not copied.This is just a view to avoid memory problems\n",
    "arr"
   ]
  },
  {
   "cell_type": "code",
   "execution_count": 5,
   "id": "575916a0-d88f-4416-975f-7f05c01ba525",
   "metadata": {},
   "outputs": [
    {
     "data": {
      "text/plain": [
       "array([10, 11, 12, 13, 14, 15, 16, 17, 18, 19])"
      ]
     },
     "execution_count": 5,
     "metadata": {},
     "output_type": "execute_result"
    }
   ],
   "source": [
    "#To get a copy we need to explicitly mention:\n",
    "arr5 = arr.copy()\n",
    "arr5"
   ]
  },
  {
   "cell_type": "code",
   "execution_count": 7,
   "id": "20929788-9b54-4c69-a088-3d2a5b8973d2",
   "metadata": {},
   "outputs": [
    {
     "data": {
      "text/plain": [
       "array([2222, 2222,   12,   13,   14,   15,   16,   17,   18,   19])"
      ]
     },
     "execution_count": 7,
     "metadata": {},
     "output_type": "execute_result"
    }
   ],
   "source": [
    "#slicing and replacing\n",
    "arr5[0:2]=2222\n",
    "arr5"
   ]
  },
  {
   "cell_type": "code",
   "execution_count": 8,
   "id": "e5f56e3c-256f-48b9-8f74-8ffb03dc02c8",
   "metadata": {},
   "outputs": [
    {
     "data": {
      "text/plain": [
       "array([10, 11, 12, 13, 14, 15, 16, 17, 18, 19])"
      ]
     },
     "execution_count": 8,
     "metadata": {},
     "output_type": "execute_result"
    }
   ],
   "source": [
    "arr\n",
    "#No changes in orginal array"
   ]
  },
  {
   "cell_type": "markdown",
   "id": "984c5ad3-5f49-48f4-a57d-53e32cc09ff7",
   "metadata": {},
   "source": [
    "# Indexing a 2D array (matrices)"
   ]
  },
  {
   "cell_type": "markdown",
   "id": "7ef79a0f-6419-4dba-bc3a-6bfe535c1f30",
   "metadata": {},
   "source": [
    "General format:-arr[row][col]"
   ]
  },
  {
   "cell_type": "code",
   "execution_count": 9,
   "id": "4e0b2b83-ec0c-4e4a-8f0e-7f201bd1b988",
   "metadata": {},
   "outputs": [
    {
     "data": {
      "text/plain": [
       "array([[ 2,  4,  8],\n",
       "       [10, 12, 14],\n",
       "       [16, 18, 20]])"
      ]
     },
     "execution_count": 9,
     "metadata": {},
     "output_type": "execute_result"
    }
   ],
   "source": [
    "#Creating a new 2d array\n",
    "arr_2d = np.array(([2,4,8],[10,12,14],[16,18,20]))\n",
    "arr_2d"
   ]
  },
  {
   "cell_type": "code",
   "execution_count": 11,
   "id": "4c662b08-dcc2-4363-87a6-be4d8d52833f",
   "metadata": {},
   "outputs": [
    {
     "data": {
      "text/plain": [
       "array([2, 4, 8])"
      ]
     },
     "execution_count": 11,
     "metadata": {},
     "output_type": "execute_result"
    }
   ],
   "source": [
    "# access the 0th row\n",
    "arr_2d[0]"
   ]
  },
  {
   "cell_type": "code",
   "execution_count": 12,
   "id": "c2012248-c67b-4111-882c-9ef4c05d8bbc",
   "metadata": {},
   "outputs": [
    {
     "data": {
      "text/plain": [
       "array([10, 12, 14])"
      ]
     },
     "execution_count": 12,
     "metadata": {},
     "output_type": "execute_result"
    }
   ],
   "source": [
    "#access the 1st row\n",
    "arr_2d[1]"
   ]
  },
  {
   "cell_type": "code",
   "execution_count": 13,
   "id": "0ec0c2b3-a66e-463a-8a09-61ae0992418f",
   "metadata": {},
   "outputs": [
    {
     "data": {
      "text/plain": [
       "10"
      ]
     },
     "execution_count": 13,
     "metadata": {},
     "output_type": "execute_result"
    }
   ],
   "source": [
    "# Getting individual element value\n",
    "arr_2d[1][0]"
   ]
  },
  {
   "cell_type": "code",
   "execution_count": 14,
   "id": "61f70ca2-b885-472b-866b-a9789f8b2470",
   "metadata": {},
   "outputs": [
    {
     "data": {
      "text/plain": [
       "(3, 3)"
      ]
     },
     "execution_count": 14,
     "metadata": {},
     "output_type": "execute_result"
    }
   ],
   "source": [
    "arr_2d.shape"
   ]
  },
  {
   "cell_type": "markdown",
   "id": "58f3bbb1-7d21-4f8b-9ea0-0627cb155ee5",
   "metadata": {},
   "source": [
    "2d Array Slicing"
   ]
  },
  {
   "cell_type": "code",
   "execution_count": 15,
   "id": "f4492b2b-3280-4cb4-9ff0-3afaa10160b3",
   "metadata": {},
   "outputs": [
    {
     "data": {
      "text/plain": [
       "array([[ 4,  8],\n",
       "       [12, 14]])"
      ]
     },
     "execution_count": 15,
     "metadata": {},
     "output_type": "execute_result"
    }
   ],
   "source": [
    "#Shape (2,2) from top right corner\n",
    "arr_2d[:2,1:]"
   ]
  },
  {
   "cell_type": "code",
   "execution_count": 16,
   "id": "0f44af5f-4cbe-484d-8876-d38222c69e85",
   "metadata": {},
   "outputs": [
    {
     "data": {
      "text/plain": [
       "array([[2, 4, 8]])"
      ]
     },
     "execution_count": 16,
     "metadata": {},
     "output_type": "execute_result"
    }
   ],
   "source": [
    "#to print all the columns of the 0th row\n",
    "arr_2d[0:1,:]"
   ]
  },
  {
   "cell_type": "code",
   "execution_count": 17,
   "id": "f0058da6-6227-482c-95e2-b43558e9820e",
   "metadata": {},
   "outputs": [
    {
     "data": {
      "text/plain": [
       "array([[ 2,  4],\n",
       "       [10, 12]])"
      ]
     },
     "execution_count": 17,
     "metadata": {},
     "output_type": "execute_result"
    }
   ],
   "source": [
    "#Shape (2,2) from top left corner\n",
    "arr_2d[0:2,0:2]"
   ]
  },
  {
   "cell_type": "code",
   "execution_count": 18,
   "id": "23b233fd-56ed-4824-aa60-d7526386f9c6",
   "metadata": {},
   "outputs": [
    {
     "data": {
      "text/plain": [
       "array([[ 2],\n",
       "       [10],\n",
       "       [16]])"
      ]
     },
     "execution_count": 18,
     "metadata": {},
     "output_type": "execute_result"
    }
   ],
   "source": [
    "#to print all the 0th column elements\n",
    "arr_2d[:,0:1]"
   ]
  },
  {
   "cell_type": "code",
   "execution_count": 19,
   "id": "33b3ff6e-b5a4-40be-b69f-cb776b18569e",
   "metadata": {},
   "outputs": [
    {
     "data": {
      "text/plain": [
       "array([[10, 12],\n",
       "       [16, 18]])"
      ]
     },
     "execution_count": 19,
     "metadata": {},
     "output_type": "execute_result"
    }
   ],
   "source": [
    "#Shape (2,2) from bottom left corner\n",
    "arr_2d[1:,0:2]"
   ]
  },
  {
   "cell_type": "code",
   "execution_count": 20,
   "id": "5ca7f54b-1675-4005-83f8-18f1094396d0",
   "metadata": {},
   "outputs": [
    {
     "data": {
      "text/plain": [
       "array([16, 18, 20])"
      ]
     },
     "execution_count": 20,
     "metadata": {},
     "output_type": "execute_result"
    }
   ],
   "source": [
    "#Shape bottom row\n",
    "arr_2d[2]"
   ]
  },
  {
   "cell_type": "code",
   "execution_count": 22,
   "id": "84d49ea4-f35a-4d88-b932-0900c11a25ae",
   "metadata": {},
   "outputs": [
    {
     "data": {
      "text/plain": [
       "array([ 8, 14, 20])"
      ]
     },
     "execution_count": 22,
     "metadata": {},
     "output_type": "execute_result"
    }
   ],
   "source": [
    "# last column\n",
    "arr_2d[:,2]"
   ]
  },
  {
   "cell_type": "code",
   "execution_count": 23,
   "id": "2da75bd4-cc81-400f-ab63-19153e3caaf3",
   "metadata": {},
   "outputs": [
    {
     "data": {
      "text/plain": [
       "array([16, 18, 20])"
      ]
     },
     "execution_count": 23,
     "metadata": {},
     "output_type": "execute_result"
    }
   ],
   "source": [
    "# last row\n",
    "arr_2d[:][2]"
   ]
  },
  {
   "cell_type": "markdown",
   "id": "08ae3949-4563-4315-8346-cad8d79007cd",
   "metadata": {},
   "source": [
    "# Selection on the basis comparision operator"
   ]
  },
  {
   "cell_type": "code",
   "execution_count": 25,
   "id": "c59873e7-1ef1-4d33-811d-5fb6eaa2addc",
   "metadata": {},
   "outputs": [
    {
     "data": {
      "text/plain": [
       "array([10, 11, 12, 13, 14, 15, 16, 17, 18, 19])"
      ]
     },
     "execution_count": 25,
     "metadata": {},
     "output_type": "execute_result"
    }
   ],
   "source": [
    "#redifining array\n",
    "arr = np.arange(10,20)\n",
    "arr"
   ]
  },
  {
   "cell_type": "code",
   "execution_count": 27,
   "id": "3cad37d5-6e3d-403b-ad35-e350b0e02a2a",
   "metadata": {},
   "outputs": [
    {
     "data": {
      "text/plain": [
       "array([False, False, False,  True,  True,  True,  True,  True,  True,\n",
       "        True])"
      ]
     },
     "execution_count": 27,
     "metadata": {},
     "output_type": "execute_result"
    }
   ],
   "source": [
    "#are the array elements more than 12?\n",
    "arr > 12"
   ]
  },
  {
   "cell_type": "code",
   "execution_count": 29,
   "id": "1a2105c5-78d4-46d8-bdd3-ed6f1dacd967",
   "metadata": {},
   "outputs": [
    {
     "data": {
      "text/plain": [
       "array([False, False, False,  True,  True,  True,  True,  True,  True,\n",
       "        True])"
      ]
     },
     "execution_count": 29,
     "metadata": {},
     "output_type": "execute_result"
    }
   ],
   "source": [
    "#assigning the answer to an array\n",
    "bool_arr = arr>12\n",
    "bool_arr"
   ]
  },
  {
   "cell_type": "code",
   "execution_count": 30,
   "id": "59f6c0e4-cd0a-4329-ba4d-6904be525051",
   "metadata": {},
   "outputs": [
    {
     "data": {
      "text/plain": [
       "array([13, 14, 15, 16, 17, 18, 19])"
      ]
     },
     "execution_count": 30,
     "metadata": {},
     "output_type": "execute_result"
    }
   ],
   "source": [
    "arr[bool_arr]"
   ]
  },
  {
   "cell_type": "code",
   "execution_count": 31,
   "id": "e05b1184-97cb-419e-9e69-43fd2de9ae28",
   "metadata": {},
   "outputs": [
    {
     "data": {
      "text/plain": [
       "array([18, 19])"
      ]
     },
     "execution_count": 31,
     "metadata": {},
     "output_type": "execute_result"
    }
   ],
   "source": [
    "arr[arr>17]"
   ]
  },
  {
   "cell_type": "code",
   "execution_count": 32,
   "id": "4d09df6e-df77-4efc-bf7c-a3669a263fae",
   "metadata": {},
   "outputs": [
    {
     "data": {
      "text/plain": [
       "array([15, 16, 17, 18, 19])"
      ]
     },
     "execution_count": 32,
     "metadata": {},
     "output_type": "execute_result"
    }
   ],
   "source": [
    "#checking by a variable\n",
    "x = 14\n",
    "arr[arr>x]"
   ]
  },
  {
   "cell_type": "markdown",
   "id": "da29721b-3231-4381-9fe4-a0dafdbe015e",
   "metadata": {},
   "source": [
    "# Pandas\n",
    "Pandas is a Python library used for working with data sets. \n",
    "It has functions for analyzing, cleaning, exploring, and manipulating data."
   ]
  },
  {
   "cell_type": "code",
   "execution_count": 34,
   "id": "d72c895e-76b3-4403-95d3-a0a7dca3dc24",
   "metadata": {
    "scrolled": true
   },
   "outputs": [
    {
     "name": "stdout",
     "output_type": "stream",
     "text": [
      "Collecting pandas\n",
      "  Obtaining dependency information for pandas from https://files.pythonhosted.org/packages/11/17/fb1a34f3e73debbc2fd15a01ea17eaab3717943d08463ff4979a4f024b3f/pandas-2.1.4-cp311-cp311-win_amd64.whl.metadata\n",
      "  Downloading pandas-2.1.4-cp311-cp311-win_amd64.whl.metadata (18 kB)\n",
      "Requirement already satisfied: numpy<2,>=1.23.2 in c:\\users\\sireesha\\appdata\\local\\programs\\python\\python311\\lib\\site-packages (from pandas) (1.26.3)\n",
      "Requirement already satisfied: python-dateutil>=2.8.2 in c:\\users\\sireesha\\appdata\\local\\programs\\python\\python311\\lib\\site-packages (from pandas) (2.8.2)\n",
      "Collecting pytz>=2020.1 (from pandas)\n",
      "  Obtaining dependency information for pytz>=2020.1 from https://files.pythonhosted.org/packages/32/4d/aaf7eff5deb402fd9a24a1449a8119f00d74ae9c2efa79f8ef9994261fc2/pytz-2023.3.post1-py2.py3-none-any.whl.metadata\n",
      "  Downloading pytz-2023.3.post1-py2.py3-none-any.whl.metadata (22 kB)\n",
      "Collecting tzdata>=2022.1 (from pandas)\n",
      "  Obtaining dependency information for tzdata>=2022.1 from https://files.pythonhosted.org/packages/a3/fb/52b62131e21b24ee297e4e95ed41eba29647dad0e0051a92bb66b43c70ff/tzdata-2023.4-py2.py3-none-any.whl.metadata\n",
      "  Downloading tzdata-2023.4-py2.py3-none-any.whl.metadata (1.4 kB)\n",
      "Requirement already satisfied: six>=1.5 in c:\\users\\sireesha\\appdata\\local\\programs\\python\\python311\\lib\\site-packages (from python-dateutil>=2.8.2->pandas) (1.16.0)\n",
      "Downloading pandas-2.1.4-cp311-cp311-win_amd64.whl (10.6 MB)\n",
      "   ---------------------------------------- 0.0/10.6 MB ? eta -:--:--\n",
      "   ---------------------------------------- 0.0/10.6 MB ? eta -:--:--\n",
      "   ---------------------------------------- 0.0/10.6 MB 660.6 kB/s eta 0:00:17\n",
      "   ---------------------------------------- 0.0/10.6 MB 660.6 kB/s eta 0:00:17\n",
      "   ---------------------------------------- 0.0/10.6 MB 660.6 kB/s eta 0:00:17\n",
      "   ---------------------------------------- 0.1/10.6 MB 416.7 kB/s eta 0:00:26\n",
      "   ---------------------------------------- 0.1/10.6 MB 425.1 kB/s eta 0:00:25\n",
      "    --------------------------------------- 0.1/10.6 MB 448.2 kB/s eta 0:00:24\n",
      "    --------------------------------------- 0.2/10.6 MB 492.3 kB/s eta 0:00:22\n",
      "    --------------------------------------- 0.2/10.6 MB 492.3 kB/s eta 0:00:22\n",
      "    --------------------------------------- 0.2/10.6 MB 461.0 kB/s eta 0:00:23\n",
      "    --------------------------------------- 0.2/10.6 MB 503.2 kB/s eta 0:00:21\n",
      "   - -------------------------------------- 0.3/10.6 MB 501.4 kB/s eta 0:00:21\n",
      "   - -------------------------------------- 0.3/10.6 MB 478.3 kB/s eta 0:00:22\n",
      "   - -------------------------------------- 0.3/10.6 MB 507.9 kB/s eta 0:00:21\n",
      "   - -------------------------------------- 0.3/10.6 MB 499.5 kB/s eta 0:00:21\n",
      "   - -------------------------------------- 0.4/10.6 MB 506.8 kB/s eta 0:00:21\n",
      "   - -------------------------------------- 0.4/10.6 MB 495.3 kB/s eta 0:00:21\n",
      "   - -------------------------------------- 0.4/10.6 MB 511.3 kB/s eta 0:00:20\n",
      "   - -------------------------------------- 0.4/10.6 MB 500.7 kB/s eta 0:00:21\n",
      "   - -------------------------------------- 0.5/10.6 MB 486.0 kB/s eta 0:00:21\n",
      "   - -------------------------------------- 0.5/10.6 MB 486.0 kB/s eta 0:00:21\n",
      "   - -------------------------------------- 0.5/10.6 MB 489.1 kB/s eta 0:00:21\n",
      "   - -------------------------------------- 0.5/10.6 MB 489.0 kB/s eta 0:00:21\n",
      "   -- ------------------------------------- 0.5/10.6 MB 484.5 kB/s eta 0:00:21\n",
      "   -- ------------------------------------- 0.6/10.6 MB 494.0 kB/s eta 0:00:21\n",
      "   -- ------------------------------------- 0.6/10.6 MB 489.3 kB/s eta 0:00:21\n",
      "   -- ------------------------------------- 0.6/10.6 MB 496.0 kB/s eta 0:00:21\n",
      "   -- ------------------------------------- 0.6/10.6 MB 493.8 kB/s eta 0:00:21\n",
      "   -- ------------------------------------- 0.7/10.6 MB 493.5 kB/s eta 0:00:21\n",
      "   -- ------------------------------------- 0.7/10.6 MB 493.5 kB/s eta 0:00:21\n",
      "   -- ------------------------------------- 0.7/10.6 MB 482.5 kB/s eta 0:00:21\n",
      "   -- ------------------------------------- 0.7/10.6 MB 491.7 kB/s eta 0:00:21\n",
      "   -- ------------------------------------- 0.7/10.6 MB 491.5 kB/s eta 0:00:21\n",
      "   -- ------------------------------------- 0.8/10.6 MB 489.8 kB/s eta 0:00:21\n",
      "   --- ------------------------------------ 0.8/10.6 MB 495.0 kB/s eta 0:00:20\n",
      "   --- ------------------------------------ 0.8/10.6 MB 497.8 kB/s eta 0:00:20\n",
      "   --- ------------------------------------ 0.8/10.6 MB 493.1 kB/s eta 0:00:20\n",
      "   --- ------------------------------------ 0.9/10.6 MB 490.1 kB/s eta 0:00:20\n",
      "   --- ------------------------------------ 0.9/10.6 MB 493.1 kB/s eta 0:00:20\n",
      "   --- ------------------------------------ 0.9/10.6 MB 487.4 kB/s eta 0:00:20\n",
      "   --- ------------------------------------ 0.9/10.6 MB 493.0 kB/s eta 0:00:20\n",
      "   --- ------------------------------------ 0.9/10.6 MB 493.0 kB/s eta 0:00:20\n",
      "   --- ------------------------------------ 1.0/10.6 MB 489.1 kB/s eta 0:00:20\n",
      "   --- ------------------------------------ 1.0/10.6 MB 491.5 kB/s eta 0:00:20\n",
      "   --- ------------------------------------ 1.0/10.6 MB 491.6 kB/s eta 0:00:20\n",
      "   --- ------------------------------------ 1.0/10.6 MB 494.1 kB/s eta 0:00:20\n",
      "   ---- ----------------------------------- 1.1/10.6 MB 490.3 kB/s eta 0:00:20\n",
      "   ---- ----------------------------------- 1.1/10.6 MB 490.3 kB/s eta 0:00:20\n",
      "   ---- ----------------------------------- 1.1/10.6 MB 487.0 kB/s eta 0:00:20\n",
      "   ---- ----------------------------------- 1.1/10.6 MB 489.3 kB/s eta 0:00:20\n",
      "   ---- ----------------------------------- 1.2/10.6 MB 489.5 kB/s eta 0:00:20\n",
      "   ---- ----------------------------------- 1.2/10.6 MB 489.5 kB/s eta 0:00:20\n",
      "   ---- ----------------------------------- 1.2/10.6 MB 488.4 kB/s eta 0:00:20\n",
      "   ---- ----------------------------------- 1.2/10.6 MB 493.7 kB/s eta 0:00:20\n",
      "   ---- ----------------------------------- 1.2/10.6 MB 488.6 kB/s eta 0:00:20\n",
      "   ---- ----------------------------------- 1.3/10.6 MB 487.6 kB/s eta 0:00:20\n",
      "   ---- ----------------------------------- 1.3/10.6 MB 491.5 kB/s eta 0:00:19\n",
      "   ---- ----------------------------------- 1.3/10.6 MB 489.6 kB/s eta 0:00:20\n",
      "   ----- ---------------------------------- 1.3/10.6 MB 486.0 kB/s eta 0:00:20\n",
      "   ----- ---------------------------------- 1.4/10.6 MB 487.8 kB/s eta 0:00:19\n",
      "   ----- ---------------------------------- 1.4/10.6 MB 488.0 kB/s eta 0:00:19\n",
      "   ----- ---------------------------------- 1.4/10.6 MB 486.2 kB/s eta 0:00:19\n",
      "   ----- ---------------------------------- 1.4/10.6 MB 487.1 kB/s eta 0:00:19\n",
      "   ----- ---------------------------------- 1.4/10.6 MB 485.5 kB/s eta 0:00:19\n",
      "   ----- ---------------------------------- 1.5/10.6 MB 488.1 kB/s eta 0:00:19\n",
      "   ----- ---------------------------------- 1.5/10.6 MB 487.3 kB/s eta 0:00:19\n",
      "   ----- ---------------------------------- 1.5/10.6 MB 487.5 kB/s eta 0:00:19\n",
      "   ----- ---------------------------------- 1.5/10.6 MB 489.2 kB/s eta 0:00:19\n",
      "   ----- ---------------------------------- 1.6/10.6 MB 485.9 kB/s eta 0:00:19\n",
      "   ----- ---------------------------------- 1.6/10.6 MB 485.9 kB/s eta 0:00:19\n",
      "   ------ --------------------------------- 1.6/10.6 MB 487.6 kB/s eta 0:00:19\n",
      "   ------ --------------------------------- 1.6/10.6 MB 487.6 kB/s eta 0:00:19\n",
      "   ------ --------------------------------- 1.6/10.6 MB 485.5 kB/s eta 0:00:19\n",
      "   ------ --------------------------------- 1.7/10.6 MB 487.0 kB/s eta 0:00:19\n",
      "   ------ --------------------------------- 1.7/10.6 MB 487.2 kB/s eta 0:00:19\n",
      "   ------ --------------------------------- 1.7/10.6 MB 488.6 kB/s eta 0:00:19\n",
      "   ------ --------------------------------- 1.8/10.6 MB 488.7 kB/s eta 0:00:19\n",
      "   ------ --------------------------------- 1.8/10.6 MB 488.0 kB/s eta 0:00:19\n",
      "   ------ --------------------------------- 1.8/10.6 MB 488.0 kB/s eta 0:00:19\n",
      "   ------ --------------------------------- 1.8/10.6 MB 486.7 kB/s eta 0:00:19\n",
      "   ------ --------------------------------- 1.8/10.6 MB 488.1 kB/s eta 0:00:18\n",
      "   ------ --------------------------------- 1.9/10.6 MB 487.5 kB/s eta 0:00:18\n",
      "   ------- -------------------------------- 1.9/10.6 MB 485.6 kB/s eta 0:00:18\n",
      "   ------- -------------------------------- 1.9/10.6 MB 486.2 kB/s eta 0:00:18\n",
      "   ------- -------------------------------- 1.9/10.6 MB 487.6 kB/s eta 0:00:18\n",
      "   ------- -------------------------------- 1.9/10.6 MB 487.7 kB/s eta 0:00:18\n",
      "   ------- -------------------------------- 2.0/10.6 MB 487.7 kB/s eta 0:00:18\n",
      "   ------- -------------------------------- 2.0/10.6 MB 487.1 kB/s eta 0:00:18\n",
      "   ------- -------------------------------- 2.0/10.6 MB 489.0 kB/s eta 0:00:18\n",
      "   ------- -------------------------------- 2.0/10.6 MB 488.4 kB/s eta 0:00:18\n",
      "   ------- -------------------------------- 2.1/10.6 MB 485.5 kB/s eta 0:00:18\n",
      "   ------- -------------------------------- 2.1/10.6 MB 486.7 kB/s eta 0:00:18\n",
      "   ------- -------------------------------- 2.1/10.6 MB 486.8 kB/s eta 0:00:18\n",
      "   -------- ------------------------------- 2.1/10.6 MB 488.1 kB/s eta 0:00:18\n",
      "   -------- ------------------------------- 2.2/10.6 MB 488.1 kB/s eta 0:00:18\n",
      "   -------- ------------------------------- 2.2/10.6 MB 487.5 kB/s eta 0:00:18\n",
      "   -------- ------------------------------- 2.2/10.6 MB 489.2 kB/s eta 0:00:18\n",
      "   -------- ------------------------------- 2.2/10.6 MB 488.2 kB/s eta 0:00:18\n",
      "   -------- ------------------------------- 2.3/10.6 MB 488.8 kB/s eta 0:00:18\n",
      "   -------- ------------------------------- 2.3/10.6 MB 487.7 kB/s eta 0:00:18\n",
      "   -------- ------------------------------- 2.3/10.6 MB 488.8 kB/s eta 0:00:18\n",
      "   -------- ------------------------------- 2.3/10.6 MB 486.2 kB/s eta 0:00:18\n",
      "   -------- ------------------------------- 2.3/10.6 MB 488.3 kB/s eta 0:00:17\n",
      "   -------- ------------------------------- 2.4/10.6 MB 485.7 kB/s eta 0:00:18\n",
      "   -------- ------------------------------- 2.4/10.6 MB 485.8 kB/s eta 0:00:17\n",
      "   --------- ------------------------------ 2.4/10.6 MB 486.8 kB/s eta 0:00:17\n",
      "   --------- ------------------------------ 2.4/10.6 MB 487.9 kB/s eta 0:00:17\n",
      "   --------- ------------------------------ 2.5/10.6 MB 488.0 kB/s eta 0:00:17\n",
      "   --------- ------------------------------ 2.5/10.6 MB 488.5 kB/s eta 0:00:17\n",
      "   --------- ------------------------------ 2.5/10.6 MB 489.1 kB/s eta 0:00:17\n",
      "   --------- ------------------------------ 2.5/10.6 MB 488.1 kB/s eta 0:00:17\n",
      "   --------- ------------------------------ 2.5/10.6 MB 486.1 kB/s eta 0:00:17\n",
      "   --------- ------------------------------ 2.5/10.6 MB 486.7 kB/s eta 0:00:17\n",
      "   --------- ------------------------------ 2.6/10.6 MB 487.2 kB/s eta 0:00:17\n",
      "   --------- ------------------------------ 2.6/10.6 MB 487.7 kB/s eta 0:00:17\n",
      "   --------- ------------------------------ 2.6/10.6 MB 486.4 kB/s eta 0:00:17\n",
      "   --------- ------------------------------ 2.6/10.6 MB 486.4 kB/s eta 0:00:17\n",
      "   ---------- ----------------------------- 2.7/10.6 MB 488.8 kB/s eta 0:00:17\n",
      "   ---------- ----------------------------- 2.7/10.6 MB 489.7 kB/s eta 0:00:17\n",
      "   ---------- ----------------------------- 2.7/10.6 MB 486.0 kB/s eta 0:00:17\n",
      "   ---------- ----------------------------- 2.7/10.6 MB 485.6 kB/s eta 0:00:17\n",
      "   ---------- ----------------------------- 2.8/10.6 MB 487.0 kB/s eta 0:00:17\n",
      "   ---------- ----------------------------- 2.8/10.6 MB 488.0 kB/s eta 0:00:17\n",
      "   ---------- ----------------------------- 2.8/10.6 MB 488.0 kB/s eta 0:00:16\n",
      "   ---------- ----------------------------- 2.8/10.6 MB 488.9 kB/s eta 0:00:16\n",
      "   ---------- ----------------------------- 2.9/10.6 MB 487.2 kB/s eta 0:00:16\n",
      "   ---------- ----------------------------- 2.9/10.6 MB 488.0 kB/s eta 0:00:16\n",
      "   ---------- ----------------------------- 2.9/10.6 MB 488.1 kB/s eta 0:00:16\n",
      "   ----------- ---------------------------- 2.9/10.6 MB 489.0 kB/s eta 0:00:16\n",
      "   ----------- ---------------------------- 2.9/10.6 MB 489.0 kB/s eta 0:00:16\n",
      "   ----------- ---------------------------- 3.0/10.6 MB 485.2 kB/s eta 0:00:16\n",
      "   ----------- ---------------------------- 3.0/10.6 MB 486.5 kB/s eta 0:00:16\n",
      "   ----------- ---------------------------- 3.0/10.6 MB 486.6 kB/s eta 0:00:16\n",
      "   ----------- ---------------------------- 3.0/10.6 MB 487.5 kB/s eta 0:00:16\n",
      "   ----------- ---------------------------- 3.1/10.6 MB 486.2 kB/s eta 0:00:16\n",
      "   ----------- ---------------------------- 3.1/10.6 MB 488.3 kB/s eta 0:00:16\n",
      "   ----------- ---------------------------- 3.1/10.6 MB 486.7 kB/s eta 0:00:16\n",
      "   ----------- ---------------------------- 3.1/10.6 MB 487.9 kB/s eta 0:00:16\n",
      "   ----------- ---------------------------- 3.2/10.6 MB 486.0 kB/s eta 0:00:16\n",
      "   ----------- ---------------------------- 3.2/10.6 MB 486.8 kB/s eta 0:00:16\n",
      "   ------------ --------------------------- 3.2/10.6 MB 485.7 kB/s eta 0:00:16\n",
      "   ------------ --------------------------- 3.2/10.6 MB 487.7 kB/s eta 0:00:16\n",
      "   ------------ --------------------------- 3.3/10.6 MB 486.5 kB/s eta 0:00:16\n",
      "   ------------ --------------------------- 3.3/10.6 MB 487.3 kB/s eta 0:00:16\n",
      "   ------------ --------------------------- 3.3/10.6 MB 488.5 kB/s eta 0:00:15\n",
      "   ------------ --------------------------- 3.3/10.6 MB 486.6 kB/s eta 0:00:15\n",
      "   ------------ --------------------------- 3.4/10.6 MB 488.2 kB/s eta 0:00:15\n",
      "   ------------ --------------------------- 3.4/10.6 MB 487.5 kB/s eta 0:00:15\n",
      "   ------------ --------------------------- 3.4/10.6 MB 487.5 kB/s eta 0:00:15\n",
      "   ------------ --------------------------- 3.4/10.6 MB 486.8 kB/s eta 0:00:15\n",
      "   ------------ --------------------------- 3.4/10.6 MB 486.8 kB/s eta 0:00:15\n",
      "   ------------ --------------------------- 3.4/10.6 MB 486.8 kB/s eta 0:00:15\n",
      "   ------------- -------------------------- 3.5/10.6 MB 487.2 kB/s eta 0:00:15\n",
      "   ------------- -------------------------- 3.5/10.6 MB 486.5 kB/s eta 0:00:15\n",
      "   ------------- -------------------------- 3.5/10.6 MB 486.6 kB/s eta 0:00:15\n",
      "   ------------- -------------------------- 3.5/10.6 MB 487.3 kB/s eta 0:00:15\n",
      "   ------------- -------------------------- 3.6/10.6 MB 487.4 kB/s eta 0:00:15\n",
      "   ------------- -------------------------- 3.6/10.6 MB 487.0 kB/s eta 0:00:15\n",
      "   ------------- -------------------------- 3.6/10.6 MB 488.1 kB/s eta 0:00:15\n",
      "   ------------- -------------------------- 3.6/10.6 MB 488.8 kB/s eta 0:00:15\n",
      "   ------------- -------------------------- 3.7/10.6 MB 488.1 kB/s eta 0:00:15\n",
      "   ------------- -------------------------- 3.7/10.6 MB 488.1 kB/s eta 0:00:15\n",
      "   ------------- -------------------------- 3.7/10.6 MB 486.5 kB/s eta 0:00:15\n",
      "   -------------- ------------------------- 3.7/10.6 MB 488.8 kB/s eta 0:00:15\n",
      "   -------------- ------------------------- 3.7/10.6 MB 488.2 kB/s eta 0:00:15\n",
      "   -------------- ------------------------- 3.7/10.6 MB 488.2 kB/s eta 0:00:15\n",
      "   -------------- ------------------------- 3.8/10.6 MB 486.2 kB/s eta 0:00:15\n",
      "   -------------- ------------------------- 3.8/10.6 MB 487.6 kB/s eta 0:00:14\n",
      "   -------------- ------------------------- 3.8/10.6 MB 487.0 kB/s eta 0:00:14\n",
      "   -------------- ------------------------- 3.9/10.6 MB 487.0 kB/s eta 0:00:14\n",
      "   -------------- ------------------------- 3.9/10.6 MB 486.7 kB/s eta 0:00:14\n",
      "   -------------- ------------------------- 3.9/10.6 MB 487.7 kB/s eta 0:00:14\n",
      "   -------------- ------------------------- 3.9/10.6 MB 487.4 kB/s eta 0:00:14\n",
      "   -------------- ------------------------- 4.0/10.6 MB 487.4 kB/s eta 0:00:14\n",
      "   --------------- ------------------------ 4.0/10.6 MB 488.1 kB/s eta 0:00:14\n",
      "   --------------- ------------------------ 4.0/10.6 MB 485.6 kB/s eta 0:00:14\n",
      "   --------------- ------------------------ 4.0/10.6 MB 487.2 kB/s eta 0:00:14\n",
      "   --------------- ------------------------ 4.0/10.6 MB 487.2 kB/s eta 0:00:14\n",
      "   --------------- ------------------------ 4.1/10.6 MB 487.9 kB/s eta 0:00:14\n",
      "   --------------- ------------------------ 4.1/10.6 MB 487.0 kB/s eta 0:00:14\n",
      "   --------------- ------------------------ 4.1/10.6 MB 487.3 kB/s eta 0:00:14\n",
      "   --------------- ------------------------ 4.1/10.6 MB 488.5 kB/s eta 0:00:14\n",
      "   --------------- ------------------------ 4.2/10.6 MB 487.9 kB/s eta 0:00:14\n",
      "   --------------- ------------------------ 4.2/10.6 MB 488.0 kB/s eta 0:00:14\n",
      "   --------------- ------------------------ 4.2/10.6 MB 488.6 kB/s eta 0:00:14\n",
      "   --------------- ------------------------ 4.2/10.6 MB 488.3 kB/s eta 0:00:14\n",
      "   --------------- ------------------------ 4.2/10.6 MB 486.8 kB/s eta 0:00:14\n",
      "   ---------------- ----------------------- 4.3/10.6 MB 486.8 kB/s eta 0:00:14\n",
      "   ---------------- ----------------------- 4.3/10.6 MB 487.5 kB/s eta 0:00:13\n",
      "   ---------------- ----------------------- 4.3/10.6 MB 487.5 kB/s eta 0:00:13\n",
      "   ---------------- ----------------------- 4.3/10.6 MB 488.1 kB/s eta 0:00:13\n",
      "   ---------------- ----------------------- 4.4/10.6 MB 487.2 kB/s eta 0:00:13\n",
      "   ---------------- ----------------------- 4.4/10.6 MB 488.7 kB/s eta 0:00:13\n",
      "   ---------------- ----------------------- 4.4/10.6 MB 488.7 kB/s eta 0:00:13\n",
      "   ---------------- ----------------------- 4.4/10.6 MB 488.2 kB/s eta 0:00:13\n",
      "   ---------------- ----------------------- 4.5/10.6 MB 488.7 kB/s eta 0:00:13\n",
      "   ---------------- ----------------------- 4.5/10.6 MB 487.6 kB/s eta 0:00:13\n",
      "   ---------------- ----------------------- 4.5/10.6 MB 487.7 kB/s eta 0:00:13\n",
      "   ----------------- ---------------------- 4.5/10.6 MB 487.1 kB/s eta 0:00:13\n",
      "   ----------------- ---------------------- 4.6/10.6 MB 488.2 kB/s eta 0:00:13\n",
      "   ----------------- ---------------------- 4.6/10.6 MB 487.7 kB/s eta 0:00:13\n",
      "   ----------------- ---------------------- 4.6/10.6 MB 486.9 kB/s eta 0:00:13\n",
      "   ----------------- ---------------------- 4.6/10.6 MB 488.3 kB/s eta 0:00:13\n",
      "   ----------------- ---------------------- 4.6/10.6 MB 488.3 kB/s eta 0:00:13\n",
      "   ----------------- ---------------------- 4.7/10.6 MB 488.8 kB/s eta 0:00:13\n",
      "   ----------------- ---------------------- 4.7/10.6 MB 486.8 kB/s eta 0:00:13\n",
      "   ----------------- ---------------------- 4.7/10.6 MB 487.3 kB/s eta 0:00:13\n",
      "   ----------------- ---------------------- 4.7/10.6 MB 487.3 kB/s eta 0:00:13\n",
      "   ----------------- ---------------------- 4.8/10.6 MB 487.9 kB/s eta 0:00:13\n",
      "   ------------------ --------------------- 4.8/10.6 MB 487.1 kB/s eta 0:00:12\n",
      "   ------------------ --------------------- 4.8/10.6 MB 488.4 kB/s eta 0:00:12\n",
      "   ------------------ --------------------- 4.8/10.6 MB 487.7 kB/s eta 0:00:12\n",
      "   ------------------ --------------------- 4.8/10.6 MB 487.1 kB/s eta 0:00:12\n",
      "   ------------------ --------------------- 4.8/10.6 MB 487.1 kB/s eta 0:00:12\n",
      "   ------------------ --------------------- 4.9/10.6 MB 487.4 kB/s eta 0:00:12\n",
      "   ------------------ --------------------- 4.9/10.6 MB 489.0 kB/s eta 0:00:12\n",
      "   ------------------ --------------------- 4.9/10.6 MB 487.0 kB/s eta 0:00:12\n",
      "   ------------------ --------------------- 5.0/10.6 MB 488.0 kB/s eta 0:00:12\n",
      "   ------------------ --------------------- 5.0/10.6 MB 487.5 kB/s eta 0:00:12\n",
      "   ------------------ --------------------- 5.0/10.6 MB 486.8 kB/s eta 0:00:12\n",
      "   ------------------ --------------------- 5.0/10.6 MB 488.0 kB/s eta 0:00:12\n",
      "   ------------------- -------------------- 5.1/10.6 MB 488.1 kB/s eta 0:00:12\n",
      "   ------------------- -------------------- 5.1/10.6 MB 487.9 kB/s eta 0:00:12\n",
      "   ------------------- -------------------- 5.1/10.6 MB 487.9 kB/s eta 0:00:12\n",
      "   ------------------- -------------------- 5.1/10.6 MB 488.4 kB/s eta 0:00:12\n",
      "   ------------------- -------------------- 5.1/10.6 MB 488.4 kB/s eta 0:00:12\n",
      "   ------------------- -------------------- 5.2/10.6 MB 487.7 kB/s eta 0:00:12\n",
      "   ------------------- -------------------- 5.2/10.6 MB 487.7 kB/s eta 0:00:12\n",
      "   ------------------- -------------------- 5.2/10.6 MB 488.2 kB/s eta 0:00:12\n",
      "   ------------------- -------------------- 5.2/10.6 MB 488.2 kB/s eta 0:00:12\n",
      "   ------------------- -------------------- 5.3/10.6 MB 487.7 kB/s eta 0:00:11\n",
      "   ------------------- -------------------- 5.3/10.6 MB 487.8 kB/s eta 0:00:11\n",
      "   ------------------- -------------------- 5.3/10.6 MB 488.2 kB/s eta 0:00:11\n",
      "   -------------------- ------------------- 5.3/10.6 MB 488.2 kB/s eta 0:00:11\n",
      "   -------------------- ------------------- 5.4/10.6 MB 488.0 kB/s eta 0:00:11\n",
      "   -------------------- ------------------- 5.4/10.6 MB 488.7 kB/s eta 0:00:11\n",
      "   -------------------- ------------------- 5.4/10.6 MB 489.2 kB/s eta 0:00:11\n",
      "   -------------------- ------------------- 5.4/10.6 MB 487.4 kB/s eta 0:00:11\n",
      "   -------------------- ------------------- 5.4/10.6 MB 487.4 kB/s eta 0:00:11\n",
      "   -------------------- ------------------- 5.5/10.6 MB 487.9 kB/s eta 0:00:11\n",
      "   -------------------- ------------------- 5.5/10.6 MB 487.7 kB/s eta 0:00:11\n",
      "   -------------------- ------------------- 5.5/10.6 MB 486.8 kB/s eta 0:00:11\n",
      "   -------------------- ------------------- 5.5/10.6 MB 487.9 kB/s eta 0:00:11\n",
      "   -------------------- ------------------- 5.6/10.6 MB 487.3 kB/s eta 0:00:11\n",
      "   -------------------- ------------------- 5.6/10.6 MB 487.5 kB/s eta 0:00:11\n",
      "   --------------------- ------------------ 5.6/10.6 MB 488.4 kB/s eta 0:00:11\n",
      "   --------------------- ------------------ 5.6/10.6 MB 487.3 kB/s eta 0:00:11\n",
      "   --------------------- ------------------ 5.7/10.6 MB 488.0 kB/s eta 0:00:11\n",
      "   --------------------- ------------------ 5.7/10.6 MB 488.5 kB/s eta 0:00:11\n",
      "   --------------------- ------------------ 5.7/10.6 MB 488.5 kB/s eta 0:00:11\n",
      "   --------------------- ------------------ 5.7/10.6 MB 488.2 kB/s eta 0:00:11\n",
      "   --------------------- ------------------ 5.7/10.6 MB 487.2 kB/s eta 0:00:11\n",
      "   --------------------- ------------------ 5.8/10.6 MB 487.6 kB/s eta 0:00:10\n",
      "   --------------------- ------------------ 5.8/10.6 MB 487.7 kB/s eta 0:00:10\n",
      "   --------------------- ------------------ 5.8/10.6 MB 488.1 kB/s eta 0:00:10\n",
      "   --------------------- ------------------ 5.8/10.6 MB 488.1 kB/s eta 0:00:10\n",
      "   ---------------------- ----------------- 5.9/10.6 MB 488.6 kB/s eta 0:00:10\n",
      "   ---------------------- ----------------- 5.9/10.6 MB 488.6 kB/s eta 0:00:10\n",
      "   ---------------------- ----------------- 5.9/10.6 MB 488.1 kB/s eta 0:00:10\n",
      "   ---------------------- ----------------- 5.9/10.6 MB 487.9 kB/s eta 0:00:10\n",
      "   ---------------------- ----------------- 5.9/10.6 MB 487.9 kB/s eta 0:00:10\n",
      "   ---------------------- ----------------- 6.0/10.6 MB 488.4 kB/s eta 0:00:10\n",
      "   ---------------------- ----------------- 6.0/10.6 MB 487.3 kB/s eta 0:00:10\n",
      "   ---------------------- ----------------- 6.0/10.6 MB 488.2 kB/s eta 0:00:10\n",
      "   ---------------------- ----------------- 6.0/10.6 MB 488.6 kB/s eta 0:00:10\n",
      "   ---------------------- ----------------- 6.1/10.6 MB 488.0 kB/s eta 0:00:10\n",
      "   ---------------------- ----------------- 6.1/10.6 MB 488.2 kB/s eta 0:00:10\n",
      "   ----------------------- ---------------- 6.1/10.6 MB 488.5 kB/s eta 0:00:10\n",
      "   ----------------------- ---------------- 6.1/10.6 MB 488.5 kB/s eta 0:00:10\n",
      "   ----------------------- ---------------- 6.2/10.6 MB 487.9 kB/s eta 0:00:10\n",
      "   ----------------------- ---------------- 6.2/10.6 MB 487.5 kB/s eta 0:00:10\n",
      "   ----------------------- ---------------- 6.2/10.6 MB 488.3 kB/s eta 0:00:10\n",
      "   ----------------------- ---------------- 6.2/10.6 MB 487.9 kB/s eta 0:00:10\n",
      "   ----------------------- ---------------- 6.2/10.6 MB 487.9 kB/s eta 0:00:10\n",
      "   ----------------------- ---------------- 6.3/10.6 MB 487.5 kB/s eta 0:00:09\n",
      "   ----------------------- ---------------- 6.3/10.6 MB 489.1 kB/s eta 0:00:09\n",
      "   ----------------------- ---------------- 6.3/10.6 MB 489.1 kB/s eta 0:00:09\n",
      "   ----------------------- ---------------- 6.3/10.6 MB 488.0 kB/s eta 0:00:09\n",
      "   ----------------------- ---------------- 6.3/10.6 MB 487.6 kB/s eta 0:00:09\n",
      "   ------------------------ --------------- 6.4/10.6 MB 488.4 kB/s eta 0:00:09\n",
      "   ------------------------ --------------- 6.4/10.6 MB 488.0 kB/s eta 0:00:09\n",
      "   ------------------------ --------------- 6.4/10.6 MB 487.4 kB/s eta 0:00:09\n",
      "   ------------------------ --------------- 6.5/10.6 MB 488.4 kB/s eta 0:00:09\n",
      "   ------------------------ --------------- 6.5/10.6 MB 488.4 kB/s eta 0:00:09\n",
      "   ------------------------ --------------- 6.5/10.6 MB 488.4 kB/s eta 0:00:09\n",
      "   ------------------------ --------------- 6.5/10.6 MB 488.9 kB/s eta 0:00:09\n",
      "   ------------------------ --------------- 6.5/10.6 MB 488.5 kB/s eta 0:00:09\n",
      "   ------------------------ --------------- 6.6/10.6 MB 487.9 kB/s eta 0:00:09\n",
      "   ------------------------ --------------- 6.6/10.6 MB 488.9 kB/s eta 0:00:09\n",
      "   ------------------------ --------------- 6.6/10.6 MB 487.9 kB/s eta 0:00:09\n",
      "   ------------------------ --------------- 6.6/10.6 MB 487.8 kB/s eta 0:00:09\n",
      "   ------------------------- -------------- 6.7/10.6 MB 487.2 kB/s eta 0:00:09\n",
      "   ------------------------- -------------- 6.7/10.6 MB 488.2 kB/s eta 0:00:09\n",
      "   ------------------------- -------------- 6.7/10.6 MB 488.2 kB/s eta 0:00:09\n",
      "   ------------------------- -------------- 6.7/10.6 MB 487.3 kB/s eta 0:00:08\n",
      "   ------------------------- -------------- 6.8/10.6 MB 488.0 kB/s eta 0:00:08\n",
      "   ------------------------- -------------- 6.8/10.6 MB 488.2 kB/s eta 0:00:08\n",
      "   ------------------------- -------------- 6.8/10.6 MB 488.2 kB/s eta 0:00:08\n",
      "   ------------------------- -------------- 6.8/10.6 MB 486.6 kB/s eta 0:00:08\n",
      "   ------------------------- -------------- 6.8/10.6 MB 488.4 kB/s eta 0:00:08\n",
      "   ------------------------- -------------- 6.9/10.6 MB 487.5 kB/s eta 0:00:08\n",
      "   ------------------------- -------------- 6.9/10.6 MB 487.5 kB/s eta 0:00:08\n",
      "   -------------------------- ------------- 6.9/10.6 MB 487.9 kB/s eta 0:00:08\n",
      "   -------------------------- ------------- 6.9/10.6 MB 487.4 kB/s eta 0:00:08\n",
      "   -------------------------- ------------- 7.0/10.6 MB 487.8 kB/s eta 0:00:08\n",
      "   -------------------------- ------------- 7.0/10.6 MB 487.8 kB/s eta 0:00:08\n",
      "   -------------------------- ------------- 7.0/10.6 MB 488.1 kB/s eta 0:00:08\n",
      "   -------------------------- ------------- 7.0/10.6 MB 488.2 kB/s eta 0:00:08\n",
      "   -------------------------- ------------- 7.0/10.6 MB 487.8 kB/s eta 0:00:08\n",
      "   -------------------------- ------------- 7.1/10.6 MB 487.7 kB/s eta 0:00:08\n",
      "   -------------------------- ------------- 7.1/10.6 MB 487.5 kB/s eta 0:00:08\n",
      "   -------------------------- ------------- 7.1/10.6 MB 488.0 kB/s eta 0:00:08\n",
      "   -------------------------- ------------- 7.1/10.6 MB 487.2 kB/s eta 0:00:08\n",
      "   --------------------------- ------------ 7.2/10.6 MB 487.9 kB/s eta 0:00:08\n",
      "   --------------------------- ------------ 7.2/10.6 MB 487.5 kB/s eta 0:00:08\n",
      "   --------------------------- ------------ 7.2/10.6 MB 488.0 kB/s eta 0:00:07\n",
      "   --------------------------- ------------ 7.2/10.6 MB 488.4 kB/s eta 0:00:07\n",
      "   --------------------------- ------------ 7.3/10.6 MB 488.4 kB/s eta 0:00:07\n",
      "   --------------------------- ------------ 7.3/10.6 MB 488.3 kB/s eta 0:00:07\n",
      "   --------------------------- ------------ 7.3/10.6 MB 487.9 kB/s eta 0:00:07\n",
      "   --------------------------- ------------ 7.3/10.6 MB 487.8 kB/s eta 0:00:07\n",
      "   --------------------------- ------------ 7.3/10.6 MB 487.8 kB/s eta 0:00:07\n",
      "   --------------------------- ------------ 7.4/10.6 MB 488.1 kB/s eta 0:00:07\n",
      "   --------------------------- ------------ 7.4/10.6 MB 487.7 kB/s eta 0:00:07\n",
      "   --------------------------- ------------ 7.4/10.6 MB 488.0 kB/s eta 0:00:07\n",
      "   --------------------------- ------------ 7.4/10.6 MB 487.7 kB/s eta 0:00:07\n",
      "   ---------------------------- ----------- 7.4/10.6 MB 487.5 kB/s eta 0:00:07\n",
      "   ---------------------------- ----------- 7.5/10.6 MB 488.4 kB/s eta 0:00:07\n",
      "   ---------------------------- ----------- 7.5/10.6 MB 488.0 kB/s eta 0:00:07\n",
      "   ---------------------------- ----------- 7.5/10.6 MB 487.9 kB/s eta 0:00:07\n",
      "   ---------------------------- ----------- 7.5/10.6 MB 487.6 kB/s eta 0:00:07\n",
      "   ---------------------------- ----------- 7.6/10.6 MB 488.2 kB/s eta 0:00:07\n",
      "   ---------------------------- ----------- 7.6/10.6 MB 487.9 kB/s eta 0:00:07\n",
      "   ---------------------------- ----------- 7.6/10.6 MB 487.9 kB/s eta 0:00:07\n",
      "   ---------------------------- ----------- 7.6/10.6 MB 488.2 kB/s eta 0:00:07\n",
      "   ---------------------------- ----------- 7.6/10.6 MB 488.2 kB/s eta 0:00:07\n",
      "   ---------------------------- ----------- 7.7/10.6 MB 488.6 kB/s eta 0:00:06\n",
      "   ----------------------------- ---------- 7.7/10.6 MB 488.6 kB/s eta 0:00:06\n",
      "   ----------------------------- ---------- 7.7/10.6 MB 488.9 kB/s eta 0:00:06\n",
      "   ----------------------------- ---------- 7.8/10.6 MB 487.2 kB/s eta 0:00:06\n",
      "   ----------------------------- ---------- 7.8/10.6 MB 488.0 kB/s eta 0:00:06\n",
      "   ----------------------------- ---------- 7.8/10.6 MB 488.0 kB/s eta 0:00:06\n",
      "   ----------------------------- ---------- 7.8/10.6 MB 488.3 kB/s eta 0:00:06\n",
      "   ----------------------------- ---------- 7.9/10.6 MB 488.3 kB/s eta 0:00:06\n",
      "   ----------------------------- ---------- 7.9/10.6 MB 488.0 kB/s eta 0:00:06\n",
      "   ----------------------------- ---------- 7.9/10.6 MB 488.2 kB/s eta 0:00:06\n",
      "   ----------------------------- ---------- 7.9/10.6 MB 487.9 kB/s eta 0:00:06\n",
      "   ----------------------------- ---------- 7.9/10.6 MB 488.4 kB/s eta 0:00:06\n",
      "   ----------------------------- ---------- 7.9/10.6 MB 488.4 kB/s eta 0:00:06\n",
      "   ------------------------------ --------- 8.0/10.6 MB 488.1 kB/s eta 0:00:06\n",
      "   ------------------------------ --------- 8.0/10.6 MB 487.8 kB/s eta 0:00:06\n",
      "   ------------------------------ --------- 8.0/10.6 MB 487.8 kB/s eta 0:00:06\n",
      "   ------------------------------ --------- 8.0/10.6 MB 488.1 kB/s eta 0:00:06\n",
      "   ------------------------------ --------- 8.1/10.6 MB 488.1 kB/s eta 0:00:06\n",
      "   ------------------------------ --------- 8.1/10.6 MB 488.4 kB/s eta 0:00:06\n",
      "   ------------------------------ --------- 8.1/10.6 MB 488.3 kB/s eta 0:00:06\n",
      "   ------------------------------ --------- 8.1/10.6 MB 487.5 kB/s eta 0:00:06\n",
      "   ------------------------------ --------- 8.2/10.6 MB 488.2 kB/s eta 0:00:06\n",
      "   ------------------------------ --------- 8.2/10.6 MB 487.9 kB/s eta 0:00:05\n",
      "   ------------------------------ --------- 8.2/10.6 MB 488.2 kB/s eta 0:00:05\n",
      "   ------------------------------- -------- 8.2/10.6 MB 488.2 kB/s eta 0:00:05\n",
      "   ------------------------------- -------- 8.3/10.6 MB 488.2 kB/s eta 0:00:05\n",
      "   ------------------------------- -------- 8.3/10.6 MB 488.1 kB/s eta 0:00:05\n",
      "   ------------------------------- -------- 8.3/10.6 MB 488.1 kB/s eta 0:00:05\n",
      "   ------------------------------- -------- 8.3/10.6 MB 488.8 kB/s eta 0:00:05\n",
      "   ------------------------------- -------- 8.4/10.6 MB 488.2 kB/s eta 0:00:05\n",
      "   ------------------------------- -------- 8.4/10.6 MB 488.5 kB/s eta 0:00:05\n",
      "   ------------------------------- -------- 8.4/10.6 MB 488.0 kB/s eta 0:00:05\n",
      "   ------------------------------- -------- 8.4/10.6 MB 488.3 kB/s eta 0:00:05\n",
      "   ------------------------------- -------- 8.4/10.6 MB 488.3 kB/s eta 0:00:05\n",
      "   ------------------------------- -------- 8.4/10.6 MB 488.3 kB/s eta 0:00:05\n",
      "   -------------------------------- ------- 8.5/10.6 MB 488.6 kB/s eta 0:00:05\n",
      "   -------------------------------- ------- 8.5/10.6 MB 488.4 kB/s eta 0:00:05\n",
      "   -------------------------------- ------- 8.5/10.6 MB 487.7 kB/s eta 0:00:05\n",
      "   -------------------------------- ------- 8.6/10.6 MB 488.0 kB/s eta 0:00:05\n",
      "   -------------------------------- ------- 8.6/10.6 MB 488.0 kB/s eta 0:00:05\n",
      "   -------------------------------- ------- 8.6/10.6 MB 488.3 kB/s eta 0:00:05\n",
      "   -------------------------------- ------- 8.6/10.6 MB 487.8 kB/s eta 0:00:05\n",
      "   -------------------------------- ------- 8.6/10.6 MB 488.1 kB/s eta 0:00:05\n",
      "   -------------------------------- ------- 8.7/10.6 MB 487.8 kB/s eta 0:00:05\n",
      "   -------------------------------- ------- 8.7/10.6 MB 487.8 kB/s eta 0:00:04\n",
      "   -------------------------------- ------- 8.7/10.6 MB 488.1 kB/s eta 0:00:04\n",
      "   -------------------------------- ------- 8.7/10.6 MB 488.1 kB/s eta 0:00:04\n",
      "   -------------------------------- ------- 8.7/10.6 MB 488.1 kB/s eta 0:00:04\n",
      "   --------------------------------- ------ 8.8/10.6 MB 488.0 kB/s eta 0:00:04\n",
      "   --------------------------------- ------ 8.8/10.6 MB 488.7 kB/s eta 0:00:04\n",
      "   --------------------------------- ------ 8.8/10.6 MB 488.7 kB/s eta 0:00:04\n",
      "   --------------------------------- ------ 8.8/10.6 MB 487.6 kB/s eta 0:00:04\n",
      "   --------------------------------- ------ 8.9/10.6 MB 487.9 kB/s eta 0:00:04\n",
      "   --------------------------------- ------ 8.9/10.6 MB 488.3 kB/s eta 0:00:04\n",
      "   --------------------------------- ------ 8.9/10.6 MB 488.7 kB/s eta 0:00:04\n",
      "   --------------------------------- ------ 8.9/10.6 MB 488.7 kB/s eta 0:00:04\n",
      "   --------------------------------- ------ 9.0/10.6 MB 487.9 kB/s eta 0:00:04\n",
      "   --------------------------------- ------ 9.0/10.6 MB 488.2 kB/s eta 0:00:04\n",
      "   --------------------------------- ------ 9.0/10.6 MB 487.8 kB/s eta 0:00:04\n",
      "   --------------------------------- ------ 9.0/10.6 MB 487.5 kB/s eta 0:00:04\n",
      "   ---------------------------------- ----- 9.0/10.6 MB 487.0 kB/s eta 0:00:04\n",
      "   ---------------------------------- ----- 9.1/10.6 MB 488.2 kB/s eta 0:00:04\n",
      "   ---------------------------------- ----- 9.1/10.6 MB 488.2 kB/s eta 0:00:04\n",
      "   ---------------------------------- ----- 9.1/10.6 MB 488.5 kB/s eta 0:00:04\n",
      "   ---------------------------------- ----- 9.2/10.6 MB 488.1 kB/s eta 0:00:03\n",
      "   ---------------------------------- ----- 9.2/10.6 MB 488.1 kB/s eta 0:00:03\n",
      "   ---------------------------------- ----- 9.2/10.6 MB 487.7 kB/s eta 0:00:03\n",
      "   ---------------------------------- ----- 9.2/10.6 MB 488.0 kB/s eta 0:00:03\n",
      "   ---------------------------------- ----- 9.2/10.6 MB 488.0 kB/s eta 0:00:03\n",
      "   ---------------------------------- ----- 9.3/10.6 MB 488.3 kB/s eta 0:00:03\n",
      "   ---------------------------------- ----- 9.3/10.6 MB 488.3 kB/s eta 0:00:03\n",
      "   ---------------------------------- ----- 9.3/10.6 MB 488.3 kB/s eta 0:00:03\n",
      "   ----------------------------------- ---- 9.3/10.6 MB 487.5 kB/s eta 0:00:03\n",
      "   ----------------------------------- ---- 9.3/10.6 MB 487.9 kB/s eta 0:00:03\n",
      "   ----------------------------------- ---- 9.4/10.6 MB 488.2 kB/s eta 0:00:03\n",
      "   ----------------------------------- ---- 9.4/10.6 MB 488.1 kB/s eta 0:00:03\n",
      "   ----------------------------------- ---- 9.4/10.6 MB 488.1 kB/s eta 0:00:03\n",
      "   ----------------------------------- ---- 9.4/10.6 MB 487.8 kB/s eta 0:00:03\n",
      "   ----------------------------------- ---- 9.5/10.6 MB 488.3 kB/s eta 0:00:03\n",
      "   ----------------------------------- ---- 9.5/10.6 MB 488.1 kB/s eta 0:00:03\n",
      "   ----------------------------------- ---- 9.5/10.6 MB 487.7 kB/s eta 0:00:03\n",
      "   ----------------------------------- ---- 9.5/10.6 MB 488.0 kB/s eta 0:00:03\n",
      "   ------------------------------------ --- 9.6/10.6 MB 488.0 kB/s eta 0:00:03\n",
      "   ------------------------------------ --- 9.6/10.6 MB 488.0 kB/s eta 0:00:03\n",
      "   ------------------------------------ --- 9.6/10.6 MB 487.6 kB/s eta 0:00:03\n",
      "   ------------------------------------ --- 9.6/10.6 MB 487.9 kB/s eta 0:00:03\n",
      "   ------------------------------------ --- 9.6/10.6 MB 488.2 kB/s eta 0:00:03\n",
      "   ------------------------------------ --- 9.7/10.6 MB 487.8 kB/s eta 0:00:02\n",
      "   ------------------------------------ --- 9.7/10.6 MB 487.9 kB/s eta 0:00:02\n",
      "   ------------------------------------ --- 9.7/10.6 MB 487.4 kB/s eta 0:00:02\n",
      "   ------------------------------------ --- 9.7/10.6 MB 487.0 kB/s eta 0:00:02\n",
      "   ------------------------------------ --- 9.7/10.6 MB 487.7 kB/s eta 0:00:02\n",
      "   ------------------------------------ --- 9.8/10.6 MB 487.7 kB/s eta 0:00:02\n",
      "   ------------------------------------ --- 9.8/10.6 MB 488.0 kB/s eta 0:00:02\n",
      "   ------------------------------------ --- 9.8/10.6 MB 486.9 kB/s eta 0:00:02\n",
      "   ------------------------------------- -- 9.8/10.6 MB 487.2 kB/s eta 0:00:02\n",
      "   ------------------------------------- -- 9.9/10.6 MB 486.8 kB/s eta 0:00:02\n",
      "   ------------------------------------- -- 9.9/10.6 MB 487.5 kB/s eta 0:00:02\n",
      "   ------------------------------------- -- 9.9/10.6 MB 487.5 kB/s eta 0:00:02\n",
      "   ------------------------------------- -- 9.9/10.6 MB 487.3 kB/s eta 0:00:02\n",
      "   ------------------------------------- -- 10.0/10.6 MB 487.4 kB/s eta 0:00:02\n",
      "   ------------------------------------- -- 10.0/10.6 MB 487.1 kB/s eta 0:00:02\n",
      "   ------------------------------------- -- 10.0/10.6 MB 487.0 kB/s eta 0:00:02\n",
      "   ------------------------------------- -- 10.0/10.6 MB 487.2 kB/s eta 0:00:02\n",
      "   ------------------------------------- -- 10.0/10.6 MB 486.9 kB/s eta 0:00:02\n",
      "   ------------------------------------- -- 10.1/10.6 MB 487.1 kB/s eta 0:00:02\n",
      "   -------------------------------------- - 10.1/10.6 MB 487.1 kB/s eta 0:00:02\n",
      "   -------------------------------------- - 10.1/10.6 MB 487.0 kB/s eta 0:00:02\n",
      "   -------------------------------------- - 10.1/10.6 MB 487.3 kB/s eta 0:00:01\n",
      "   -------------------------------------- - 10.2/10.6 MB 487.6 kB/s eta 0:00:01\n",
      "   -------------------------------------- - 10.2/10.6 MB 487.6 kB/s eta 0:00:01\n",
      "   -------------------------------------- - 10.2/10.6 MB 487.4 kB/s eta 0:00:01\n",
      "   -------------------------------------- - 10.2/10.6 MB 486.5 kB/s eta 0:00:01\n",
      "   -------------------------------------- - 10.2/10.6 MB 486.5 kB/s eta 0:00:01\n",
      "   -------------------------------------- - 10.3/10.6 MB 486.0 kB/s eta 0:00:01\n",
      "   -------------------------------------- - 10.3/10.6 MB 489.0 kB/s eta 0:00:01\n",
      "   -------------------------------------- - 10.3/10.6 MB 487.5 kB/s eta 0:00:01\n",
      "   -------------------------------------- - 10.3/10.6 MB 488.9 kB/s eta 0:00:01\n",
      "   -------------------------------------- - 10.3/10.6 MB 487.5 kB/s eta 0:00:01\n",
      "   ---------------------------------------  10.4/10.6 MB 487.5 kB/s eta 0:00:01\n",
      "   ---------------------------------------  10.4/10.6 MB 486.4 kB/s eta 0:00:01\n",
      "   ---------------------------------------  10.4/10.6 MB 488.2 kB/s eta 0:00:01\n",
      "   ---------------------------------------  10.5/10.6 MB 487.5 kB/s eta 0:00:01\n",
      "   ---------------------------------------  10.5/10.6 MB 486.8 kB/s eta 0:00:01\n",
      "   ---------------------------------------  10.5/10.6 MB 487.1 kB/s eta 0:00:01\n",
      "   ---------------------------------------  10.5/10.6 MB 487.5 kB/s eta 0:00:01\n",
      "   ---------------------------------------  10.5/10.6 MB 487.1 kB/s eta 0:00:01\n",
      "   ---------------------------------------  10.5/10.6 MB 486.4 kB/s eta 0:00:01\n",
      "   ---------------------------------------  10.6/10.6 MB 486.4 kB/s eta 0:00:01\n",
      "   ---------------------------------------  10.6/10.6 MB 486.4 kB/s eta 0:00:01\n",
      "   ---------------------------------------  10.6/10.6 MB 486.4 kB/s eta 0:00:01\n",
      "   ---------------------------------------- 10.6/10.6 MB 484.8 kB/s eta 0:00:00\n",
      "Downloading pytz-2023.3.post1-py2.py3-none-any.whl (502 kB)\n",
      "   ---------------------------------------- 0.0/502.5 kB ? eta -:--:--\n",
      "   -- ------------------------------------ 30.7/502.5 kB 660.6 kB/s eta 0:00:01\n",
      "   --- ----------------------------------- 41.0/502.5 kB 495.5 kB/s eta 0:00:01\n",
      "   ---- ---------------------------------- 61.4/502.5 kB 469.7 kB/s eta 0:00:01\n",
      "   ---- ---------------------------------- 61.4/502.5 kB 469.7 kB/s eta 0:00:01\n",
      "   --------- ---------------------------- 122.9/502.5 kB 516.7 kB/s eta 0:00:01\n",
      "   ---------- --------------------------- 143.4/502.5 kB 532.5 kB/s eta 0:00:01\n",
      "   ------------- ------------------------ 174.1/502.5 kB 525.1 kB/s eta 0:00:01\n",
      "   -------------- ----------------------- 194.6/502.5 kB 513.4 kB/s eta 0:00:01\n",
      "   --------------- ---------------------- 204.8/502.5 kB 498.9 kB/s eta 0:00:01\n",
      "   ----------------- -------------------- 225.3/502.5 kB 492.1 kB/s eta 0:00:01\n",
      "   ------------------- ------------------ 256.0/502.5 kB 491.5 kB/s eta 0:00:01\n",
      "   -------------------- ----------------- 276.5/502.5 kB 501.4 kB/s eta 0:00:01\n",
      "   ----------------------- -------------- 307.2/502.5 kB 500.8 kB/s eta 0:00:01\n",
      "   ----------------------- -------------- 307.2/502.5 kB 500.8 kB/s eta 0:00:01\n",
      "   ------------------------- ------------ 337.9/502.5 kB 487.6 kB/s eta 0:00:01\n",
      "   --------------------------- ---------- 358.4/502.5 kB 484.9 kB/s eta 0:00:01\n",
      "   ------------------------------ ------- 399.4/502.5 kB 498.2 kB/s eta 0:00:01\n",
      "   ------------------------------ ------- 409.6/502.5 kB 473.7 kB/s eta 0:00:01\n",
      "   -------------------------------- ----- 430.1/502.5 kB 479.8 kB/s eta 0:00:01\n",
      "   ---------------------------------- --- 450.6/502.5 kB 486.0 kB/s eta 0:00:01\n",
      "   ------------------------------------ - 481.3/502.5 kB 486.6 kB/s eta 0:00:01\n",
      "   -------------------------------------- 502.5/502.5 kB 477.4 kB/s eta 0:00:00\n",
      "Downloading tzdata-2023.4-py2.py3-none-any.whl (346 kB)\n",
      "   ---------------------------------------- 0.0/346.6 kB ? eta -:--:--\n",
      "   - -------------------------------------- 10.2/346.6 kB ? eta -:--:--\n",
      "   - -------------------------------------- 10.2/346.6 kB ? eta -:--:--\n",
      "   ------ -------------------------------- 61.4/346.6 kB 656.4 kB/s eta 0:00:01\n",
      "   --------- ----------------------------- 81.9/346.6 kB 512.0 kB/s eta 0:00:01\n",
      "   ------------ ------------------------- 112.6/346.6 kB 467.6 kB/s eta 0:00:01\n",
      "   ------------- ------------------------ 122.9/346.6 kB 450.6 kB/s eta 0:00:01\n",
      "   --------------- ---------------------- 143.4/346.6 kB 448.2 kB/s eta 0:00:01\n",
      "   ----------------- -------------------- 163.8/346.6 kB 468.3 kB/s eta 0:00:01\n",
      "   ----------------- -------------------- 163.8/346.6 kB 468.3 kB/s eta 0:00:01\n",
      "   --------------------- ---------------- 194.6/346.6 kB 436.8 kB/s eta 0:00:01\n",
      "   ------------------------ ------------- 225.3/346.6 kB 430.1 kB/s eta 0:00:01\n",
      "   -------------------------- ----------- 245.8/346.6 kB 443.5 kB/s eta 0:00:01\n",
      "   ----------------------------- -------- 266.2/346.6 kB 442.9 kB/s eta 0:00:01\n",
      "   ------------------------------- ------ 286.7/346.6 kB 454.0 kB/s eta 0:00:01\n",
      "   ---------------------------------- --- 317.4/346.6 kB 447.2 kB/s eta 0:00:01\n",
      "   ----------------------------------- -- 327.7/346.6 kB 451.6 kB/s eta 0:00:01\n",
      "   -------------------------------------- 346.6/346.6 kB 439.6 kB/s eta 0:00:00\n",
      "Installing collected packages: pytz, tzdata, pandas\n",
      "Successfully installed pandas-2.1.4 pytz-2023.3.post1 tzdata-2023.4\n",
      "Note: you may need to restart the kernel to use updated packages.\n"
     ]
    },
    {
     "name": "stderr",
     "output_type": "stream",
     "text": [
      "\n",
      "[notice] A new release of pip is available: 23.2.1 -> 23.3.2\n",
      "[notice] To update, run: python.exe -m pip install --upgrade pip\n"
     ]
    }
   ],
   "source": [
    "#nstalling the library\n",
    "%pip install pandas"
   ]
  },
  {
   "cell_type": "code",
   "execution_count": 35,
   "id": "cf5c12c1-0423-4c47-9521-af0991fd7901",
   "metadata": {},
   "outputs": [],
   "source": [
    "#importing\n",
    "import pandas as pd"
   ]
  },
  {
   "cell_type": "markdown",
   "id": "1e6ff258-ced3-495f-b542-8c9563083282",
   "metadata": {},
   "source": [
    "# Building dataframes from Pandas"
   ]
  },
  {
   "cell_type": "code",
   "execution_count": 39,
   "id": "819059df-8572-4790-b968-4fe883831e59",
   "metadata": {},
   "outputs": [
    {
     "data": {
      "text/plain": [
       "[('RegistrationNumber', ['21BCE6757', '21BCE5667', '21BCE5676', '21BCE4565']),\n",
       " ('Mark1', [89, 90, 78, 98]),\n",
       " ('Mark2', [67, 90, 100, 100]),\n",
       " ('Mark3', [78, 89, 90, 89])]"
      ]
     },
     "execution_count": 39,
     "metadata": {},
     "output_type": "execute_result"
    }
   ],
   "source": [
    "#From Python Dictionaries\n",
    "regno = ['21BCE6757','21BCE5667','21BCE5676','21BCE4565']\n",
    "Sub1 = [89,90,78,98]\n",
    "Sub2 = [67,90,100,100]\n",
    "Sub3 = [78,89,90,89]\n",
    "\n",
    "titles = ['RegistrationNumber', 'Mark1','Mark2','Mark3']\n",
    "values = [regno,Sub1,Sub2,Sub3]\n",
    "#Creating the dictionary\n",
    "result = list(zip(titles,values))\n",
    "result"
   ]
  },
  {
   "cell_type": "code",
   "execution_count": 40,
   "id": "9e1418eb-c4c8-47db-8574-bbdcf9445b44",
   "metadata": {},
   "outputs": [
    {
     "name": "stdout",
     "output_type": "stream",
     "text": [
      "  RegistrationNumber  Mark1  Mark2  Mark3\n",
      "0          21BCE6757     89     67     78\n",
      "1          21BCE5667     90     90     89\n",
      "2          21BCE5676     78    100     90\n",
      "3          21BCE4565     98    100     89\n"
     ]
    }
   ],
   "source": [
    "#Converting to dataframe\n",
    "result1 = dict(result)\n",
    "df1 = pd.DataFrame(result1)\n",
    "print(df1)"
   ]
  },
  {
   "cell_type": "markdown",
   "id": "649e0e4b-93ce-47b9-b30f-81db087e0395",
   "metadata": {},
   "source": [
    "# Importing Data"
   ]
  },
  {
   "cell_type": "code",
   "execution_count": 42,
   "id": "23f98f4f-11df-4ef1-9d25-a9cb4cff2684",
   "metadata": {},
   "outputs": [
    {
     "data": {
      "text/plain": [
       "(506, 14)"
      ]
     },
     "execution_count": 42,
     "metadata": {},
     "output_type": "execute_result"
    }
   ],
   "source": [
    "#from csv files\n",
    "df2 = pd.read_csv('HousingData.csv')\n",
    "df2.shape"
   ]
  },
  {
   "cell_type": "code",
   "execution_count": 43,
   "id": "246c286e-dbf2-4d3b-a3fd-4d0218f54702",
   "metadata": {},
   "outputs": [
    {
     "data": {
      "text/html": [
       "<div>\n",
       "<style scoped>\n",
       "    .dataframe tbody tr th:only-of-type {\n",
       "        vertical-align: middle;\n",
       "    }\n",
       "\n",
       "    .dataframe tbody tr th {\n",
       "        vertical-align: top;\n",
       "    }\n",
       "\n",
       "    .dataframe thead th {\n",
       "        text-align: right;\n",
       "    }\n",
       "</style>\n",
       "<table border=\"1\" class=\"dataframe\">\n",
       "  <thead>\n",
       "    <tr style=\"text-align: right;\">\n",
       "      <th></th>\n",
       "      <th>CRIM</th>\n",
       "      <th>ZN</th>\n",
       "      <th>INDUS</th>\n",
       "      <th>CHAS</th>\n",
       "      <th>NOX</th>\n",
       "      <th>RM</th>\n",
       "      <th>AGE</th>\n",
       "      <th>DIS</th>\n",
       "      <th>RAD</th>\n",
       "      <th>TAX</th>\n",
       "      <th>PTRATIO</th>\n",
       "      <th>B</th>\n",
       "      <th>LSTAT</th>\n",
       "      <th>MEDV</th>\n",
       "    </tr>\n",
       "  </thead>\n",
       "  <tbody>\n",
       "    <tr>\n",
       "      <th>0</th>\n",
       "      <td>0.00632</td>\n",
       "      <td>18.0</td>\n",
       "      <td>2.31</td>\n",
       "      <td>0.0</td>\n",
       "      <td>0.538</td>\n",
       "      <td>6.575</td>\n",
       "      <td>65.2</td>\n",
       "      <td>4.0900</td>\n",
       "      <td>1</td>\n",
       "      <td>296</td>\n",
       "      <td>15.3</td>\n",
       "      <td>396.90</td>\n",
       "      <td>4.98</td>\n",
       "      <td>24.0</td>\n",
       "    </tr>\n",
       "    <tr>\n",
       "      <th>1</th>\n",
       "      <td>0.02731</td>\n",
       "      <td>0.0</td>\n",
       "      <td>7.07</td>\n",
       "      <td>0.0</td>\n",
       "      <td>0.469</td>\n",
       "      <td>6.421</td>\n",
       "      <td>78.9</td>\n",
       "      <td>4.9671</td>\n",
       "      <td>2</td>\n",
       "      <td>242</td>\n",
       "      <td>17.8</td>\n",
       "      <td>396.90</td>\n",
       "      <td>9.14</td>\n",
       "      <td>21.6</td>\n",
       "    </tr>\n",
       "    <tr>\n",
       "      <th>2</th>\n",
       "      <td>0.02729</td>\n",
       "      <td>0.0</td>\n",
       "      <td>7.07</td>\n",
       "      <td>0.0</td>\n",
       "      <td>0.469</td>\n",
       "      <td>7.185</td>\n",
       "      <td>61.1</td>\n",
       "      <td>4.9671</td>\n",
       "      <td>2</td>\n",
       "      <td>242</td>\n",
       "      <td>17.8</td>\n",
       "      <td>392.83</td>\n",
       "      <td>4.03</td>\n",
       "      <td>34.7</td>\n",
       "    </tr>\n",
       "    <tr>\n",
       "      <th>3</th>\n",
       "      <td>0.03237</td>\n",
       "      <td>0.0</td>\n",
       "      <td>2.18</td>\n",
       "      <td>0.0</td>\n",
       "      <td>0.458</td>\n",
       "      <td>6.998</td>\n",
       "      <td>45.8</td>\n",
       "      <td>6.0622</td>\n",
       "      <td>3</td>\n",
       "      <td>222</td>\n",
       "      <td>18.7</td>\n",
       "      <td>394.63</td>\n",
       "      <td>2.94</td>\n",
       "      <td>33.4</td>\n",
       "    </tr>\n",
       "    <tr>\n",
       "      <th>4</th>\n",
       "      <td>0.06905</td>\n",
       "      <td>0.0</td>\n",
       "      <td>2.18</td>\n",
       "      <td>0.0</td>\n",
       "      <td>0.458</td>\n",
       "      <td>7.147</td>\n",
       "      <td>54.2</td>\n",
       "      <td>6.0622</td>\n",
       "      <td>3</td>\n",
       "      <td>222</td>\n",
       "      <td>18.7</td>\n",
       "      <td>396.90</td>\n",
       "      <td>NaN</td>\n",
       "      <td>36.2</td>\n",
       "    </tr>\n",
       "    <tr>\n",
       "      <th>...</th>\n",
       "      <td>...</td>\n",
       "      <td>...</td>\n",
       "      <td>...</td>\n",
       "      <td>...</td>\n",
       "      <td>...</td>\n",
       "      <td>...</td>\n",
       "      <td>...</td>\n",
       "      <td>...</td>\n",
       "      <td>...</td>\n",
       "      <td>...</td>\n",
       "      <td>...</td>\n",
       "      <td>...</td>\n",
       "      <td>...</td>\n",
       "      <td>...</td>\n",
       "    </tr>\n",
       "    <tr>\n",
       "      <th>501</th>\n",
       "      <td>0.06263</td>\n",
       "      <td>0.0</td>\n",
       "      <td>11.93</td>\n",
       "      <td>0.0</td>\n",
       "      <td>0.573</td>\n",
       "      <td>6.593</td>\n",
       "      <td>69.1</td>\n",
       "      <td>2.4786</td>\n",
       "      <td>1</td>\n",
       "      <td>273</td>\n",
       "      <td>21.0</td>\n",
       "      <td>391.99</td>\n",
       "      <td>NaN</td>\n",
       "      <td>22.4</td>\n",
       "    </tr>\n",
       "    <tr>\n",
       "      <th>502</th>\n",
       "      <td>0.04527</td>\n",
       "      <td>0.0</td>\n",
       "      <td>11.93</td>\n",
       "      <td>0.0</td>\n",
       "      <td>0.573</td>\n",
       "      <td>6.120</td>\n",
       "      <td>76.7</td>\n",
       "      <td>2.2875</td>\n",
       "      <td>1</td>\n",
       "      <td>273</td>\n",
       "      <td>21.0</td>\n",
       "      <td>396.90</td>\n",
       "      <td>9.08</td>\n",
       "      <td>20.6</td>\n",
       "    </tr>\n",
       "    <tr>\n",
       "      <th>503</th>\n",
       "      <td>0.06076</td>\n",
       "      <td>0.0</td>\n",
       "      <td>11.93</td>\n",
       "      <td>0.0</td>\n",
       "      <td>0.573</td>\n",
       "      <td>6.976</td>\n",
       "      <td>91.0</td>\n",
       "      <td>2.1675</td>\n",
       "      <td>1</td>\n",
       "      <td>273</td>\n",
       "      <td>21.0</td>\n",
       "      <td>396.90</td>\n",
       "      <td>5.64</td>\n",
       "      <td>23.9</td>\n",
       "    </tr>\n",
       "    <tr>\n",
       "      <th>504</th>\n",
       "      <td>0.10959</td>\n",
       "      <td>0.0</td>\n",
       "      <td>11.93</td>\n",
       "      <td>0.0</td>\n",
       "      <td>0.573</td>\n",
       "      <td>6.794</td>\n",
       "      <td>89.3</td>\n",
       "      <td>2.3889</td>\n",
       "      <td>1</td>\n",
       "      <td>273</td>\n",
       "      <td>21.0</td>\n",
       "      <td>393.45</td>\n",
       "      <td>6.48</td>\n",
       "      <td>22.0</td>\n",
       "    </tr>\n",
       "    <tr>\n",
       "      <th>505</th>\n",
       "      <td>0.04741</td>\n",
       "      <td>0.0</td>\n",
       "      <td>11.93</td>\n",
       "      <td>0.0</td>\n",
       "      <td>0.573</td>\n",
       "      <td>6.030</td>\n",
       "      <td>NaN</td>\n",
       "      <td>2.5050</td>\n",
       "      <td>1</td>\n",
       "      <td>273</td>\n",
       "      <td>21.0</td>\n",
       "      <td>396.90</td>\n",
       "      <td>7.88</td>\n",
       "      <td>11.9</td>\n",
       "    </tr>\n",
       "  </tbody>\n",
       "</table>\n",
       "<p>506 rows × 14 columns</p>\n",
       "</div>"
      ],
      "text/plain": [
       "        CRIM    ZN  INDUS  CHAS    NOX     RM   AGE     DIS  RAD  TAX  \\\n",
       "0    0.00632  18.0   2.31   0.0  0.538  6.575  65.2  4.0900    1  296   \n",
       "1    0.02731   0.0   7.07   0.0  0.469  6.421  78.9  4.9671    2  242   \n",
       "2    0.02729   0.0   7.07   0.0  0.469  7.185  61.1  4.9671    2  242   \n",
       "3    0.03237   0.0   2.18   0.0  0.458  6.998  45.8  6.0622    3  222   \n",
       "4    0.06905   0.0   2.18   0.0  0.458  7.147  54.2  6.0622    3  222   \n",
       "..       ...   ...    ...   ...    ...    ...   ...     ...  ...  ...   \n",
       "501  0.06263   0.0  11.93   0.0  0.573  6.593  69.1  2.4786    1  273   \n",
       "502  0.04527   0.0  11.93   0.0  0.573  6.120  76.7  2.2875    1  273   \n",
       "503  0.06076   0.0  11.93   0.0  0.573  6.976  91.0  2.1675    1  273   \n",
       "504  0.10959   0.0  11.93   0.0  0.573  6.794  89.3  2.3889    1  273   \n",
       "505  0.04741   0.0  11.93   0.0  0.573  6.030   NaN  2.5050    1  273   \n",
       "\n",
       "     PTRATIO       B  LSTAT  MEDV  \n",
       "0       15.3  396.90   4.98  24.0  \n",
       "1       17.8  396.90   9.14  21.6  \n",
       "2       17.8  392.83   4.03  34.7  \n",
       "3       18.7  394.63   2.94  33.4  \n",
       "4       18.7  396.90    NaN  36.2  \n",
       "..       ...     ...    ...   ...  \n",
       "501     21.0  391.99    NaN  22.4  \n",
       "502     21.0  396.90   9.08  20.6  \n",
       "503     21.0  396.90   5.64  23.9  \n",
       "504     21.0  393.45   6.48  22.0  \n",
       "505     21.0  396.90   7.88  11.9  \n",
       "\n",
       "[506 rows x 14 columns]"
      ]
     },
     "execution_count": 43,
     "metadata": {},
     "output_type": "execute_result"
    }
   ],
   "source": [
    "#show the file\n",
    "df2"
   ]
  },
  {
   "cell_type": "code",
   "execution_count": 45,
   "id": "91aabc22-42f3-400c-aa41-8c58e7778875",
   "metadata": {},
   "outputs": [
    {
     "data": {
      "text/html": [
       "<div>\n",
       "<style scoped>\n",
       "    .dataframe tbody tr th:only-of-type {\n",
       "        vertical-align: middle;\n",
       "    }\n",
       "\n",
       "    .dataframe tbody tr th {\n",
       "        vertical-align: top;\n",
       "    }\n",
       "\n",
       "    .dataframe thead th {\n",
       "        text-align: right;\n",
       "    }\n",
       "</style>\n",
       "<table border=\"1\" class=\"dataframe\">\n",
       "  <thead>\n",
       "    <tr style=\"text-align: right;\">\n",
       "      <th></th>\n",
       "      <th>CRIM</th>\n",
       "      <th>ZN</th>\n",
       "      <th>INDUS</th>\n",
       "      <th>CHAS</th>\n",
       "      <th>NOX</th>\n",
       "      <th>RM</th>\n",
       "      <th>AGE</th>\n",
       "      <th>DIS</th>\n",
       "      <th>RAD</th>\n",
       "      <th>TAX</th>\n",
       "      <th>PTRATIO</th>\n",
       "      <th>B</th>\n",
       "      <th>LSTAT</th>\n",
       "      <th>MEDV</th>\n",
       "    </tr>\n",
       "  </thead>\n",
       "  <tbody>\n",
       "    <tr>\n",
       "      <th>0</th>\n",
       "      <td>0.00632</td>\n",
       "      <td>18.0</td>\n",
       "      <td>2.31</td>\n",
       "      <td>0.0</td>\n",
       "      <td>0.538</td>\n",
       "      <td>6.575</td>\n",
       "      <td>65.2</td>\n",
       "      <td>4.0900</td>\n",
       "      <td>1</td>\n",
       "      <td>296</td>\n",
       "      <td>15.3</td>\n",
       "      <td>396.90</td>\n",
       "      <td>4.98</td>\n",
       "      <td>24.0</td>\n",
       "    </tr>\n",
       "    <tr>\n",
       "      <th>1</th>\n",
       "      <td>0.02731</td>\n",
       "      <td>0.0</td>\n",
       "      <td>7.07</td>\n",
       "      <td>0.0</td>\n",
       "      <td>0.469</td>\n",
       "      <td>6.421</td>\n",
       "      <td>78.9</td>\n",
       "      <td>4.9671</td>\n",
       "      <td>2</td>\n",
       "      <td>242</td>\n",
       "      <td>17.8</td>\n",
       "      <td>396.90</td>\n",
       "      <td>9.14</td>\n",
       "      <td>21.6</td>\n",
       "    </tr>\n",
       "    <tr>\n",
       "      <th>2</th>\n",
       "      <td>0.02729</td>\n",
       "      <td>0.0</td>\n",
       "      <td>7.07</td>\n",
       "      <td>0.0</td>\n",
       "      <td>0.469</td>\n",
       "      <td>7.185</td>\n",
       "      <td>61.1</td>\n",
       "      <td>4.9671</td>\n",
       "      <td>2</td>\n",
       "      <td>242</td>\n",
       "      <td>17.8</td>\n",
       "      <td>392.83</td>\n",
       "      <td>4.03</td>\n",
       "      <td>34.7</td>\n",
       "    </tr>\n",
       "    <tr>\n",
       "      <th>3</th>\n",
       "      <td>0.03237</td>\n",
       "      <td>0.0</td>\n",
       "      <td>2.18</td>\n",
       "      <td>0.0</td>\n",
       "      <td>0.458</td>\n",
       "      <td>6.998</td>\n",
       "      <td>45.8</td>\n",
       "      <td>6.0622</td>\n",
       "      <td>3</td>\n",
       "      <td>222</td>\n",
       "      <td>18.7</td>\n",
       "      <td>394.63</td>\n",
       "      <td>2.94</td>\n",
       "      <td>33.4</td>\n",
       "    </tr>\n",
       "    <tr>\n",
       "      <th>4</th>\n",
       "      <td>0.06905</td>\n",
       "      <td>0.0</td>\n",
       "      <td>2.18</td>\n",
       "      <td>0.0</td>\n",
       "      <td>0.458</td>\n",
       "      <td>7.147</td>\n",
       "      <td>54.2</td>\n",
       "      <td>6.0622</td>\n",
       "      <td>3</td>\n",
       "      <td>222</td>\n",
       "      <td>18.7</td>\n",
       "      <td>396.90</td>\n",
       "      <td>NaN</td>\n",
       "      <td>36.2</td>\n",
       "    </tr>\n",
       "  </tbody>\n",
       "</table>\n",
       "</div>"
      ],
      "text/plain": [
       "      CRIM    ZN  INDUS  CHAS    NOX     RM   AGE     DIS  RAD  TAX  PTRATIO  \\\n",
       "0  0.00632  18.0   2.31   0.0  0.538  6.575  65.2  4.0900    1  296     15.3   \n",
       "1  0.02731   0.0   7.07   0.0  0.469  6.421  78.9  4.9671    2  242     17.8   \n",
       "2  0.02729   0.0   7.07   0.0  0.469  7.185  61.1  4.9671    2  242     17.8   \n",
       "3  0.03237   0.0   2.18   0.0  0.458  6.998  45.8  6.0622    3  222     18.7   \n",
       "4  0.06905   0.0   2.18   0.0  0.458  7.147  54.2  6.0622    3  222     18.7   \n",
       "\n",
       "        B  LSTAT  MEDV  \n",
       "0  396.90   4.98  24.0  \n",
       "1  396.90   9.14  21.6  \n",
       "2  392.83   4.03  34.7  \n",
       "3  394.63   2.94  33.4  \n",
       "4  396.90    NaN  36.2  "
      ]
     },
     "execution_count": 45,
     "metadata": {},
     "output_type": "execute_result"
    }
   ],
   "source": [
    "#show first 5 rows\n",
    "df2.head()"
   ]
  },
  {
   "cell_type": "code",
   "execution_count": 46,
   "id": "b22febc7-9668-4073-8831-57c0be3eaeda",
   "metadata": {},
   "outputs": [
    {
     "data": {
      "text/html": [
       "<div>\n",
       "<style scoped>\n",
       "    .dataframe tbody tr th:only-of-type {\n",
       "        vertical-align: middle;\n",
       "    }\n",
       "\n",
       "    .dataframe tbody tr th {\n",
       "        vertical-align: top;\n",
       "    }\n",
       "\n",
       "    .dataframe thead th {\n",
       "        text-align: right;\n",
       "    }\n",
       "</style>\n",
       "<table border=\"1\" class=\"dataframe\">\n",
       "  <thead>\n",
       "    <tr style=\"text-align: right;\">\n",
       "      <th></th>\n",
       "      <th>CRIM</th>\n",
       "      <th>ZN</th>\n",
       "      <th>INDUS</th>\n",
       "      <th>CHAS</th>\n",
       "      <th>NOX</th>\n",
       "      <th>RM</th>\n",
       "      <th>AGE</th>\n",
       "      <th>DIS</th>\n",
       "      <th>RAD</th>\n",
       "      <th>TAX</th>\n",
       "      <th>PTRATIO</th>\n",
       "      <th>B</th>\n",
       "      <th>LSTAT</th>\n",
       "      <th>MEDV</th>\n",
       "    </tr>\n",
       "  </thead>\n",
       "  <tbody>\n",
       "    <tr>\n",
       "      <th>0</th>\n",
       "      <td>0.00632</td>\n",
       "      <td>18.0</td>\n",
       "      <td>2.31</td>\n",
       "      <td>0.0</td>\n",
       "      <td>0.538</td>\n",
       "      <td>6.575</td>\n",
       "      <td>65.2</td>\n",
       "      <td>4.0900</td>\n",
       "      <td>1</td>\n",
       "      <td>296</td>\n",
       "      <td>15.3</td>\n",
       "      <td>396.90</td>\n",
       "      <td>4.98</td>\n",
       "      <td>24.0</td>\n",
       "    </tr>\n",
       "    <tr>\n",
       "      <th>1</th>\n",
       "      <td>0.02731</td>\n",
       "      <td>0.0</td>\n",
       "      <td>7.07</td>\n",
       "      <td>0.0</td>\n",
       "      <td>0.469</td>\n",
       "      <td>6.421</td>\n",
       "      <td>78.9</td>\n",
       "      <td>4.9671</td>\n",
       "      <td>2</td>\n",
       "      <td>242</td>\n",
       "      <td>17.8</td>\n",
       "      <td>396.90</td>\n",
       "      <td>9.14</td>\n",
       "      <td>21.6</td>\n",
       "    </tr>\n",
       "    <tr>\n",
       "      <th>2</th>\n",
       "      <td>0.02729</td>\n",
       "      <td>0.0</td>\n",
       "      <td>7.07</td>\n",
       "      <td>0.0</td>\n",
       "      <td>0.469</td>\n",
       "      <td>7.185</td>\n",
       "      <td>61.1</td>\n",
       "      <td>4.9671</td>\n",
       "      <td>2</td>\n",
       "      <td>242</td>\n",
       "      <td>17.8</td>\n",
       "      <td>392.83</td>\n",
       "      <td>4.03</td>\n",
       "      <td>34.7</td>\n",
       "    </tr>\n",
       "    <tr>\n",
       "      <th>3</th>\n",
       "      <td>0.03237</td>\n",
       "      <td>0.0</td>\n",
       "      <td>2.18</td>\n",
       "      <td>0.0</td>\n",
       "      <td>0.458</td>\n",
       "      <td>6.998</td>\n",
       "      <td>45.8</td>\n",
       "      <td>6.0622</td>\n",
       "      <td>3</td>\n",
       "      <td>222</td>\n",
       "      <td>18.7</td>\n",
       "      <td>394.63</td>\n",
       "      <td>2.94</td>\n",
       "      <td>33.4</td>\n",
       "    </tr>\n",
       "    <tr>\n",
       "      <th>4</th>\n",
       "      <td>0.06905</td>\n",
       "      <td>0.0</td>\n",
       "      <td>2.18</td>\n",
       "      <td>0.0</td>\n",
       "      <td>0.458</td>\n",
       "      <td>7.147</td>\n",
       "      <td>54.2</td>\n",
       "      <td>6.0622</td>\n",
       "      <td>3</td>\n",
       "      <td>222</td>\n",
       "      <td>18.7</td>\n",
       "      <td>396.90</td>\n",
       "      <td>NaN</td>\n",
       "      <td>36.2</td>\n",
       "    </tr>\n",
       "    <tr>\n",
       "      <th>5</th>\n",
       "      <td>0.02985</td>\n",
       "      <td>0.0</td>\n",
       "      <td>2.18</td>\n",
       "      <td>0.0</td>\n",
       "      <td>0.458</td>\n",
       "      <td>6.430</td>\n",
       "      <td>58.7</td>\n",
       "      <td>6.0622</td>\n",
       "      <td>3</td>\n",
       "      <td>222</td>\n",
       "      <td>18.7</td>\n",
       "      <td>394.12</td>\n",
       "      <td>5.21</td>\n",
       "      <td>28.7</td>\n",
       "    </tr>\n",
       "    <tr>\n",
       "      <th>6</th>\n",
       "      <td>0.08829</td>\n",
       "      <td>12.5</td>\n",
       "      <td>7.87</td>\n",
       "      <td>NaN</td>\n",
       "      <td>0.524</td>\n",
       "      <td>6.012</td>\n",
       "      <td>66.6</td>\n",
       "      <td>5.5605</td>\n",
       "      <td>5</td>\n",
       "      <td>311</td>\n",
       "      <td>15.2</td>\n",
       "      <td>395.60</td>\n",
       "      <td>12.43</td>\n",
       "      <td>22.9</td>\n",
       "    </tr>\n",
       "  </tbody>\n",
       "</table>\n",
       "</div>"
      ],
      "text/plain": [
       "      CRIM    ZN  INDUS  CHAS    NOX     RM   AGE     DIS  RAD  TAX  PTRATIO  \\\n",
       "0  0.00632  18.0   2.31   0.0  0.538  6.575  65.2  4.0900    1  296     15.3   \n",
       "1  0.02731   0.0   7.07   0.0  0.469  6.421  78.9  4.9671    2  242     17.8   \n",
       "2  0.02729   0.0   7.07   0.0  0.469  7.185  61.1  4.9671    2  242     17.8   \n",
       "3  0.03237   0.0   2.18   0.0  0.458  6.998  45.8  6.0622    3  222     18.7   \n",
       "4  0.06905   0.0   2.18   0.0  0.458  7.147  54.2  6.0622    3  222     18.7   \n",
       "5  0.02985   0.0   2.18   0.0  0.458  6.430  58.7  6.0622    3  222     18.7   \n",
       "6  0.08829  12.5   7.87   NaN  0.524  6.012  66.6  5.5605    5  311     15.2   \n",
       "\n",
       "        B  LSTAT  MEDV  \n",
       "0  396.90   4.98  24.0  \n",
       "1  396.90   9.14  21.6  \n",
       "2  392.83   4.03  34.7  \n",
       "3  394.63   2.94  33.4  \n",
       "4  396.90    NaN  36.2  \n",
       "5  394.12   5.21  28.7  \n",
       "6  395.60  12.43  22.9  "
      ]
     },
     "execution_count": 46,
     "metadata": {},
     "output_type": "execute_result"
    }
   ],
   "source": [
    "#show first 7 rows\n",
    "df2.head(7)"
   ]
  },
  {
   "cell_type": "code",
   "execution_count": 47,
   "id": "9d7973b3-be5f-477e-a0bb-35ca1b70de70",
   "metadata": {},
   "outputs": [
    {
     "data": {
      "text/html": [
       "<div>\n",
       "<style scoped>\n",
       "    .dataframe tbody tr th:only-of-type {\n",
       "        vertical-align: middle;\n",
       "    }\n",
       "\n",
       "    .dataframe tbody tr th {\n",
       "        vertical-align: top;\n",
       "    }\n",
       "\n",
       "    .dataframe thead th {\n",
       "        text-align: right;\n",
       "    }\n",
       "</style>\n",
       "<table border=\"1\" class=\"dataframe\">\n",
       "  <thead>\n",
       "    <tr style=\"text-align: right;\">\n",
       "      <th></th>\n",
       "      <th>CRIM</th>\n",
       "      <th>ZN</th>\n",
       "      <th>INDUS</th>\n",
       "      <th>CHAS</th>\n",
       "      <th>NOX</th>\n",
       "      <th>RM</th>\n",
       "      <th>AGE</th>\n",
       "      <th>DIS</th>\n",
       "      <th>RAD</th>\n",
       "      <th>TAX</th>\n",
       "      <th>PTRATIO</th>\n",
       "      <th>B</th>\n",
       "      <th>LSTAT</th>\n",
       "      <th>MEDV</th>\n",
       "    </tr>\n",
       "  </thead>\n",
       "  <tbody>\n",
       "    <tr>\n",
       "      <th>501</th>\n",
       "      <td>0.06263</td>\n",
       "      <td>0.0</td>\n",
       "      <td>11.93</td>\n",
       "      <td>0.0</td>\n",
       "      <td>0.573</td>\n",
       "      <td>6.593</td>\n",
       "      <td>69.1</td>\n",
       "      <td>2.4786</td>\n",
       "      <td>1</td>\n",
       "      <td>273</td>\n",
       "      <td>21.0</td>\n",
       "      <td>391.99</td>\n",
       "      <td>NaN</td>\n",
       "      <td>22.4</td>\n",
       "    </tr>\n",
       "    <tr>\n",
       "      <th>502</th>\n",
       "      <td>0.04527</td>\n",
       "      <td>0.0</td>\n",
       "      <td>11.93</td>\n",
       "      <td>0.0</td>\n",
       "      <td>0.573</td>\n",
       "      <td>6.120</td>\n",
       "      <td>76.7</td>\n",
       "      <td>2.2875</td>\n",
       "      <td>1</td>\n",
       "      <td>273</td>\n",
       "      <td>21.0</td>\n",
       "      <td>396.90</td>\n",
       "      <td>9.08</td>\n",
       "      <td>20.6</td>\n",
       "    </tr>\n",
       "    <tr>\n",
       "      <th>503</th>\n",
       "      <td>0.06076</td>\n",
       "      <td>0.0</td>\n",
       "      <td>11.93</td>\n",
       "      <td>0.0</td>\n",
       "      <td>0.573</td>\n",
       "      <td>6.976</td>\n",
       "      <td>91.0</td>\n",
       "      <td>2.1675</td>\n",
       "      <td>1</td>\n",
       "      <td>273</td>\n",
       "      <td>21.0</td>\n",
       "      <td>396.90</td>\n",
       "      <td>5.64</td>\n",
       "      <td>23.9</td>\n",
       "    </tr>\n",
       "    <tr>\n",
       "      <th>504</th>\n",
       "      <td>0.10959</td>\n",
       "      <td>0.0</td>\n",
       "      <td>11.93</td>\n",
       "      <td>0.0</td>\n",
       "      <td>0.573</td>\n",
       "      <td>6.794</td>\n",
       "      <td>89.3</td>\n",
       "      <td>2.3889</td>\n",
       "      <td>1</td>\n",
       "      <td>273</td>\n",
       "      <td>21.0</td>\n",
       "      <td>393.45</td>\n",
       "      <td>6.48</td>\n",
       "      <td>22.0</td>\n",
       "    </tr>\n",
       "    <tr>\n",
       "      <th>505</th>\n",
       "      <td>0.04741</td>\n",
       "      <td>0.0</td>\n",
       "      <td>11.93</td>\n",
       "      <td>0.0</td>\n",
       "      <td>0.573</td>\n",
       "      <td>6.030</td>\n",
       "      <td>NaN</td>\n",
       "      <td>2.5050</td>\n",
       "      <td>1</td>\n",
       "      <td>273</td>\n",
       "      <td>21.0</td>\n",
       "      <td>396.90</td>\n",
       "      <td>7.88</td>\n",
       "      <td>11.9</td>\n",
       "    </tr>\n",
       "  </tbody>\n",
       "</table>\n",
       "</div>"
      ],
      "text/plain": [
       "        CRIM   ZN  INDUS  CHAS    NOX     RM   AGE     DIS  RAD  TAX  PTRATIO  \\\n",
       "501  0.06263  0.0  11.93   0.0  0.573  6.593  69.1  2.4786    1  273     21.0   \n",
       "502  0.04527  0.0  11.93   0.0  0.573  6.120  76.7  2.2875    1  273     21.0   \n",
       "503  0.06076  0.0  11.93   0.0  0.573  6.976  91.0  2.1675    1  273     21.0   \n",
       "504  0.10959  0.0  11.93   0.0  0.573  6.794  89.3  2.3889    1  273     21.0   \n",
       "505  0.04741  0.0  11.93   0.0  0.573  6.030   NaN  2.5050    1  273     21.0   \n",
       "\n",
       "          B  LSTAT  MEDV  \n",
       "501  391.99    NaN  22.4  \n",
       "502  396.90   9.08  20.6  \n",
       "503  396.90   5.64  23.9  \n",
       "504  393.45   6.48  22.0  \n",
       "505  396.90   7.88  11.9  "
      ]
     },
     "execution_count": 47,
     "metadata": {},
     "output_type": "execute_result"
    }
   ],
   "source": [
    "#last 5 rows\n",
    "df2.tail()"
   ]
  },
  {
   "cell_type": "markdown",
   "id": "a21a47a7-ea04-4d98-b2e1-e50391e8f8f1",
   "metadata": {},
   "source": [
    "# Saving processed data frames tTo CSV File"
   ]
  },
  {
   "cell_type": "code",
   "execution_count": 48,
   "id": "25bed999-ea95-4d5f-b641-cc56aacfdb03",
   "metadata": {},
   "outputs": [],
   "source": [
    "df2.to_csv('HousingDat_dataframeToFile.csv')"
   ]
  },
  {
   "cell_type": "markdown",
   "id": "cad00cdd-d719-4f29-9e36-bd8b34dd1f08",
   "metadata": {},
   "source": [
    "# Pandas Operations"
   ]
  },
  {
   "cell_type": "code",
   "execution_count": 50,
   "id": "e7056e8c-751c-4499-8187-746423c36b70",
   "metadata": {},
   "outputs": [
    {
     "data": {
      "text/plain": [
       "0      65.2\n",
       "1      78.9\n",
       "2      61.1\n",
       "3      45.8\n",
       "4      54.2\n",
       "       ... \n",
       "501    69.1\n",
       "502    76.7\n",
       "503    91.0\n",
       "504    89.3\n",
       "505     NaN\n",
       "Name: AGE, Length: 506, dtype: float64"
      ]
     },
     "execution_count": 50,
     "metadata": {},
     "output_type": "execute_result"
    }
   ],
   "source": [
    "#slicing and indexing\n",
    "df2['AGE']"
   ]
  },
  {
   "cell_type": "code",
   "execution_count": 51,
   "id": "0c59541d-46aa-4bf2-9028-11850a03452b",
   "metadata": {},
   "outputs": [
    {
     "data": {
      "text/html": [
       "<div>\n",
       "<style scoped>\n",
       "    .dataframe tbody tr th:only-of-type {\n",
       "        vertical-align: middle;\n",
       "    }\n",
       "\n",
       "    .dataframe tbody tr th {\n",
       "        vertical-align: top;\n",
       "    }\n",
       "\n",
       "    .dataframe thead th {\n",
       "        text-align: right;\n",
       "    }\n",
       "</style>\n",
       "<table border=\"1\" class=\"dataframe\">\n",
       "  <thead>\n",
       "    <tr style=\"text-align: right;\">\n",
       "      <th></th>\n",
       "      <th>AGE</th>\n",
       "      <th>TAX</th>\n",
       "    </tr>\n",
       "  </thead>\n",
       "  <tbody>\n",
       "    <tr>\n",
       "      <th>0</th>\n",
       "      <td>65.2</td>\n",
       "      <td>296</td>\n",
       "    </tr>\n",
       "    <tr>\n",
       "      <th>1</th>\n",
       "      <td>78.9</td>\n",
       "      <td>242</td>\n",
       "    </tr>\n",
       "    <tr>\n",
       "      <th>2</th>\n",
       "      <td>61.1</td>\n",
       "      <td>242</td>\n",
       "    </tr>\n",
       "    <tr>\n",
       "      <th>3</th>\n",
       "      <td>45.8</td>\n",
       "      <td>222</td>\n",
       "    </tr>\n",
       "    <tr>\n",
       "      <th>4</th>\n",
       "      <td>54.2</td>\n",
       "      <td>222</td>\n",
       "    </tr>\n",
       "    <tr>\n",
       "      <th>...</th>\n",
       "      <td>...</td>\n",
       "      <td>...</td>\n",
       "    </tr>\n",
       "    <tr>\n",
       "      <th>501</th>\n",
       "      <td>69.1</td>\n",
       "      <td>273</td>\n",
       "    </tr>\n",
       "    <tr>\n",
       "      <th>502</th>\n",
       "      <td>76.7</td>\n",
       "      <td>273</td>\n",
       "    </tr>\n",
       "    <tr>\n",
       "      <th>503</th>\n",
       "      <td>91.0</td>\n",
       "      <td>273</td>\n",
       "    </tr>\n",
       "    <tr>\n",
       "      <th>504</th>\n",
       "      <td>89.3</td>\n",
       "      <td>273</td>\n",
       "    </tr>\n",
       "    <tr>\n",
       "      <th>505</th>\n",
       "      <td>NaN</td>\n",
       "      <td>273</td>\n",
       "    </tr>\n",
       "  </tbody>\n",
       "</table>\n",
       "<p>506 rows × 2 columns</p>\n",
       "</div>"
      ],
      "text/plain": [
       "      AGE  TAX\n",
       "0    65.2  296\n",
       "1    78.9  242\n",
       "2    61.1  242\n",
       "3    45.8  222\n",
       "4    54.2  222\n",
       "..    ...  ...\n",
       "501  69.1  273\n",
       "502  76.7  273\n",
       "503  91.0  273\n",
       "504  89.3  273\n",
       "505   NaN  273\n",
       "\n",
       "[506 rows x 2 columns]"
      ]
     },
     "execution_count": 51,
     "metadata": {},
     "output_type": "execute_result"
    }
   ],
   "source": [
    "#Creating index for entities\n",
    "df2[['AGE','TAX']]"
   ]
  },
  {
   "cell_type": "markdown",
   "id": "955359c8-fcac-4ce3-846d-6fa6c96812d5",
   "metadata": {},
   "source": [
    "1) Set_Index-Pandas DataFrame method that sets the index of the DataFrame to the values in the specified column. \n",
    "This method returns a new DataFrame with the updated index"
   ]
  },
  {
   "cell_type": "code",
   "execution_count": 55,
   "id": "efc0e665-eddf-4b8c-a6a9-c641230f1657",
   "metadata": {},
   "outputs": [
    {
     "data": {
      "text/html": [
       "<div>\n",
       "<style scoped>\n",
       "    .dataframe tbody tr th:only-of-type {\n",
       "        vertical-align: middle;\n",
       "    }\n",
       "\n",
       "    .dataframe tbody tr th {\n",
       "        vertical-align: top;\n",
       "    }\n",
       "\n",
       "    .dataframe thead th {\n",
       "        text-align: right;\n",
       "    }\n",
       "</style>\n",
       "<table border=\"1\" class=\"dataframe\">\n",
       "  <thead>\n",
       "    <tr style=\"text-align: right;\">\n",
       "      <th></th>\n",
       "      <th>CRIM</th>\n",
       "      <th>ZN</th>\n",
       "      <th>INDUS</th>\n",
       "      <th>CHAS</th>\n",
       "      <th>NOX</th>\n",
       "      <th>RM</th>\n",
       "      <th>AGE</th>\n",
       "      <th>DIS</th>\n",
       "      <th>RAD</th>\n",
       "      <th>TAX</th>\n",
       "      <th>PTRATIO</th>\n",
       "      <th>B</th>\n",
       "      <th>LSTAT</th>\n",
       "      <th>MEDV</th>\n",
       "    </tr>\n",
       "  </thead>\n",
       "  <tbody>\n",
       "    <tr>\n",
       "      <th>0</th>\n",
       "      <td>0.00632</td>\n",
       "      <td>18.0</td>\n",
       "      <td>2.31</td>\n",
       "      <td>0.0</td>\n",
       "      <td>0.538</td>\n",
       "      <td>6.575</td>\n",
       "      <td>65.2</td>\n",
       "      <td>4.0900</td>\n",
       "      <td>1</td>\n",
       "      <td>296</td>\n",
       "      <td>15.3</td>\n",
       "      <td>396.90</td>\n",
       "      <td>4.98</td>\n",
       "      <td>24.0</td>\n",
       "    </tr>\n",
       "    <tr>\n",
       "      <th>1</th>\n",
       "      <td>0.02731</td>\n",
       "      <td>0.0</td>\n",
       "      <td>7.07</td>\n",
       "      <td>0.0</td>\n",
       "      <td>0.469</td>\n",
       "      <td>6.421</td>\n",
       "      <td>78.9</td>\n",
       "      <td>4.9671</td>\n",
       "      <td>2</td>\n",
       "      <td>242</td>\n",
       "      <td>17.8</td>\n",
       "      <td>396.90</td>\n",
       "      <td>9.14</td>\n",
       "      <td>21.6</td>\n",
       "    </tr>\n",
       "    <tr>\n",
       "      <th>2</th>\n",
       "      <td>0.02729</td>\n",
       "      <td>0.0</td>\n",
       "      <td>7.07</td>\n",
       "      <td>0.0</td>\n",
       "      <td>0.469</td>\n",
       "      <td>7.185</td>\n",
       "      <td>61.1</td>\n",
       "      <td>4.9671</td>\n",
       "      <td>2</td>\n",
       "      <td>242</td>\n",
       "      <td>17.8</td>\n",
       "      <td>392.83</td>\n",
       "      <td>4.03</td>\n",
       "      <td>34.7</td>\n",
       "    </tr>\n",
       "    <tr>\n",
       "      <th>3</th>\n",
       "      <td>0.03237</td>\n",
       "      <td>0.0</td>\n",
       "      <td>2.18</td>\n",
       "      <td>0.0</td>\n",
       "      <td>0.458</td>\n",
       "      <td>6.998</td>\n",
       "      <td>45.8</td>\n",
       "      <td>6.0622</td>\n",
       "      <td>3</td>\n",
       "      <td>222</td>\n",
       "      <td>18.7</td>\n",
       "      <td>394.63</td>\n",
       "      <td>2.94</td>\n",
       "      <td>33.4</td>\n",
       "    </tr>\n",
       "    <tr>\n",
       "      <th>4</th>\n",
       "      <td>0.06905</td>\n",
       "      <td>0.0</td>\n",
       "      <td>2.18</td>\n",
       "      <td>0.0</td>\n",
       "      <td>0.458</td>\n",
       "      <td>7.147</td>\n",
       "      <td>54.2</td>\n",
       "      <td>6.0622</td>\n",
       "      <td>3</td>\n",
       "      <td>222</td>\n",
       "      <td>18.7</td>\n",
       "      <td>396.90</td>\n",
       "      <td>NaN</td>\n",
       "      <td>36.2</td>\n",
       "    </tr>\n",
       "  </tbody>\n",
       "</table>\n",
       "</div>"
      ],
      "text/plain": [
       "      CRIM    ZN  INDUS  CHAS    NOX     RM   AGE     DIS  RAD  TAX  PTRATIO  \\\n",
       "0  0.00632  18.0   2.31   0.0  0.538  6.575  65.2  4.0900    1  296     15.3   \n",
       "1  0.02731   0.0   7.07   0.0  0.469  6.421  78.9  4.9671    2  242     17.8   \n",
       "2  0.02729   0.0   7.07   0.0  0.469  7.185  61.1  4.9671    2  242     17.8   \n",
       "3  0.03237   0.0   2.18   0.0  0.458  6.998  45.8  6.0622    3  222     18.7   \n",
       "4  0.06905   0.0   2.18   0.0  0.458  7.147  54.2  6.0622    3  222     18.7   \n",
       "\n",
       "        B  LSTAT  MEDV  \n",
       "0  396.90   4.98  24.0  \n",
       "1  396.90   9.14  21.6  \n",
       "2  392.83   4.03  34.7  \n",
       "3  394.63   2.94  33.4  \n",
       "4  396.90    NaN  36.2  "
      ]
     },
     "execution_count": 55,
     "metadata": {},
     "output_type": "execute_result"
    }
   ],
   "source": [
    "df2.set_index(\"AGE\")\n",
    "df2.head()"
   ]
  },
  {
   "cell_type": "code",
   "execution_count": 58,
   "id": "c64caa29-394a-432d-9ee8-1f202c12e0f6",
   "metadata": {},
   "outputs": [
    {
     "data": {
      "text/html": [
       "<div>\n",
       "<style scoped>\n",
       "    .dataframe tbody tr th:only-of-type {\n",
       "        vertical-align: middle;\n",
       "    }\n",
       "\n",
       "    .dataframe tbody tr th {\n",
       "        vertical-align: top;\n",
       "    }\n",
       "\n",
       "    .dataframe thead th {\n",
       "        text-align: right;\n",
       "    }\n",
       "</style>\n",
       "<table border=\"1\" class=\"dataframe\">\n",
       "  <thead>\n",
       "    <tr style=\"text-align: right;\">\n",
       "      <th></th>\n",
       "      <th>CRIM</th>\n",
       "      <th>ZN</th>\n",
       "      <th>INDUS</th>\n",
       "      <th>CHAS</th>\n",
       "      <th>NOX</th>\n",
       "      <th>RM</th>\n",
       "      <th>DIS</th>\n",
       "      <th>RAD</th>\n",
       "      <th>TAX</th>\n",
       "      <th>PTRATIO</th>\n",
       "      <th>B</th>\n",
       "      <th>LSTAT</th>\n",
       "      <th>MEDV</th>\n",
       "    </tr>\n",
       "    <tr>\n",
       "      <th>AGE</th>\n",
       "      <th></th>\n",
       "      <th></th>\n",
       "      <th></th>\n",
       "      <th></th>\n",
       "      <th></th>\n",
       "      <th></th>\n",
       "      <th></th>\n",
       "      <th></th>\n",
       "      <th></th>\n",
       "      <th></th>\n",
       "      <th></th>\n",
       "      <th></th>\n",
       "      <th></th>\n",
       "    </tr>\n",
       "  </thead>\n",
       "  <tbody>\n",
       "    <tr>\n",
       "      <th>65.2</th>\n",
       "      <td>0.00632</td>\n",
       "      <td>18.0</td>\n",
       "      <td>2.31</td>\n",
       "      <td>0.0</td>\n",
       "      <td>0.538</td>\n",
       "      <td>6.575</td>\n",
       "      <td>4.0900</td>\n",
       "      <td>1</td>\n",
       "      <td>296</td>\n",
       "      <td>15.3</td>\n",
       "      <td>396.90</td>\n",
       "      <td>4.98</td>\n",
       "      <td>24.0</td>\n",
       "    </tr>\n",
       "    <tr>\n",
       "      <th>78.9</th>\n",
       "      <td>0.02731</td>\n",
       "      <td>0.0</td>\n",
       "      <td>7.07</td>\n",
       "      <td>0.0</td>\n",
       "      <td>0.469</td>\n",
       "      <td>6.421</td>\n",
       "      <td>4.9671</td>\n",
       "      <td>2</td>\n",
       "      <td>242</td>\n",
       "      <td>17.8</td>\n",
       "      <td>396.90</td>\n",
       "      <td>9.14</td>\n",
       "      <td>21.6</td>\n",
       "    </tr>\n",
       "    <tr>\n",
       "      <th>61.1</th>\n",
       "      <td>0.02729</td>\n",
       "      <td>0.0</td>\n",
       "      <td>7.07</td>\n",
       "      <td>0.0</td>\n",
       "      <td>0.469</td>\n",
       "      <td>7.185</td>\n",
       "      <td>4.9671</td>\n",
       "      <td>2</td>\n",
       "      <td>242</td>\n",
       "      <td>17.8</td>\n",
       "      <td>392.83</td>\n",
       "      <td>4.03</td>\n",
       "      <td>34.7</td>\n",
       "    </tr>\n",
       "    <tr>\n",
       "      <th>45.8</th>\n",
       "      <td>0.03237</td>\n",
       "      <td>0.0</td>\n",
       "      <td>2.18</td>\n",
       "      <td>0.0</td>\n",
       "      <td>0.458</td>\n",
       "      <td>6.998</td>\n",
       "      <td>6.0622</td>\n",
       "      <td>3</td>\n",
       "      <td>222</td>\n",
       "      <td>18.7</td>\n",
       "      <td>394.63</td>\n",
       "      <td>2.94</td>\n",
       "      <td>33.4</td>\n",
       "    </tr>\n",
       "    <tr>\n",
       "      <th>54.2</th>\n",
       "      <td>0.06905</td>\n",
       "      <td>0.0</td>\n",
       "      <td>2.18</td>\n",
       "      <td>0.0</td>\n",
       "      <td>0.458</td>\n",
       "      <td>7.147</td>\n",
       "      <td>6.0622</td>\n",
       "      <td>3</td>\n",
       "      <td>222</td>\n",
       "      <td>18.7</td>\n",
       "      <td>396.90</td>\n",
       "      <td>NaN</td>\n",
       "      <td>36.2</td>\n",
       "    </tr>\n",
       "  </tbody>\n",
       "</table>\n",
       "</div>"
      ],
      "text/plain": [
       "         CRIM    ZN  INDUS  CHAS    NOX     RM     DIS  RAD  TAX  PTRATIO  \\\n",
       "AGE                                                                         \n",
       "65.2  0.00632  18.0   2.31   0.0  0.538  6.575  4.0900    1  296     15.3   \n",
       "78.9  0.02731   0.0   7.07   0.0  0.469  6.421  4.9671    2  242     17.8   \n",
       "61.1  0.02729   0.0   7.07   0.0  0.469  7.185  4.9671    2  242     17.8   \n",
       "45.8  0.03237   0.0   2.18   0.0  0.458  6.998  6.0622    3  222     18.7   \n",
       "54.2  0.06905   0.0   2.18   0.0  0.458  7.147  6.0622    3  222     18.7   \n",
       "\n",
       "           B  LSTAT  MEDV  \n",
       "AGE                        \n",
       "65.2  396.90   4.98  24.0  \n",
       "78.9  396.90   9.14  21.6  \n",
       "61.1  392.83   4.03  34.7  \n",
       "45.8  394.63   2.94  33.4  \n",
       "54.2  396.90    NaN  36.2  "
      ]
     },
     "execution_count": 58,
     "metadata": {},
     "output_type": "execute_result"
    }
   ],
   "source": [
    "df2.set_index(\"AGE\",inplace=True)\n",
    "df2.head()"
   ]
  },
  {
   "cell_type": "code",
   "execution_count": 59,
   "id": "3ae0fb84-57e0-4efc-a11a-dc5d8bb641eb",
   "metadata": {},
   "outputs": [
    {
     "data": {
      "text/html": [
       "<div>\n",
       "<style scoped>\n",
       "    .dataframe tbody tr th:only-of-type {\n",
       "        vertical-align: middle;\n",
       "    }\n",
       "\n",
       "    .dataframe tbody tr th {\n",
       "        vertical-align: top;\n",
       "    }\n",
       "\n",
       "    .dataframe thead th {\n",
       "        text-align: right;\n",
       "    }\n",
       "</style>\n",
       "<table border=\"1\" class=\"dataframe\">\n",
       "  <thead>\n",
       "    <tr style=\"text-align: right;\">\n",
       "      <th></th>\n",
       "      <th>AGE</th>\n",
       "      <th>CRIM</th>\n",
       "      <th>ZN</th>\n",
       "      <th>INDUS</th>\n",
       "      <th>CHAS</th>\n",
       "      <th>NOX</th>\n",
       "      <th>RM</th>\n",
       "      <th>DIS</th>\n",
       "      <th>RAD</th>\n",
       "      <th>TAX</th>\n",
       "      <th>PTRATIO</th>\n",
       "      <th>B</th>\n",
       "      <th>LSTAT</th>\n",
       "      <th>MEDV</th>\n",
       "    </tr>\n",
       "  </thead>\n",
       "  <tbody>\n",
       "    <tr>\n",
       "      <th>0</th>\n",
       "      <td>65.2</td>\n",
       "      <td>0.00632</td>\n",
       "      <td>18.0</td>\n",
       "      <td>2.31</td>\n",
       "      <td>0.0</td>\n",
       "      <td>0.538</td>\n",
       "      <td>6.575</td>\n",
       "      <td>4.0900</td>\n",
       "      <td>1</td>\n",
       "      <td>296</td>\n",
       "      <td>15.3</td>\n",
       "      <td>396.90</td>\n",
       "      <td>4.98</td>\n",
       "      <td>24.0</td>\n",
       "    </tr>\n",
       "    <tr>\n",
       "      <th>1</th>\n",
       "      <td>78.9</td>\n",
       "      <td>0.02731</td>\n",
       "      <td>0.0</td>\n",
       "      <td>7.07</td>\n",
       "      <td>0.0</td>\n",
       "      <td>0.469</td>\n",
       "      <td>6.421</td>\n",
       "      <td>4.9671</td>\n",
       "      <td>2</td>\n",
       "      <td>242</td>\n",
       "      <td>17.8</td>\n",
       "      <td>396.90</td>\n",
       "      <td>9.14</td>\n",
       "      <td>21.6</td>\n",
       "    </tr>\n",
       "    <tr>\n",
       "      <th>2</th>\n",
       "      <td>61.1</td>\n",
       "      <td>0.02729</td>\n",
       "      <td>0.0</td>\n",
       "      <td>7.07</td>\n",
       "      <td>0.0</td>\n",
       "      <td>0.469</td>\n",
       "      <td>7.185</td>\n",
       "      <td>4.9671</td>\n",
       "      <td>2</td>\n",
       "      <td>242</td>\n",
       "      <td>17.8</td>\n",
       "      <td>392.83</td>\n",
       "      <td>4.03</td>\n",
       "      <td>34.7</td>\n",
       "    </tr>\n",
       "  </tbody>\n",
       "</table>\n",
       "</div>"
      ],
      "text/plain": [
       "    AGE     CRIM    ZN  INDUS  CHAS    NOX     RM     DIS  RAD  TAX  PTRATIO  \\\n",
       "0  65.2  0.00632  18.0   2.31   0.0  0.538  6.575  4.0900    1  296     15.3   \n",
       "1  78.9  0.02731   0.0   7.07   0.0  0.469  6.421  4.9671    2  242     17.8   \n",
       "2  61.1  0.02729   0.0   7.07   0.0  0.469  7.185  4.9671    2  242     17.8   \n",
       "\n",
       "        B  LSTAT  MEDV  \n",
       "0  396.90   4.98  24.0  \n",
       "1  396.90   9.14  21.6  \n",
       "2  392.83   4.03  34.7  "
      ]
     },
     "execution_count": 59,
     "metadata": {},
     "output_type": "execute_result"
    }
   ],
   "source": [
    "# Reset Index\n",
    "df2.reset_index(inplace=True)\n",
    "df2.head(3)"
   ]
  },
  {
   "cell_type": "code",
   "execution_count": 60,
   "id": "ba70a84f-1e09-4dfe-8792-68f0a320f63b",
   "metadata": {},
   "outputs": [
    {
     "data": {
      "text/plain": [
       "pandas.core.series.Series"
      ]
     },
     "execution_count": 60,
     "metadata": {},
     "output_type": "execute_result"
    }
   ],
   "source": [
    "#Checking type\n",
    "type(df2['TAX'])"
   ]
  },
  {
   "cell_type": "code",
   "execution_count": 61,
   "id": "816c1c00-2092-44b9-96ba-f0168249c1ab",
   "metadata": {},
   "outputs": [],
   "source": [
    "# Add a new column, eg. adding two columns\n",
    "df2['TAX_AGE']=df2['TAX']+df2['AGE']"
   ]
  },
  {
   "cell_type": "code",
   "execution_count": 62,
   "id": "77f7a767-d0c2-4bdd-9e12-8582b42acf1d",
   "metadata": {},
   "outputs": [
    {
     "data": {
      "text/html": [
       "<div>\n",
       "<style scoped>\n",
       "    .dataframe tbody tr th:only-of-type {\n",
       "        vertical-align: middle;\n",
       "    }\n",
       "\n",
       "    .dataframe tbody tr th {\n",
       "        vertical-align: top;\n",
       "    }\n",
       "\n",
       "    .dataframe thead th {\n",
       "        text-align: right;\n",
       "    }\n",
       "</style>\n",
       "<table border=\"1\" class=\"dataframe\">\n",
       "  <thead>\n",
       "    <tr style=\"text-align: right;\">\n",
       "      <th></th>\n",
       "      <th>AGE</th>\n",
       "      <th>CRIM</th>\n",
       "      <th>ZN</th>\n",
       "      <th>INDUS</th>\n",
       "      <th>CHAS</th>\n",
       "      <th>NOX</th>\n",
       "      <th>RM</th>\n",
       "      <th>DIS</th>\n",
       "      <th>RAD</th>\n",
       "      <th>TAX</th>\n",
       "      <th>PTRATIO</th>\n",
       "      <th>B</th>\n",
       "      <th>LSTAT</th>\n",
       "      <th>MEDV</th>\n",
       "      <th>TAX_AGE</th>\n",
       "    </tr>\n",
       "  </thead>\n",
       "  <tbody>\n",
       "    <tr>\n",
       "      <th>0</th>\n",
       "      <td>65.2</td>\n",
       "      <td>0.00632</td>\n",
       "      <td>18.0</td>\n",
       "      <td>2.31</td>\n",
       "      <td>0.0</td>\n",
       "      <td>0.538</td>\n",
       "      <td>6.575</td>\n",
       "      <td>4.0900</td>\n",
       "      <td>1</td>\n",
       "      <td>296</td>\n",
       "      <td>15.3</td>\n",
       "      <td>396.9</td>\n",
       "      <td>4.98</td>\n",
       "      <td>24.0</td>\n",
       "      <td>361.2</td>\n",
       "    </tr>\n",
       "    <tr>\n",
       "      <th>1</th>\n",
       "      <td>78.9</td>\n",
       "      <td>0.02731</td>\n",
       "      <td>0.0</td>\n",
       "      <td>7.07</td>\n",
       "      <td>0.0</td>\n",
       "      <td>0.469</td>\n",
       "      <td>6.421</td>\n",
       "      <td>4.9671</td>\n",
       "      <td>2</td>\n",
       "      <td>242</td>\n",
       "      <td>17.8</td>\n",
       "      <td>396.9</td>\n",
       "      <td>9.14</td>\n",
       "      <td>21.6</td>\n",
       "      <td>320.9</td>\n",
       "    </tr>\n",
       "  </tbody>\n",
       "</table>\n",
       "</div>"
      ],
      "text/plain": [
       "    AGE     CRIM    ZN  INDUS  CHAS    NOX     RM     DIS  RAD  TAX  PTRATIO  \\\n",
       "0  65.2  0.00632  18.0   2.31   0.0  0.538  6.575  4.0900    1  296     15.3   \n",
       "1  78.9  0.02731   0.0   7.07   0.0  0.469  6.421  4.9671    2  242     17.8   \n",
       "\n",
       "       B  LSTAT  MEDV  TAX_AGE  \n",
       "0  396.9   4.98  24.0    361.2  \n",
       "1  396.9   9.14  21.6    320.9  "
      ]
     },
     "execution_count": 62,
     "metadata": {},
     "output_type": "execute_result"
    }
   ],
   "source": [
    "df2.head(2)\n"
   ]
  },
  {
   "cell_type": "code",
   "execution_count": 64,
   "id": "afcf8ede-f10a-47e6-8cfc-ca6a13a91d50",
   "metadata": {},
   "outputs": [
    {
     "data": {
      "text/html": [
       "<div>\n",
       "<style scoped>\n",
       "    .dataframe tbody tr th:only-of-type {\n",
       "        vertical-align: middle;\n",
       "    }\n",
       "\n",
       "    .dataframe tbody tr th {\n",
       "        vertical-align: top;\n",
       "    }\n",
       "\n",
       "    .dataframe thead th {\n",
       "        text-align: right;\n",
       "    }\n",
       "</style>\n",
       "<table border=\"1\" class=\"dataframe\">\n",
       "  <thead>\n",
       "    <tr style=\"text-align: right;\">\n",
       "      <th></th>\n",
       "      <th>AGE</th>\n",
       "      <th>CRIM</th>\n",
       "      <th>ZN</th>\n",
       "      <th>INDUS</th>\n",
       "      <th>CHAS</th>\n",
       "      <th>NOX</th>\n",
       "      <th>RM</th>\n",
       "      <th>DIS</th>\n",
       "      <th>RAD</th>\n",
       "      <th>TAX</th>\n",
       "      <th>PTRATIO</th>\n",
       "      <th>B</th>\n",
       "      <th>LSTAT</th>\n",
       "      <th>MEDV</th>\n",
       "      <th>TAX_AGE</th>\n",
       "    </tr>\n",
       "  </thead>\n",
       "  <tbody>\n",
       "    <tr>\n",
       "      <th>0</th>\n",
       "      <td>65.2</td>\n",
       "      <td>0.00632</td>\n",
       "      <td>18.0</td>\n",
       "      <td>2.31</td>\n",
       "      <td>0.0</td>\n",
       "      <td>0.538</td>\n",
       "      <td>6.575</td>\n",
       "      <td>4.0900</td>\n",
       "      <td>1</td>\n",
       "      <td>296</td>\n",
       "      <td>15.3</td>\n",
       "      <td>396.9</td>\n",
       "      <td>4.98</td>\n",
       "      <td>24.0</td>\n",
       "      <td>361.2</td>\n",
       "    </tr>\n",
       "    <tr>\n",
       "      <th>1</th>\n",
       "      <td>78.9</td>\n",
       "      <td>0.02731</td>\n",
       "      <td>0.0</td>\n",
       "      <td>7.07</td>\n",
       "      <td>0.0</td>\n",
       "      <td>0.469</td>\n",
       "      <td>6.421</td>\n",
       "      <td>4.9671</td>\n",
       "      <td>2</td>\n",
       "      <td>242</td>\n",
       "      <td>17.8</td>\n",
       "      <td>396.9</td>\n",
       "      <td>9.14</td>\n",
       "      <td>21.6</td>\n",
       "      <td>320.9</td>\n",
       "    </tr>\n",
       "  </tbody>\n",
       "</table>\n",
       "</div>"
      ],
      "text/plain": [
       "    AGE     CRIM    ZN  INDUS  CHAS    NOX     RM     DIS  RAD  TAX  PTRATIO  \\\n",
       "0  65.2  0.00632  18.0   2.31   0.0  0.538  6.575  4.0900    1  296     15.3   \n",
       "1  78.9  0.02731   0.0   7.07   0.0  0.469  6.421  4.9671    2  242     17.8   \n",
       "\n",
       "       B  LSTAT  MEDV  TAX_AGE  \n",
       "0  396.9   4.98  24.0    361.2  \n",
       "1  396.9   9.14  21.6    320.9  "
      ]
     },
     "execution_count": 64,
     "metadata": {},
     "output_type": "execute_result"
    }
   ],
   "source": [
    "#Drop newly added column\n",
    "df2.drop('TAX_AGE',axis=1,)\n",
    "df2.head(2)"
   ]
  },
  {
   "cell_type": "code",
   "execution_count": 65,
   "id": "3792fd7f-4989-4689-9b1b-f84a7e8c7e6d",
   "metadata": {},
   "outputs": [
    {
     "name": "stdout",
     "output_type": "stream",
     "text": [
      "<class 'pandas.core.frame.DataFrame'>\n",
      "RangeIndex: 506 entries, 0 to 505\n",
      "Data columns (total 15 columns):\n",
      " #   Column   Non-Null Count  Dtype  \n",
      "---  ------   --------------  -----  \n",
      " 0   AGE      486 non-null    float64\n",
      " 1   CRIM     486 non-null    float64\n",
      " 2   ZN       486 non-null    float64\n",
      " 3   INDUS    486 non-null    float64\n",
      " 4   CHAS     486 non-null    float64\n",
      " 5   NOX      506 non-null    float64\n",
      " 6   RM       506 non-null    float64\n",
      " 7   DIS      506 non-null    float64\n",
      " 8   RAD      506 non-null    int64  \n",
      " 9   TAX      506 non-null    int64  \n",
      " 10  PTRATIO  506 non-null    float64\n",
      " 11  B        506 non-null    float64\n",
      " 12  LSTAT    486 non-null    float64\n",
      " 13  MEDV     506 non-null    float64\n",
      " 14  TAX_AGE  486 non-null    float64\n",
      "dtypes: float64(13), int64(2)\n",
      "memory usage: 59.4 KB\n"
     ]
    }
   ],
   "source": [
    "#info of the dataframe\n",
    "df2.info()"
   ]
  },
  {
   "cell_type": "code",
   "execution_count": 66,
   "id": "595ed99a-41b1-4fbd-8c36-3ca99d8c65e0",
   "metadata": {},
   "outputs": [
    {
     "data": {
      "text/html": [
       "<div>\n",
       "<style scoped>\n",
       "    .dataframe tbody tr th:only-of-type {\n",
       "        vertical-align: middle;\n",
       "    }\n",
       "\n",
       "    .dataframe tbody tr th {\n",
       "        vertical-align: top;\n",
       "    }\n",
       "\n",
       "    .dataframe thead th {\n",
       "        text-align: right;\n",
       "    }\n",
       "</style>\n",
       "<table border=\"1\" class=\"dataframe\">\n",
       "  <thead>\n",
       "    <tr style=\"text-align: right;\">\n",
       "      <th></th>\n",
       "      <th>AGE</th>\n",
       "      <th>CRIM</th>\n",
       "      <th>ZN</th>\n",
       "      <th>INDUS</th>\n",
       "      <th>CHAS</th>\n",
       "      <th>NOX</th>\n",
       "      <th>RM</th>\n",
       "      <th>DIS</th>\n",
       "      <th>RAD</th>\n",
       "      <th>TAX</th>\n",
       "      <th>PTRATIO</th>\n",
       "      <th>B</th>\n",
       "      <th>LSTAT</th>\n",
       "      <th>MEDV</th>\n",
       "    </tr>\n",
       "  </thead>\n",
       "  <tbody>\n",
       "    <tr>\n",
       "      <th>0</th>\n",
       "      <td>65.2</td>\n",
       "      <td>0.00632</td>\n",
       "      <td>18.0</td>\n",
       "      <td>2.31</td>\n",
       "      <td>0.0</td>\n",
       "      <td>0.538</td>\n",
       "      <td>6.575</td>\n",
       "      <td>4.0900</td>\n",
       "      <td>1</td>\n",
       "      <td>296</td>\n",
       "      <td>15.3</td>\n",
       "      <td>396.9</td>\n",
       "      <td>4.98</td>\n",
       "      <td>24.0</td>\n",
       "    </tr>\n",
       "    <tr>\n",
       "      <th>1</th>\n",
       "      <td>78.9</td>\n",
       "      <td>0.02731</td>\n",
       "      <td>0.0</td>\n",
       "      <td>7.07</td>\n",
       "      <td>0.0</td>\n",
       "      <td>0.469</td>\n",
       "      <td>6.421</td>\n",
       "      <td>4.9671</td>\n",
       "      <td>2</td>\n",
       "      <td>242</td>\n",
       "      <td>17.8</td>\n",
       "      <td>396.9</td>\n",
       "      <td>9.14</td>\n",
       "      <td>21.6</td>\n",
       "    </tr>\n",
       "  </tbody>\n",
       "</table>\n",
       "</div>"
      ],
      "text/plain": [
       "    AGE     CRIM    ZN  INDUS  CHAS    NOX     RM     DIS  RAD  TAX  PTRATIO  \\\n",
       "0  65.2  0.00632  18.0   2.31   0.0  0.538  6.575  4.0900    1  296     15.3   \n",
       "1  78.9  0.02731   0.0   7.07   0.0  0.469  6.421  4.9671    2  242     17.8   \n",
       "\n",
       "       B  LSTAT  MEDV  \n",
       "0  396.9   4.98  24.0  \n",
       "1  396.9   9.14  21.6  "
      ]
     },
     "execution_count": 66,
     "metadata": {},
     "output_type": "execute_result"
    }
   ],
   "source": [
    "df2.drop('TAX_AGE',axis=1,inplace=True)\n",
    "df2.head(2)"
   ]
  },
  {
   "cell_type": "code",
   "execution_count": 69,
   "id": "498d2948-e701-4fb9-a647-4a5f0195a618",
   "metadata": {},
   "outputs": [
    {
     "data": {
      "text/html": [
       "<div>\n",
       "<style scoped>\n",
       "    .dataframe tbody tr th:only-of-type {\n",
       "        vertical-align: middle;\n",
       "    }\n",
       "\n",
       "    .dataframe tbody tr th {\n",
       "        vertical-align: top;\n",
       "    }\n",
       "\n",
       "    .dataframe thead th {\n",
       "        text-align: right;\n",
       "    }\n",
       "</style>\n",
       "<table border=\"1\" class=\"dataframe\">\n",
       "  <thead>\n",
       "    <tr style=\"text-align: right;\">\n",
       "      <th></th>\n",
       "      <th>AGE</th>\n",
       "      <th>CRIM</th>\n",
       "      <th>ZN</th>\n",
       "      <th>INDUS</th>\n",
       "      <th>CHAS</th>\n",
       "      <th>NOX</th>\n",
       "      <th>RM</th>\n",
       "      <th>DIS</th>\n",
       "      <th>RAD</th>\n",
       "      <th>TAX</th>\n",
       "      <th>PTRATIO</th>\n",
       "      <th>B</th>\n",
       "      <th>LSTAT</th>\n",
       "      <th>MEDV</th>\n",
       "    </tr>\n",
       "  </thead>\n",
       "  <tbody>\n",
       "    <tr>\n",
       "      <th>0</th>\n",
       "      <td>65.2</td>\n",
       "      <td>0.00632</td>\n",
       "      <td>18.0</td>\n",
       "      <td>2.31</td>\n",
       "      <td>0.0</td>\n",
       "      <td>0.538</td>\n",
       "      <td>6.575</td>\n",
       "      <td>4.0900</td>\n",
       "      <td>1</td>\n",
       "      <td>296</td>\n",
       "      <td>15.3</td>\n",
       "      <td>396.90</td>\n",
       "      <td>4.98</td>\n",
       "      <td>24.0</td>\n",
       "    </tr>\n",
       "    <tr>\n",
       "      <th>2</th>\n",
       "      <td>61.1</td>\n",
       "      <td>0.02729</td>\n",
       "      <td>0.0</td>\n",
       "      <td>7.07</td>\n",
       "      <td>0.0</td>\n",
       "      <td>0.469</td>\n",
       "      <td>7.185</td>\n",
       "      <td>4.9671</td>\n",
       "      <td>2</td>\n",
       "      <td>242</td>\n",
       "      <td>17.8</td>\n",
       "      <td>392.83</td>\n",
       "      <td>4.03</td>\n",
       "      <td>34.7</td>\n",
       "    </tr>\n",
       "    <tr>\n",
       "      <th>4</th>\n",
       "      <td>54.2</td>\n",
       "      <td>0.06905</td>\n",
       "      <td>0.0</td>\n",
       "      <td>2.18</td>\n",
       "      <td>0.0</td>\n",
       "      <td>0.458</td>\n",
       "      <td>7.147</td>\n",
       "      <td>6.0622</td>\n",
       "      <td>3</td>\n",
       "      <td>222</td>\n",
       "      <td>18.7</td>\n",
       "      <td>396.90</td>\n",
       "      <td>NaN</td>\n",
       "      <td>36.2</td>\n",
       "    </tr>\n",
       "    <tr>\n",
       "      <th>5</th>\n",
       "      <td>58.7</td>\n",
       "      <td>0.02985</td>\n",
       "      <td>0.0</td>\n",
       "      <td>2.18</td>\n",
       "      <td>0.0</td>\n",
       "      <td>0.458</td>\n",
       "      <td>6.430</td>\n",
       "      <td>6.0622</td>\n",
       "      <td>3</td>\n",
       "      <td>222</td>\n",
       "      <td>18.7</td>\n",
       "      <td>394.12</td>\n",
       "      <td>5.21</td>\n",
       "      <td>28.7</td>\n",
       "    </tr>\n",
       "    <tr>\n",
       "      <th>6</th>\n",
       "      <td>66.6</td>\n",
       "      <td>0.08829</td>\n",
       "      <td>12.5</td>\n",
       "      <td>7.87</td>\n",
       "      <td>NaN</td>\n",
       "      <td>0.524</td>\n",
       "      <td>6.012</td>\n",
       "      <td>5.5605</td>\n",
       "      <td>5</td>\n",
       "      <td>311</td>\n",
       "      <td>15.2</td>\n",
       "      <td>395.60</td>\n",
       "      <td>12.43</td>\n",
       "      <td>22.9</td>\n",
       "    </tr>\n",
       "  </tbody>\n",
       "</table>\n",
       "</div>"
      ],
      "text/plain": [
       "    AGE     CRIM    ZN  INDUS  CHAS    NOX     RM     DIS  RAD  TAX  PTRATIO  \\\n",
       "0  65.2  0.00632  18.0   2.31   0.0  0.538  6.575  4.0900    1  296     15.3   \n",
       "2  61.1  0.02729   0.0   7.07   0.0  0.469  7.185  4.9671    2  242     17.8   \n",
       "4  54.2  0.06905   0.0   2.18   0.0  0.458  7.147  6.0622    3  222     18.7   \n",
       "5  58.7  0.02985   0.0   2.18   0.0  0.458  6.430  6.0622    3  222     18.7   \n",
       "6  66.6  0.08829  12.5   7.87   NaN  0.524  6.012  5.5605    5  311     15.2   \n",
       "\n",
       "        B  LSTAT  MEDV  \n",
       "0  396.90   4.98  24.0  \n",
       "2  392.83   4.03  34.7  \n",
       "4  396.90    NaN  36.2  \n",
       "5  394.12   5.21  28.7  \n",
       "6  395.60  12.43  22.9  "
      ]
     },
     "execution_count": 69,
     "metadata": {},
     "output_type": "execute_result"
    }
   ],
   "source": [
    "#Drop rows\n",
    "df2.drop(3,axis=0,inplace=True)\n",
    "df2.head()"
   ]
  },
  {
   "cell_type": "markdown",
   "id": "c4c0388c-01fc-4626-a5d9-516566b1e738",
   "metadata": {},
   "source": [
    "\n",
    "Select rows based on label(loc) or position (iloc)\n"
   ]
  },
  {
   "cell_type": "code",
   "execution_count": 70,
   "id": "c7b3e2e1-54fa-498c-b910-eb1bc559e583",
   "metadata": {},
   "outputs": [
    {
     "data": {
      "text/plain": [
       "AGE         58.70000\n",
       "CRIM         0.02985\n",
       "ZN           0.00000\n",
       "INDUS        2.18000\n",
       "CHAS         0.00000\n",
       "NOX          0.45800\n",
       "RM           6.43000\n",
       "DIS          6.06220\n",
       "RAD          3.00000\n",
       "TAX        222.00000\n",
       "PTRATIO     18.70000\n",
       "B          394.12000\n",
       "LSTAT        5.21000\n",
       "MEDV        28.70000\n",
       "Name: 5, dtype: float64"
      ]
     },
     "execution_count": 70,
     "metadata": {},
     "output_type": "execute_result"
    }
   ],
   "source": [
    "df2.loc[5]"
   ]
  },
  {
   "cell_type": "markdown",
   "id": "6a6df3a1-2ea7-4fb2-85fa-a13fc7b860b6",
   "metadata": {},
   "source": [
    "\n",
    "Info about the database"
   ]
  },
  {
   "cell_type": "code",
   "execution_count": 71,
   "id": "87940190-757a-4b64-a2a6-4f94681fd2c5",
   "metadata": {},
   "outputs": [
    {
     "name": "stdout",
     "output_type": "stream",
     "text": [
      "Type:\n",
      " <class 'pandas.core.frame.DataFrame'>\n"
     ]
    }
   ],
   "source": [
    "#Type of the dataframe\n",
    "print(\"Type:\\n\",type(df2))"
   ]
  },
  {
   "cell_type": "code",
   "execution_count": 73,
   "id": "2bafa2c4-3c88-4c20-9f09-c24b24e779e0",
   "metadata": {},
   "outputs": [
    {
     "name": "stdout",
     "output_type": "stream",
     "text": [
      "Shape of dataframe: (504, 14)\n",
      "(504, 14)\n"
     ]
    }
   ],
   "source": [
    "print(\"Shape of dataframe:\",df2.shape)\n",
    "df2.drop_duplicates() #drop duplicate entries\n",
    "print(df2.shape)"
   ]
  },
  {
   "cell_type": "code",
   "execution_count": 74,
   "id": "f7b59238-8218-4560-89cc-f64f1bf423f2",
   "metadata": {},
   "outputs": [
    {
     "name": "stdout",
     "output_type": "stream",
     "text": [
      "Columns of dataframe:\t Index(['AGE', 'CRIM', 'ZN', 'INDUS', 'CHAS', 'NOX', 'RM', 'DIS', 'RAD', 'TAX',\n",
      "       'PTRATIO', 'B', 'LSTAT', 'MEDV'],\n",
      "      dtype='object')\n"
     ]
    }
   ],
   "source": [
    "print(\"Columns of dataframe:\\t\",df2.columns)"
   ]
  },
  {
   "cell_type": "code",
   "execution_count": 75,
   "id": "15e66426-4486-4a53-b58b-278d7ba1c2f0",
   "metadata": {},
   "outputs": [
    {
     "name": "stdout",
     "output_type": "stream",
     "text": [
      "<class 'pandas.core.frame.DataFrame'>\n",
      "Index: 504 entries, 0 to 505\n",
      "Data columns (total 14 columns):\n",
      " #   Column   Non-Null Count  Dtype  \n",
      "---  ------   --------------  -----  \n",
      " 0   AGE      484 non-null    float64\n",
      " 1   CRIM     484 non-null    float64\n",
      " 2   ZN       484 non-null    float64\n",
      " 3   INDUS    484 non-null    float64\n",
      " 4   CHAS     484 non-null    float64\n",
      " 5   NOX      504 non-null    float64\n",
      " 6   RM       504 non-null    float64\n",
      " 7   DIS      504 non-null    float64\n",
      " 8   RAD      504 non-null    int64  \n",
      " 9   TAX      504 non-null    int64  \n",
      " 10  PTRATIO  504 non-null    float64\n",
      " 11  B        504 non-null    float64\n",
      " 12  LSTAT    484 non-null    float64\n",
      " 13  MEDV     504 non-null    float64\n",
      "dtypes: float64(12), int64(2)\n",
      "memory usage: 75.2 KB\n"
     ]
    }
   ],
   "source": [
    "df2.info()"
   ]
  },
  {
   "cell_type": "code",
   "execution_count": 76,
   "id": "da8f8839-9dfb-49af-ac6e-9e4025847794",
   "metadata": {},
   "outputs": [
    {
     "name": "stdout",
     "output_type": "stream",
     "text": [
      "Columns of dataframe:\t Index(['AGE', 'CRIM', 'ZN', 'INDUS', 'CHAS', 'NOX', 'RM', 'DIS', 'RAD',\n",
      "       'TAX_INFO', 'PTRATIO', 'B', 'LSTAT', 'MEDV'],\n",
      "      dtype='object')\n"
     ]
    }
   ],
   "source": [
    "df2.rename(columns={'TAX':'TAX_INFO'},inplace=True)\n",
    "print(\"Columns of dataframe:\\t\",df2.columns)"
   ]
  },
  {
   "cell_type": "code",
   "execution_count": 77,
   "id": "697b33b8-78c4-436a-95d4-c6518bf40826",
   "metadata": {},
   "outputs": [
    {
     "name": "stdout",
     "output_type": "stream",
     "text": [
      "              AGE        CRIM          ZN       INDUS        CHAS         NOX  \\\n",
      "count  484.000000  484.000000  484.000000  484.000000  484.000000  504.000000   \n",
      "mean    68.544008    3.626676   11.258264   11.110682    0.070248    0.555057   \n",
      "std     28.034383    8.735174   23.426097    6.835551    0.255829    0.115964   \n",
      "min      2.900000    0.006320    0.000000    0.460000    0.000000    0.385000   \n",
      "25%     45.075000    0.082155    0.000000    5.190000    0.000000    0.449000   \n",
      "50%     76.800000    0.256510    0.000000    9.690000    0.000000    0.538000   \n",
      "75%     94.025000    3.594927   12.500000   18.100000    0.000000    0.624000   \n",
      "max    100.000000   88.976200  100.000000   27.740000    1.000000    0.871000   \n",
      "\n",
      "               RM         DIS         RAD    TAX_INFO     PTRATIO           B  \\\n",
      "count  504.000000  504.000000  504.000000  504.000000  504.000000  504.000000   \n",
      "mean     6.282948    3.788219    9.577381  408.936508   18.456349  356.518909   \n",
      "std      0.703265    2.106810    8.713120  168.503163    2.169021   91.442809   \n",
      "min      3.561000    1.129600    1.000000  187.000000   12.600000    0.320000   \n",
      "25%      5.884750    2.097050    4.000000  279.750000   17.375000  375.300000   \n",
      "50%      6.205000    3.190950    5.000000  330.000000   19.100000  391.385000   \n",
      "75%      6.620500    5.141475   24.000000  666.000000   20.200000  396.215000   \n",
      "max      8.780000   12.126500   24.000000  711.000000   22.000000  396.900000   \n",
      "\n",
      "            LSTAT        MEDV  \n",
      "count  484.000000  504.000000  \n",
      "mean    12.743017   22.513095  \n",
      "std      7.154960    9.202508  \n",
      "min      1.730000    5.000000  \n",
      "25%      7.135000   16.950000  \n",
      "50%     11.465000   21.200000  \n",
      "75%     16.992500   25.000000  \n",
      "max     37.970000   50.000000  \n"
     ]
    }
   ],
   "source": [
    "#get statistics of the data\n",
    "print(df2.describe())"
   ]
  },
  {
   "cell_type": "markdown",
   "id": "ebbef609-f889-4926-b098-10c1d73a66b8",
   "metadata": {},
   "source": [
    "Accessing using index:"
   ]
  },
  {
   "cell_type": "code",
   "execution_count": 78,
   "id": "63da5c12-8c68-45da-b314-c857996d5c3f",
   "metadata": {},
   "outputs": [
    {
     "name": "stdout",
     "output_type": "stream",
     "text": [
      "First five values of 'AGE' column\t:\n",
      "    CHAS    NOX     RM\n",
      "0   0.0  0.538  6.575\n",
      "2   0.0  0.469  7.185\n",
      "4   0.0  0.458  7.147\n",
      "5   0.0  0.458  6.430\n",
      "6   NaN  0.524  6.012\n"
     ]
    }
   ],
   "source": [
    "print(\"First five values of 'AGE' column\\t:\\n\",df2.iloc[0:5,4:7])"
   ]
  },
  {
   "cell_type": "code",
   "execution_count": 82,
   "id": "f4446559-66f0-4b8f-b630-da3f779db3df",
   "metadata": {},
   "outputs": [
    {
     "name": "stdout",
     "output_type": "stream",
     "text": [
      "0      False\n",
      "2      False\n",
      "4      False\n",
      "5      False\n",
      "6      False\n",
      "       ...  \n",
      "501    False\n",
      "502    False\n",
      "503     True\n",
      "504     True\n",
      "505    False\n",
      "Name: AGE, Length: 504, dtype: bool\n"
     ]
    }
   ],
   "source": [
    "#Creating subsets using conditional operators\n",
    "df3 = df2['AGE']>80\n",
    "print(df3)"
   ]
  },
  {
   "cell_type": "code",
   "execution_count": 83,
   "id": "cdc95858-9f6f-4674-8981-89803703d3df",
   "metadata": {},
   "outputs": [
    {
     "name": "stdout",
     "output_type": "stream",
     "text": [
      "       AGE     CRIM    ZN  INDUS  CHAS    NOX     RM     DIS  RAD  TAX_INFO  \\\n",
      "7     96.1  0.14455  12.5   7.87   0.0  0.524  6.172  5.9505    5       311   \n",
      "8    100.0  0.21124  12.5   7.87   0.0  0.524  5.631  6.0821    5       311   \n",
      "9     85.9  0.17004  12.5   7.87   NaN  0.524  6.004  6.5921    5       311   \n",
      "10    94.3  0.22489  12.5   7.87   0.0  0.524  6.377  6.3467    5       311   \n",
      "11    82.9  0.11747  12.5   7.87   0.0  0.524  6.009  6.2267    5       311   \n",
      "..     ...      ...   ...    ...   ...    ...    ...     ...  ...       ...   \n",
      "490   98.0  0.20746   0.0  27.74   0.0  0.609  5.093  1.8226    4       711   \n",
      "491   98.8  0.10574   0.0  27.74   0.0  0.609  5.983  1.8681    4       711   \n",
      "492   83.5  0.11132   0.0  27.74   0.0  0.609  5.983  2.1099    4       711   \n",
      "503   91.0  0.06076   0.0  11.93   0.0  0.573  6.976  2.1675    1       273   \n",
      "504   89.3  0.10959   0.0  11.93   0.0  0.573  6.794  2.3889    1       273   \n",
      "\n",
      "     PTRATIO       B  LSTAT  MEDV  \n",
      "7       15.2  396.90  19.15  27.1  \n",
      "8       15.2  386.63  29.93  16.5  \n",
      "9       15.2  386.71  17.10  18.9  \n",
      "10      15.2  392.52  20.45  15.0  \n",
      "11      15.2  396.90  13.27  18.9  \n",
      "..       ...     ...    ...   ...  \n",
      "490     20.1  318.43  29.68   8.1  \n",
      "491     20.1  390.11  18.07  13.6  \n",
      "492     20.1  396.90  13.35  20.1  \n",
      "503     21.0  396.90   5.64  23.9  \n",
      "504     21.0  393.45   6.48  22.0  \n",
      "\n",
      "[227 rows x 14 columns]\n"
     ]
    }
   ],
   "source": [
    "df4 = df2[df3] #Creating subset\n",
    "print(df4)"
   ]
  },
  {
   "cell_type": "markdown",
   "id": "ce8fef3c-8d5b-4dbf-9c4b-238a7f171cdc",
   "metadata": {},
   "source": [
    "2) Groupby -The groupby method allows you to group rows of data together and call aggregate functions"
   ]
  },
  {
   "cell_type": "code",
   "execution_count": 85,
   "id": "bb4b38f8-8b3b-4dab-a97d-0900ca2099a8",
   "metadata": {},
   "outputs": [
    {
     "data": {
      "text/html": [
       "<div>\n",
       "<style scoped>\n",
       "    .dataframe tbody tr th:only-of-type {\n",
       "        vertical-align: middle;\n",
       "    }\n",
       "\n",
       "    .dataframe tbody tr th {\n",
       "        vertical-align: top;\n",
       "    }\n",
       "\n",
       "    .dataframe thead th {\n",
       "        text-align: right;\n",
       "    }\n",
       "</style>\n",
       "<table border=\"1\" class=\"dataframe\">\n",
       "  <thead>\n",
       "    <tr style=\"text-align: right;\">\n",
       "      <th></th>\n",
       "      <th>AGE</th>\n",
       "      <th>CRIM</th>\n",
       "      <th>ZN</th>\n",
       "      <th>INDUS</th>\n",
       "      <th>CHAS</th>\n",
       "      <th>NOX</th>\n",
       "      <th>RM</th>\n",
       "      <th>DIS</th>\n",
       "      <th>RAD</th>\n",
       "      <th>PTRATIO</th>\n",
       "      <th>B</th>\n",
       "      <th>LSTAT</th>\n",
       "      <th>MEDV</th>\n",
       "    </tr>\n",
       "    <tr>\n",
       "      <th>TAX_INFO</th>\n",
       "      <th></th>\n",
       "      <th></th>\n",
       "      <th></th>\n",
       "      <th></th>\n",
       "      <th></th>\n",
       "      <th></th>\n",
       "      <th></th>\n",
       "      <th></th>\n",
       "      <th></th>\n",
       "      <th></th>\n",
       "      <th></th>\n",
       "      <th></th>\n",
       "      <th></th>\n",
       "    </tr>\n",
       "  </thead>\n",
       "  <tbody>\n",
       "    <tr>\n",
       "      <th>187</th>\n",
       "      <td>36.100000</td>\n",
       "      <td>0.017090</td>\n",
       "      <td>90.0</td>\n",
       "      <td>2.02</td>\n",
       "      <td>0.0</td>\n",
       "      <td>0.41000</td>\n",
       "      <td>6.728000</td>\n",
       "      <td>12.126500</td>\n",
       "      <td>5.0</td>\n",
       "      <td>17.00</td>\n",
       "      <td>384.460000</td>\n",
       "      <td>4.500000</td>\n",
       "      <td>30.100000</td>\n",
       "    </tr>\n",
       "    <tr>\n",
       "      <th>188</th>\n",
       "      <td>87.983333</td>\n",
       "      <td>0.148410</td>\n",
       "      <td>0.0</td>\n",
       "      <td>25.65</td>\n",
       "      <td>0.0</td>\n",
       "      <td>0.58100</td>\n",
       "      <td>5.881286</td>\n",
       "      <td>2.034686</td>\n",
       "      <td>2.0</td>\n",
       "      <td>19.10</td>\n",
       "      <td>376.987143</td>\n",
       "      <td>18.804286</td>\n",
       "      <td>19.428571</td>\n",
       "    </tr>\n",
       "    <tr>\n",
       "      <th>193</th>\n",
       "      <td>75.487500</td>\n",
       "      <td>0.069023</td>\n",
       "      <td>0.0</td>\n",
       "      <td>2.46</td>\n",
       "      <td>0.0</td>\n",
       "      <td>0.48800</td>\n",
       "      <td>6.774375</td>\n",
       "      <td>2.897788</td>\n",
       "      <td>3.0</td>\n",
       "      <td>17.80</td>\n",
       "      <td>393.890000</td>\n",
       "      <td>8.016250</td>\n",
       "      <td>36.200000</td>\n",
       "    </tr>\n",
       "    <tr>\n",
       "      <th>198</th>\n",
       "      <td>24.800000</td>\n",
       "      <td>0.015010</td>\n",
       "      <td>90.0</td>\n",
       "      <td>1.21</td>\n",
       "      <td>1.0</td>\n",
       "      <td>0.40100</td>\n",
       "      <td>7.923000</td>\n",
       "      <td>5.885000</td>\n",
       "      <td>1.0</td>\n",
       "      <td>13.60</td>\n",
       "      <td>395.520000</td>\n",
       "      <td>3.160000</td>\n",
       "      <td>50.000000</td>\n",
       "    </tr>\n",
       "    <tr>\n",
       "      <th>216</th>\n",
       "      <td>51.475000</td>\n",
       "      <td>0.072802</td>\n",
       "      <td>19.5</td>\n",
       "      <td>2.94</td>\n",
       "      <td>0.2</td>\n",
       "      <td>0.43754</td>\n",
       "      <td>7.269800</td>\n",
       "      <td>5.694980</td>\n",
       "      <td>4.6</td>\n",
       "      <td>15.64</td>\n",
       "      <td>389.350000</td>\n",
       "      <td>4.852000</td>\n",
       "      <td>38.980000</td>\n",
       "    </tr>\n",
       "  </tbody>\n",
       "</table>\n",
       "</div>"
      ],
      "text/plain": [
       "                AGE      CRIM    ZN  INDUS  CHAS      NOX        RM  \\\n",
       "TAX_INFO                                                              \n",
       "187       36.100000  0.017090  90.0   2.02   0.0  0.41000  6.728000   \n",
       "188       87.983333  0.148410   0.0  25.65   0.0  0.58100  5.881286   \n",
       "193       75.487500  0.069023   0.0   2.46   0.0  0.48800  6.774375   \n",
       "198       24.800000  0.015010  90.0   1.21   1.0  0.40100  7.923000   \n",
       "216       51.475000  0.072802  19.5   2.94   0.2  0.43754  7.269800   \n",
       "\n",
       "                DIS  RAD  PTRATIO           B      LSTAT       MEDV  \n",
       "TAX_INFO                                                             \n",
       "187       12.126500  5.0    17.00  384.460000   4.500000  30.100000  \n",
       "188        2.034686  2.0    19.10  376.987143  18.804286  19.428571  \n",
       "193        2.897788  3.0    17.80  393.890000   8.016250  36.200000  \n",
       "198        5.885000  1.0    13.60  395.520000   3.160000  50.000000  \n",
       "216        5.694980  4.6    15.64  389.350000   4.852000  38.980000  "
      ]
     },
     "execution_count": 85,
     "metadata": {},
     "output_type": "execute_result"
    }
   ],
   "source": [
    "df5 = df2.groupby('TAX_INFO').mean()\n",
    "df5.head()"
   ]
  },
  {
   "cell_type": "markdown",
   "id": "554c2f82-9904-4da5-94df-7f564f0dc2ca",
   "metadata": {},
   "source": [
    "# Visualisation"
   ]
  },
  {
   "cell_type": "code",
   "execution_count": 88,
   "id": "db97a6ea-0427-4847-8a8f-c67e3562f21b",
   "metadata": {
    "scrolled": true
   },
   "outputs": [
    {
     "name": "stdout",
     "output_type": "stream",
     "text": [
      "Collecting matplotlib\n",
      "  Obtaining dependency information for matplotlib from https://files.pythonhosted.org/packages/26/5a/27fd341e4510257789f19a4b4be8bb90d1113b8f176c3dab562b4f21466e/matplotlib-3.8.2-cp311-cp311-win_amd64.whl.metadata\n",
      "  Downloading matplotlib-3.8.2-cp311-cp311-win_amd64.whl.metadata (5.9 kB)\n",
      "Collecting contourpy>=1.0.1 (from matplotlib)\n",
      "  Obtaining dependency information for contourpy>=1.0.1 from https://files.pythonhosted.org/packages/ca/2a/d197a412ec474391ee878b1218cf2fe9c6e963903755887fc5654c06636a/contourpy-1.2.0-cp311-cp311-win_amd64.whl.metadata\n",
      "  Downloading contourpy-1.2.0-cp311-cp311-win_amd64.whl.metadata (5.8 kB)\n",
      "Collecting cycler>=0.10 (from matplotlib)\n",
      "  Obtaining dependency information for cycler>=0.10 from https://files.pythonhosted.org/packages/e7/05/c19819d5e3d95294a6f5947fb9b9629efb316b96de511b418c53d245aae6/cycler-0.12.1-py3-none-any.whl.metadata\n",
      "  Downloading cycler-0.12.1-py3-none-any.whl.metadata (3.8 kB)\n",
      "Collecting fonttools>=4.22.0 (from matplotlib)\n",
      "  Obtaining dependency information for fonttools>=4.22.0 from https://files.pythonhosted.org/packages/a0/ef/93321cf55180a778b4d97919b28739874c0afab90e7b9f5b232db70f47c2/fonttools-4.47.2-cp311-cp311-win_amd64.whl.metadata\n",
      "  Downloading fonttools-4.47.2-cp311-cp311-win_amd64.whl.metadata (160 kB)\n",
      "     ---------------------------------------- 0.0/160.8 kB ? eta -:--:--\n",
      "     -- ------------------------------------- 10.2/160.8 kB ? eta -:--:--\n",
      "     -- ------------------------------------- 10.2/160.8 kB ? eta -:--:--\n",
      "     -- ------------------------------------- 10.2/160.8 kB ? eta -:--:--\n",
      "     -------------- ---------------------- 61.4/160.8 kB 409.6 kB/s eta 0:00:01\n",
      "     --------------------- --------------- 92.2/160.8 kB 438.1 kB/s eta 0:00:01\n",
      "     --------------------- --------------- 92.2/160.8 kB 438.1 kB/s eta 0:00:01\n",
      "     --------------------------- -------- 122.9/160.8 kB 400.9 kB/s eta 0:00:01\n",
      "     -------------------------------- --- 143.4/160.8 kB 426.7 kB/s eta 0:00:01\n",
      "     ------------------------------------ 160.8/160.8 kB 419.3 kB/s eta 0:00:00\n",
      "Collecting kiwisolver>=1.3.1 (from matplotlib)\n",
      "  Obtaining dependency information for kiwisolver>=1.3.1 from https://files.pythonhosted.org/packages/1e/37/d3c2d4ba2719059a0f12730947bbe1ad5ee8bff89e8c35319dcb2c9ddb4c/kiwisolver-1.4.5-cp311-cp311-win_amd64.whl.metadata\n",
      "  Downloading kiwisolver-1.4.5-cp311-cp311-win_amd64.whl.metadata (6.5 kB)\n",
      "Requirement already satisfied: numpy<2,>=1.21 in c:\\users\\sireesha\\appdata\\local\\programs\\python\\python311\\lib\\site-packages (from matplotlib) (1.26.3)\n",
      "Requirement already satisfied: packaging>=20.0 in c:\\users\\sireesha\\appdata\\local\\programs\\python\\python311\\lib\\site-packages (from matplotlib) (23.1)\n",
      "Collecting pillow>=8 (from matplotlib)\n",
      "  Obtaining dependency information for pillow>=8 from https://files.pythonhosted.org/packages/43/56/f92715a873187b5eff72a4a0d2ac6258e18e9bfb0e136aafde65c49a841a/pillow-10.2.0-cp311-cp311-win_amd64.whl.metadata\n",
      "  Downloading pillow-10.2.0-cp311-cp311-win_amd64.whl.metadata (9.9 kB)\n",
      "Collecting pyparsing>=2.3.1 (from matplotlib)\n",
      "  Obtaining dependency information for pyparsing>=2.3.1 from https://files.pythonhosted.org/packages/39/92/8486ede85fcc088f1b3dba4ce92dd29d126fd96b0008ea213167940a2475/pyparsing-3.1.1-py3-none-any.whl.metadata\n",
      "  Downloading pyparsing-3.1.1-py3-none-any.whl.metadata (5.1 kB)\n",
      "Requirement already satisfied: python-dateutil>=2.7 in c:\\users\\sireesha\\appdata\\local\\programs\\python\\python311\\lib\\site-packages (from matplotlib) (2.8.2)\n",
      "Requirement already satisfied: six>=1.5 in c:\\users\\sireesha\\appdata\\local\\programs\\python\\python311\\lib\\site-packages (from python-dateutil>=2.7->matplotlib) (1.16.0)\n",
      "Downloading matplotlib-3.8.2-cp311-cp311-win_amd64.whl (7.6 MB)\n",
      "   ---------------------------------------- 0.0/7.6 MB ? eta -:--:--\n",
      "   ---------------------------------------- 0.0/7.6 MB ? eta -:--:--\n",
      "   ---------------------------------------- 0.0/7.6 MB ? eta -:--:--\n",
      "   ---------------------------------------- 0.0/7.6 MB ? eta -:--:--\n",
      "   ---------------------------------------- 0.0/7.6 MB ? eta -:--:--\n",
      "   ---------------------------------------- 0.0/7.6 MB 326.8 kB/s eta 0:00:24\n",
      "   ---------------------------------------- 0.0/7.6 MB 326.8 kB/s eta 0:00:24\n",
      "   ---------------------------------------- 0.1/7.6 MB 273.8 kB/s eta 0:00:28\n",
      "   ---------------------------------------- 0.1/7.6 MB 327.3 kB/s eta 0:00:24\n",
      "   ---------------------------------------- 0.1/7.6 MB 327.3 kB/s eta 0:00:24\n",
      "   ---------------------------------------- 0.1/7.6 MB 327.3 kB/s eta 0:00:24\n",
      "    --------------------------------------- 0.1/7.6 MB 297.7 kB/s eta 0:00:26\n",
      "    --------------------------------------- 0.1/7.6 MB 277.4 kB/s eta 0:00:28\n",
      "    --------------------------------------- 0.1/7.6 MB 277.4 kB/s eta 0:00:28\n",
      "    --------------------------------------- 0.1/7.6 MB 266.2 kB/s eta 0:00:29\n",
      "    --------------------------------------- 0.2/7.6 MB 273.3 kB/s eta 0:00:28\n",
      "    --------------------------------------- 0.2/7.6 MB 273.3 kB/s eta 0:00:28\n",
      "   - -------------------------------------- 0.2/7.6 MB 281.0 kB/s eta 0:00:27\n",
      "   - -------------------------------------- 0.2/7.6 MB 281.0 kB/s eta 0:00:27\n",
      "   - -------------------------------------- 0.2/7.6 MB 281.0 kB/s eta 0:00:27\n",
      "   - -------------------------------------- 0.2/7.6 MB 275.3 kB/s eta 0:00:27\n",
      "   - -------------------------------------- 0.2/7.6 MB 275.3 kB/s eta 0:00:27\n",
      "   - -------------------------------------- 0.2/7.6 MB 269.2 kB/s eta 0:00:28\n",
      "   - -------------------------------------- 0.3/7.6 MB 271.3 kB/s eta 0:00:28\n",
      "   - -------------------------------------- 0.3/7.6 MB 271.3 kB/s eta 0:00:28\n",
      "   - -------------------------------------- 0.3/7.6 MB 268.2 kB/s eta 0:00:28\n",
      "   - -------------------------------------- 0.3/7.6 MB 268.2 kB/s eta 0:00:28\n",
      "   - -------------------------------------- 0.3/7.6 MB 271.4 kB/s eta 0:00:28\n",
      "   - -------------------------------------- 0.3/7.6 MB 274.6 kB/s eta 0:00:27\n",
      "   - -------------------------------------- 0.3/7.6 MB 268.8 kB/s eta 0:00:28\n",
      "   - -------------------------------------- 0.4/7.6 MB 278.5 kB/s eta 0:00:27\n",
      "   - -------------------------------------- 0.4/7.6 MB 273.2 kB/s eta 0:00:27\n",
      "   - -------------------------------------- 0.4/7.6 MB 273.2 kB/s eta 0:00:27\n",
      "   -- ------------------------------------- 0.4/7.6 MB 284.0 kB/s eta 0:00:26\n",
      "   -- ------------------------------------- 0.4/7.6 MB 284.0 kB/s eta 0:00:26\n",
      "   -- ------------------------------------- 0.4/7.6 MB 286.7 kB/s eta 0:00:26\n",
      "   -- ------------------------------------- 0.4/7.6 MB 286.7 kB/s eta 0:00:26\n",
      "   -- ------------------------------------- 0.5/7.6 MB 281.9 kB/s eta 0:00:26\n",
      "   -- ------------------------------------- 0.5/7.6 MB 283.6 kB/s eta 0:00:26\n",
      "   -- ------------------------------------- 0.5/7.6 MB 290.6 kB/s eta 0:00:25\n",
      "   -- ------------------------------------- 0.5/7.6 MB 285.9 kB/s eta 0:00:25\n",
      "   -- ------------------------------------- 0.5/7.6 MB 287.5 kB/s eta 0:00:25\n",
      "   -- ------------------------------------- 0.5/7.6 MB 287.5 kB/s eta 0:00:25\n",
      "   -- ------------------------------------- 0.5/7.6 MB 278.5 kB/s eta 0:00:26\n",
      "   -- ------------------------------------- 0.6/7.6 MB 284.7 kB/s eta 0:00:25\n",
      "   -- ------------------------------------- 0.6/7.6 MB 284.7 kB/s eta 0:00:25\n",
      "   --- ------------------------------------ 0.6/7.6 MB 281.6 kB/s eta 0:00:26\n",
      "   --- ------------------------------------ 0.6/7.6 MB 282.3 kB/s eta 0:00:26\n",
      "   --- ------------------------------------ 0.6/7.6 MB 282.3 kB/s eta 0:00:26\n",
      "   --- ------------------------------------ 0.6/7.6 MB 280.2 kB/s eta 0:00:26\n",
      "   --- ------------------------------------ 0.6/7.6 MB 280.2 kB/s eta 0:00:26\n",
      "   --- ------------------------------------ 0.6/7.6 MB 277.6 kB/s eta 0:00:26\n",
      "   --- ------------------------------------ 0.6/7.6 MB 277.6 kB/s eta 0:00:26\n",
      "   --- ------------------------------------ 0.7/7.6 MB 279.0 kB/s eta 0:00:26\n",
      "   --- ------------------------------------ 0.7/7.6 MB 275.9 kB/s eta 0:00:26\n",
      "   --- ------------------------------------ 0.7/7.6 MB 277.3 kB/s eta 0:00:26\n",
      "   --- ------------------------------------ 0.7/7.6 MB 277.9 kB/s eta 0:00:26\n",
      "   --- ------------------------------------ 0.7/7.6 MB 279.2 kB/s eta 0:00:25\n",
      "   --- ------------------------------------ 0.7/7.6 MB 283.8 kB/s eta 0:00:25\n",
      "   --- ------------------------------------ 0.7/7.6 MB 280.9 kB/s eta 0:00:25\n",
      "   --- ------------------------------------ 0.7/7.6 MB 280.9 kB/s eta 0:00:25\n",
      "   ---- ----------------------------------- 0.8/7.6 MB 282.5 kB/s eta 0:00:25\n",
      "   ---- ----------------------------------- 0.8/7.6 MB 286.7 kB/s eta 0:00:24\n",
      "   ---- ----------------------------------- 0.8/7.6 MB 287.7 kB/s eta 0:00:24\n",
      "   ---- ----------------------------------- 0.8/7.6 MB 287.7 kB/s eta 0:00:24\n",
      "   ---- ----------------------------------- 0.8/7.6 MB 288.5 kB/s eta 0:00:24\n",
      "   ---- ----------------------------------- 0.8/7.6 MB 285.9 kB/s eta 0:00:24\n",
      "   ---- ----------------------------------- 0.9/7.6 MB 286.7 kB/s eta 0:00:24\n",
      "   ---- ----------------------------------- 0.9/7.6 MB 286.7 kB/s eta 0:00:24\n",
      "   ---- ----------------------------------- 0.9/7.6 MB 284.3 kB/s eta 0:00:24\n",
      "   ---- ----------------------------------- 0.9/7.6 MB 285.1 kB/s eta 0:00:24\n",
      "   ---- ----------------------------------- 0.9/7.6 MB 288.8 kB/s eta 0:00:24\n",
      "   ---- ----------------------------------- 0.9/7.6 MB 286.3 kB/s eta 0:00:24\n",
      "   ---- ----------------------------------- 1.0/7.6 MB 287.1 kB/s eta 0:00:24\n",
      "   ---- ----------------------------------- 1.0/7.6 MB 287.1 kB/s eta 0:00:24\n",
      "   ----- ---------------------------------- 1.0/7.6 MB 288.2 kB/s eta 0:00:24\n",
      "   ----- ---------------------------------- 1.0/7.6 MB 288.2 kB/s eta 0:00:24\n",
      "   ----- ---------------------------------- 1.0/7.6 MB 288.2 kB/s eta 0:00:24\n",
      "   ----- ---------------------------------- 1.0/7.6 MB 286.7 kB/s eta 0:00:24\n",
      "   ----- ---------------------------------- 1.0/7.6 MB 290.0 kB/s eta 0:00:23\n",
      "   ----- ---------------------------------- 1.0/7.6 MB 287.8 kB/s eta 0:00:23\n",
      "   ----- ---------------------------------- 1.1/7.6 MB 291.0 kB/s eta 0:00:23\n",
      "   ----- ---------------------------------- 1.1/7.6 MB 291.6 kB/s eta 0:00:23\n",
      "   ----- ---------------------------------- 1.1/7.6 MB 289.4 kB/s eta 0:00:23\n",
      "   ----- ---------------------------------- 1.1/7.6 MB 289.4 kB/s eta 0:00:23\n",
      "   ----- ---------------------------------- 1.1/7.6 MB 287.7 kB/s eta 0:00:23\n",
      "   ----- ---------------------------------- 1.1/7.6 MB 287.7 kB/s eta 0:00:23\n",
      "   ----- ---------------------------------- 1.1/7.6 MB 287.7 kB/s eta 0:00:23\n",
      "   ----- ---------------------------------- 1.1/7.6 MB 287.7 kB/s eta 0:00:23\n",
      "   ----- ---------------------------------- 1.1/7.6 MB 287.7 kB/s eta 0:00:23\n",
      "   ----- ---------------------------------- 1.1/7.6 MB 287.7 kB/s eta 0:00:23\n",
      "   ----- ---------------------------------- 1.1/7.6 MB 287.7 kB/s eta 0:00:23\n",
      "   ----- ---------------------------------- 1.1/7.6 MB 287.7 kB/s eta 0:00:23\n",
      "   ----- ---------------------------------- 1.1/7.6 MB 287.7 kB/s eta 0:00:23\n",
      "   ----- ---------------------------------- 1.1/7.6 MB 287.7 kB/s eta 0:00:23\n",
      "   ------ --------------------------------- 1.1/7.6 MB 265.5 kB/s eta 0:00:25\n",
      "   ------ --------------------------------- 1.1/7.6 MB 265.5 kB/s eta 0:00:25\n",
      "   ------ --------------------------------- 1.2/7.6 MB 264.5 kB/s eta 0:00:25\n",
      "   ------ --------------------------------- 1.2/7.6 MB 263.1 kB/s eta 0:00:25\n",
      "   ------ --------------------------------- 1.2/7.6 MB 263.1 kB/s eta 0:00:25\n",
      "   ------ --------------------------------- 1.2/7.6 MB 262.2 kB/s eta 0:00:25\n",
      "   ------ --------------------------------- 1.2/7.6 MB 260.8 kB/s eta 0:00:25\n",
      "   ------ --------------------------------- 1.2/7.6 MB 260.8 kB/s eta 0:00:25\n",
      "   ------ --------------------------------- 1.2/7.6 MB 261.7 kB/s eta 0:00:25\n",
      "   ------ --------------------------------- 1.2/7.6 MB 262.6 kB/s eta 0:00:25\n",
      "   ------ --------------------------------- 1.2/7.6 MB 262.6 kB/s eta 0:00:25\n",
      "   ------ --------------------------------- 1.3/7.6 MB 259.6 kB/s eta 0:00:25\n",
      "   ------ --------------------------------- 1.3/7.6 MB 262.1 kB/s eta 0:00:25\n",
      "   ------ --------------------------------- 1.3/7.6 MB 260.9 kB/s eta 0:00:25\n",
      "   ------ --------------------------------- 1.3/7.6 MB 261.7 kB/s eta 0:00:25\n",
      "   ------ --------------------------------- 1.3/7.6 MB 261.7 kB/s eta 0:00:25\n",
      "   ------ --------------------------------- 1.3/7.6 MB 261.0 kB/s eta 0:00:25\n",
      "   ------ --------------------------------- 1.3/7.6 MB 261.0 kB/s eta 0:00:25\n",
      "   ------- -------------------------------- 1.3/7.6 MB 258.2 kB/s eta 0:00:25\n",
      "   ------- -------------------------------- 1.3/7.6 MB 258.2 kB/s eta 0:00:25\n",
      "   ------- -------------------------------- 1.4/7.6 MB 259.0 kB/s eta 0:00:25\n",
      "   ------- -------------------------------- 1.4/7.6 MB 259.0 kB/s eta 0:00:25\n",
      "   ------- -------------------------------- 1.4/7.6 MB 258.7 kB/s eta 0:00:25\n",
      "   ------- -------------------------------- 1.4/7.6 MB 258.7 kB/s eta 0:00:25\n",
      "   ------- -------------------------------- 1.4/7.6 MB 258.0 kB/s eta 0:00:25\n",
      "   ------- -------------------------------- 1.4/7.6 MB 258.0 kB/s eta 0:00:25\n",
      "   ------- -------------------------------- 1.4/7.6 MB 256.9 kB/s eta 0:00:25\n",
      "   ------- -------------------------------- 1.4/7.6 MB 257.7 kB/s eta 0:00:25\n",
      "   ------- -------------------------------- 1.5/7.6 MB 256.7 kB/s eta 0:00:25\n",
      "   ------- -------------------------------- 1.5/7.6 MB 256.7 kB/s eta 0:00:25\n",
      "   ------- -------------------------------- 1.5/7.6 MB 257.8 kB/s eta 0:00:24\n",
      "   ------- -------------------------------- 1.5/7.6 MB 257.8 kB/s eta 0:00:24\n",
      "   ------- -------------------------------- 1.5/7.6 MB 256.8 kB/s eta 0:00:24\n",
      "   ------- -------------------------------- 1.5/7.6 MB 257.6 kB/s eta 0:00:24\n",
      "   -------- ------------------------------- 1.5/7.6 MB 259.7 kB/s eta 0:00:24\n",
      "   -------- ------------------------------- 1.5/7.6 MB 258.7 kB/s eta 0:00:24\n",
      "   -------- ------------------------------- 1.6/7.6 MB 259.4 kB/s eta 0:00:24\n",
      "   -------- ------------------------------- 1.6/7.6 MB 259.4 kB/s eta 0:00:24\n",
      "   -------- ------------------------------- 1.6/7.6 MB 259.4 kB/s eta 0:00:24\n",
      "   -------- ------------------------------- 1.6/7.6 MB 259.1 kB/s eta 0:00:24\n",
      "   -------- ------------------------------- 1.6/7.6 MB 259.8 kB/s eta 0:00:24\n",
      "   -------- ------------------------------- 1.6/7.6 MB 259.8 kB/s eta 0:00:24\n",
      "   -------- ------------------------------- 1.6/7.6 MB 257.6 kB/s eta 0:00:24\n",
      "   -------- ------------------------------- 1.6/7.6 MB 257.6 kB/s eta 0:00:24\n",
      "   -------- ------------------------------- 1.6/7.6 MB 257.0 kB/s eta 0:00:24\n",
      "   -------- ------------------------------- 1.7/7.6 MB 257.4 kB/s eta 0:00:24\n",
      "   -------- ------------------------------- 1.7/7.6 MB 257.4 kB/s eta 0:00:24\n",
      "   -------- ------------------------------- 1.7/7.6 MB 256.8 kB/s eta 0:00:24\n",
      "   -------- ------------------------------- 1.7/7.6 MB 256.8 kB/s eta 0:00:24\n",
      "   -------- ------------------------------- 1.7/7.6 MB 256.2 kB/s eta 0:00:24\n",
      "   -------- ------------------------------- 1.7/7.6 MB 255.4 kB/s eta 0:00:24\n",
      "   -------- ------------------------------- 1.7/7.6 MB 255.4 kB/s eta 0:00:24\n",
      "   -------- ------------------------------- 1.7/7.6 MB 255.4 kB/s eta 0:00:24\n",
      "   --------- ------------------------------ 1.7/7.6 MB 253.7 kB/s eta 0:00:24\n",
      "   --------- ------------------------------ 1.7/7.6 MB 252.9 kB/s eta 0:00:24\n",
      "   --------- ------------------------------ 1.7/7.6 MB 252.9 kB/s eta 0:00:24\n",
      "   --------- ------------------------------ 1.8/7.6 MB 253.6 kB/s eta 0:00:24\n",
      "   --------- ------------------------------ 1.8/7.6 MB 253.6 kB/s eta 0:00:24\n",
      "   --------- ------------------------------ 1.8/7.6 MB 253.1 kB/s eta 0:00:24\n",
      "   --------- ------------------------------ 1.8/7.6 MB 253.1 kB/s eta 0:00:24\n",
      "   --------- ------------------------------ 1.8/7.6 MB 252.9 kB/s eta 0:00:24\n",
      "   --------- ------------------------------ 1.8/7.6 MB 252.9 kB/s eta 0:00:24\n",
      "   --------- ------------------------------ 1.8/7.6 MB 252.2 kB/s eta 0:00:24\n",
      "   --------- ------------------------------ 1.8/7.6 MB 252.8 kB/s eta 0:00:23\n",
      "   --------- ------------------------------ 1.9/7.6 MB 253.5 kB/s eta 0:00:23\n",
      "   --------- ------------------------------ 1.9/7.6 MB 253.5 kB/s eta 0:00:23\n",
      "   --------- ------------------------------ 1.9/7.6 MB 252.7 kB/s eta 0:00:23\n",
      "   --------- ------------------------------ 1.9/7.6 MB 253.3 kB/s eta 0:00:23\n",
      "   --------- ------------------------------ 1.9/7.6 MB 253.3 kB/s eta 0:00:23\n",
      "   --------- ------------------------------ 1.9/7.6 MB 251.5 kB/s eta 0:00:23\n",
      "   ---------- ----------------------------- 1.9/7.6 MB 252.2 kB/s eta 0:00:23\n",
      "   ---------- ----------------------------- 1.9/7.6 MB 252.2 kB/s eta 0:00:23\n",
      "   ---------- ----------------------------- 1.9/7.6 MB 252.8 kB/s eta 0:00:23\n",
      "   ---------- ----------------------------- 2.0/7.6 MB 252.1 kB/s eta 0:00:23\n",
      "   ---------- ----------------------------- 2.0/7.6 MB 252.7 kB/s eta 0:00:23\n",
      "   ---------- ----------------------------- 2.0/7.6 MB 252.7 kB/s eta 0:00:23\n",
      "   ---------- ----------------------------- 2.0/7.6 MB 252.0 kB/s eta 0:00:23\n",
      "   ---------- ----------------------------- 2.0/7.6 MB 252.6 kB/s eta 0:00:23\n",
      "   ---------- ----------------------------- 2.0/7.6 MB 253.1 kB/s eta 0:00:23\n",
      "   ---------- ----------------------------- 2.0/7.6 MB 253.4 kB/s eta 0:00:23\n",
      "   ---------- ----------------------------- 2.1/7.6 MB 254.0 kB/s eta 0:00:22\n",
      "   ---------- ----------------------------- 2.1/7.6 MB 254.0 kB/s eta 0:00:22\n",
      "   ---------- ----------------------------- 2.1/7.6 MB 253.6 kB/s eta 0:00:22\n",
      "   ---------- ----------------------------- 2.1/7.6 MB 253.6 kB/s eta 0:00:22\n",
      "   ---------- ----------------------------- 2.1/7.6 MB 253.2 kB/s eta 0:00:22\n",
      "   ---------- ----------------------------- 2.1/7.6 MB 253.2 kB/s eta 0:00:22\n",
      "   ----------- ---------------------------- 2.1/7.6 MB 252.8 kB/s eta 0:00:22\n",
      "   ----------- ---------------------------- 2.1/7.6 MB 252.8 kB/s eta 0:00:22\n",
      "   ----------- ---------------------------- 2.1/7.6 MB 252.2 kB/s eta 0:00:22\n",
      "   ----------- ---------------------------- 2.1/7.6 MB 252.2 kB/s eta 0:00:22\n",
      "   ----------- ---------------------------- 2.2/7.6 MB 251.8 kB/s eta 0:00:22\n",
      "   ----------- ---------------------------- 2.2/7.6 MB 251.8 kB/s eta 0:00:22\n",
      "   ----------- ---------------------------- 2.2/7.6 MB 250.2 kB/s eta 0:00:22\n",
      "   ----------- ---------------------------- 2.2/7.6 MB 250.8 kB/s eta 0:00:22\n",
      "   ----------- ---------------------------- 2.2/7.6 MB 251.3 kB/s eta 0:00:22\n",
      "   ----------- ---------------------------- 2.2/7.6 MB 251.3 kB/s eta 0:00:22\n",
      "   ----------- ---------------------------- 2.2/7.6 MB 249.8 kB/s eta 0:00:22\n",
      "   ----------- ---------------------------- 2.2/7.6 MB 249.8 kB/s eta 0:00:22\n",
      "   ----------- ---------------------------- 2.2/7.6 MB 249.5 kB/s eta 0:00:22\n",
      "   ----------- ---------------------------- 2.2/7.6 MB 249.5 kB/s eta 0:00:22\n",
      "   ----------- ---------------------------- 2.2/7.6 MB 248.9 kB/s eta 0:00:22\n",
      "   ----------- ---------------------------- 2.2/7.6 MB 248.9 kB/s eta 0:00:22\n",
      "   ----------- ---------------------------- 2.3/7.6 MB 249.6 kB/s eta 0:00:22\n",
      "   ----------- ---------------------------- 2.3/7.6 MB 249.6 kB/s eta 0:00:22\n",
      "   ------------ --------------------------- 2.3/7.6 MB 248.6 kB/s eta 0:00:22\n",
      "   ------------ --------------------------- 2.3/7.6 MB 248.6 kB/s eta 0:00:22\n",
      "   ------------ --------------------------- 2.3/7.6 MB 249.1 kB/s eta 0:00:22\n",
      "   ------------ --------------------------- 2.3/7.6 MB 248.5 kB/s eta 0:00:22\n",
      "   ------------ --------------------------- 2.3/7.6 MB 249.9 kB/s eta 0:00:22\n",
      "   ------------ --------------------------- 2.3/7.6 MB 249.9 kB/s eta 0:00:22\n",
      "   ------------ --------------------------- 2.4/7.6 MB 249.8 kB/s eta 0:00:22\n",
      "   ------------ --------------------------- 2.4/7.6 MB 249.8 kB/s eta 0:00:22\n",
      "   ------------ --------------------------- 2.4/7.6 MB 249.5 kB/s eta 0:00:22\n",
      "   ------------ --------------------------- 2.4/7.6 MB 249.5 kB/s eta 0:00:22\n",
      "   ------------ --------------------------- 2.4/7.6 MB 249.0 kB/s eta 0:00:22\n",
      "   ------------ --------------------------- 2.4/7.6 MB 249.0 kB/s eta 0:00:22\n",
      "   ------------ --------------------------- 2.4/7.6 MB 247.9 kB/s eta 0:00:22\n",
      "   ------------ --------------------------- 2.4/7.6 MB 247.9 kB/s eta 0:00:22\n",
      "   ------------ --------------------------- 2.4/7.6 MB 248.4 kB/s eta 0:00:21\n",
      "   ------------ --------------------------- 2.4/7.6 MB 248.4 kB/s eta 0:00:21\n",
      "   ------------ --------------------------- 2.4/7.6 MB 248.4 kB/s eta 0:00:21\n",
      "   ------------ --------------------------- 2.5/7.6 MB 245.5 kB/s eta 0:00:22\n",
      "   ------------ --------------------------- 2.5/7.6 MB 245.5 kB/s eta 0:00:22\n",
      "   ------------ --------------------------- 2.5/7.6 MB 245.3 kB/s eta 0:00:22\n",
      "   ------------ --------------------------- 2.5/7.6 MB 245.3 kB/s eta 0:00:22\n",
      "   ------------ --------------------------- 2.5/7.6 MB 245.3 kB/s eta 0:00:22\n",
      "   ------------- -------------------------- 2.5/7.6 MB 243.3 kB/s eta 0:00:22\n",
      "   ------------- -------------------------- 2.5/7.6 MB 243.3 kB/s eta 0:00:22\n",
      "   ------------- -------------------------- 2.5/7.6 MB 243.0 kB/s eta 0:00:22\n",
      "   ------------- -------------------------- 2.5/7.6 MB 243.0 kB/s eta 0:00:22\n",
      "   ------------- -------------------------- 2.5/7.6 MB 242.1 kB/s eta 0:00:22\n",
      "   ------------- -------------------------- 2.5/7.6 MB 242.1 kB/s eta 0:00:22\n",
      "   ------------- -------------------------- 2.5/7.6 MB 240.9 kB/s eta 0:00:22\n",
      "   ------------- -------------------------- 2.5/7.6 MB 240.9 kB/s eta 0:00:22\n",
      "   ------------- -------------------------- 2.6/7.6 MB 241.4 kB/s eta 0:00:22\n",
      "   ------------- -------------------------- 2.6/7.6 MB 240.9 kB/s eta 0:00:22\n",
      "   ------------- -------------------------- 2.6/7.6 MB 240.9 kB/s eta 0:00:22\n",
      "   ------------- -------------------------- 2.6/7.6 MB 240.5 kB/s eta 0:00:22\n",
      "   ------------- -------------------------- 2.6/7.6 MB 240.5 kB/s eta 0:00:22\n",
      "   ------------- -------------------------- 2.6/7.6 MB 240.5 kB/s eta 0:00:22\n",
      "   ------------- -------------------------- 2.6/7.6 MB 238.9 kB/s eta 0:00:22\n",
      "   ------------- -------------------------- 2.6/7.6 MB 238.5 kB/s eta 0:00:22\n",
      "   ------------- -------------------------- 2.6/7.6 MB 238.5 kB/s eta 0:00:22\n",
      "   ------------- -------------------------- 2.6/7.6 MB 239.0 kB/s eta 0:00:21\n",
      "   ------------- -------------------------- 2.6/7.6 MB 239.0 kB/s eta 0:00:21\n",
      "   ------------- -------------------------- 2.7/7.6 MB 238.8 kB/s eta 0:00:21\n",
      "   ------------- -------------------------- 2.7/7.6 MB 238.8 kB/s eta 0:00:21\n",
      "   ------------- -------------------------- 2.7/7.6 MB 237.7 kB/s eta 0:00:21\n",
      "   ------------- -------------------------- 2.7/7.6 MB 237.7 kB/s eta 0:00:21\n",
      "   -------------- ------------------------- 2.7/7.6 MB 237.6 kB/s eta 0:00:21\n",
      "   -------------- ------------------------- 2.7/7.6 MB 237.6 kB/s eta 0:00:21\n",
      "   -------------- ------------------------- 2.7/7.6 MB 236.5 kB/s eta 0:00:21\n",
      "   -------------- ------------------------- 2.7/7.6 MB 237.0 kB/s eta 0:00:21\n",
      "   -------------- ------------------------- 2.7/7.6 MB 237.0 kB/s eta 0:00:21\n",
      "   -------------- ------------------------- 2.7/7.6 MB 236.9 kB/s eta 0:00:21\n",
      "   -------------- ------------------------- 2.7/7.6 MB 236.5 kB/s eta 0:00:21\n",
      "   -------------- ------------------------- 2.7/7.6 MB 236.5 kB/s eta 0:00:21\n",
      "   -------------- ------------------------- 2.8/7.6 MB 237.0 kB/s eta 0:00:21\n",
      "   -------------- ------------------------- 2.8/7.6 MB 236.6 kB/s eta 0:00:21\n",
      "   -------------- ------------------------- 2.8/7.6 MB 237.0 kB/s eta 0:00:21\n",
      "   -------------- ------------------------- 2.8/7.6 MB 237.0 kB/s eta 0:00:21\n",
      "   -------------- ------------------------- 2.8/7.6 MB 237.8 kB/s eta 0:00:21\n",
      "   -------------- ------------------------- 2.8/7.6 MB 238.0 kB/s eta 0:00:21\n",
      "   -------------- ------------------------- 2.9/7.6 MB 238.5 kB/s eta 0:00:21\n",
      "   --------------- ------------------------ 2.9/7.6 MB 238.7 kB/s eta 0:00:21\n",
      "   --------------- ------------------------ 2.9/7.6 MB 239.2 kB/s eta 0:00:20\n",
      "   --------------- ------------------------ 2.9/7.6 MB 239.2 kB/s eta 0:00:20\n",
      "   --------------- ------------------------ 2.9/7.6 MB 239.8 kB/s eta 0:00:20\n",
      "   --------------- ------------------------ 2.9/7.6 MB 239.8 kB/s eta 0:00:20\n",
      "   --------------- ------------------------ 2.9/7.6 MB 240.5 kB/s eta 0:00:20\n",
      "   --------------- ------------------------ 3.0/7.6 MB 241.6 kB/s eta 0:00:20\n",
      "   --------------- ------------------------ 3.0/7.6 MB 242.0 kB/s eta 0:00:20\n",
      "   --------------- ------------------------ 3.0/7.6 MB 242.2 kB/s eta 0:00:20\n",
      "   --------------- ------------------------ 3.0/7.6 MB 242.7 kB/s eta 0:00:20\n",
      "   --------------- ------------------------ 3.0/7.6 MB 242.7 kB/s eta 0:00:20\n",
      "   --------------- ------------------------ 3.1/7.6 MB 243.3 kB/s eta 0:00:19\n",
      "   --------------- ------------------------ 3.1/7.6 MB 243.3 kB/s eta 0:00:19\n",
      "   ---------------- ----------------------- 3.1/7.6 MB 243.9 kB/s eta 0:00:19\n",
      "   ---------------- ----------------------- 3.1/7.6 MB 243.9 kB/s eta 0:00:19\n",
      "   ---------------- ----------------------- 3.1/7.6 MB 244.6 kB/s eta 0:00:19\n",
      "   ---------------- ----------------------- 3.1/7.6 MB 244.6 kB/s eta 0:00:19\n",
      "   ---------------- ----------------------- 3.1/7.6 MB 245.2 kB/s eta 0:00:19\n",
      "   ---------------- ----------------------- 3.1/7.6 MB 245.2 kB/s eta 0:00:19\n",
      "   ---------------- ----------------------- 3.2/7.6 MB 244.8 kB/s eta 0:00:19\n",
      "   ---------------- ----------------------- 3.2/7.6 MB 245.2 kB/s eta 0:00:19\n",
      "   ---------------- ----------------------- 3.2/7.6 MB 245.6 kB/s eta 0:00:19\n",
      "   ---------------- ----------------------- 3.2/7.6 MB 245.8 kB/s eta 0:00:19\n",
      "   ---------------- ----------------------- 3.2/7.6 MB 246.2 kB/s eta 0:00:18\n",
      "   ---------------- ----------------------- 3.2/7.6 MB 246.2 kB/s eta 0:00:18\n",
      "   ---------------- ----------------------- 3.2/7.6 MB 245.8 kB/s eta 0:00:18\n",
      "   ----------------- ---------------------- 3.3/7.6 MB 246.2 kB/s eta 0:00:18\n",
      "   ----------------- ---------------------- 3.3/7.6 MB 246.5 kB/s eta 0:00:18\n",
      "   ----------------- ---------------------- 3.3/7.6 MB 246.5 kB/s eta 0:00:18\n",
      "   ----------------- ---------------------- 3.3/7.6 MB 247.1 kB/s eta 0:00:18\n",
      "   ----------------- ---------------------- 3.3/7.6 MB 247.1 kB/s eta 0:00:18\n",
      "   ----------------- ---------------------- 3.3/7.6 MB 246.7 kB/s eta 0:00:18\n",
      "   ----------------- ---------------------- 3.3/7.6 MB 247.1 kB/s eta 0:00:18\n",
      "   ----------------- ---------------------- 3.3/7.6 MB 247.1 kB/s eta 0:00:18\n",
      "   ----------------- ---------------------- 3.4/7.6 MB 246.9 kB/s eta 0:00:18\n",
      "   ----------------- ---------------------- 3.4/7.6 MB 246.5 kB/s eta 0:00:18\n",
      "   ----------------- ---------------------- 3.4/7.6 MB 246.5 kB/s eta 0:00:18\n",
      "   ----------------- ---------------------- 3.4/7.6 MB 246.9 kB/s eta 0:00:18\n",
      "   ----------------- ---------------------- 3.4/7.6 MB 246.9 kB/s eta 0:00:18\n",
      "   ----------------- ---------------------- 3.4/7.6 MB 245.9 kB/s eta 0:00:18\n",
      "   ----------------- ---------------------- 3.4/7.6 MB 246.0 kB/s eta 0:00:18\n",
      "   ------------------ --------------------- 3.4/7.6 MB 246.7 kB/s eta 0:00:18\n",
      "   ------------------ --------------------- 3.4/7.6 MB 246.7 kB/s eta 0:00:18\n",
      "   ------------------ --------------------- 3.5/7.6 MB 246.3 kB/s eta 0:00:18\n",
      "   ------------------ --------------------- 3.5/7.6 MB 246.7 kB/s eta 0:00:17\n",
      "   ------------------ --------------------- 3.5/7.6 MB 246.3 kB/s eta 0:00:17\n",
      "   ------------------ --------------------- 3.5/7.6 MB 246.3 kB/s eta 0:00:17\n",
      "   ------------------ --------------------- 3.5/7.6 MB 246.1 kB/s eta 0:00:17\n",
      "   ------------------ --------------------- 3.5/7.6 MB 247.0 kB/s eta 0:00:17\n",
      "   ------------------ --------------------- 3.5/7.6 MB 247.0 kB/s eta 0:00:17\n",
      "   ------------------ --------------------- 3.5/7.6 MB 246.1 kB/s eta 0:00:17\n",
      "   ------------------ --------------------- 3.5/7.6 MB 246.1 kB/s eta 0:00:17\n",
      "   ------------------ --------------------- 3.6/7.6 MB 245.9 kB/s eta 0:00:17\n",
      "   ------------------ --------------------- 3.6/7.6 MB 245.9 kB/s eta 0:00:17\n",
      "   ------------------ --------------------- 3.6/7.6 MB 245.1 kB/s eta 0:00:17\n",
      "   ------------------ --------------------- 3.6/7.6 MB 245.1 kB/s eta 0:00:17\n",
      "   ------------------ --------------------- 3.6/7.6 MB 245.1 kB/s eta 0:00:17\n",
      "   ------------------ --------------------- 3.6/7.6 MB 244.4 kB/s eta 0:00:17\n",
      "   ------------------ --------------------- 3.6/7.6 MB 244.4 kB/s eta 0:00:17\n",
      "   ------------------ --------------------- 3.6/7.6 MB 244.4 kB/s eta 0:00:17\n",
      "   ------------------ --------------------- 3.6/7.6 MB 243.2 kB/s eta 0:00:17\n",
      "   ------------------ --------------------- 3.6/7.6 MB 243.2 kB/s eta 0:00:17\n",
      "   ------------------ --------------------- 3.6/7.6 MB 243.2 kB/s eta 0:00:17\n",
      "   ------------------ --------------------- 3.6/7.6 MB 241.8 kB/s eta 0:00:17\n",
      "   ------------------ --------------------- 3.6/7.6 MB 241.8 kB/s eta 0:00:17\n",
      "   ------------------- -------------------- 3.6/7.6 MB 241.7 kB/s eta 0:00:17\n",
      "   ------------------- -------------------- 3.6/7.6 MB 241.7 kB/s eta 0:00:17\n",
      "   ------------------- -------------------- 3.6/7.6 MB 240.8 kB/s eta 0:00:17\n",
      "   ------------------- -------------------- 3.6/7.6 MB 240.8 kB/s eta 0:00:17\n",
      "   ------------------- -------------------- 3.7/7.6 MB 240.2 kB/s eta 0:00:17\n",
      "   ------------------- -------------------- 3.7/7.6 MB 240.2 kB/s eta 0:00:17\n",
      "   ------------------- -------------------- 3.7/7.6 MB 240.2 kB/s eta 0:00:17\n",
      "   ------------------- -------------------- 3.7/7.6 MB 240.2 kB/s eta 0:00:17\n",
      "   ------------------- -------------------- 3.7/7.6 MB 239.1 kB/s eta 0:00:17\n",
      "   ------------------- -------------------- 3.7/7.6 MB 239.1 kB/s eta 0:00:17\n",
      "   ------------------- -------------------- 3.7/7.6 MB 237.8 kB/s eta 0:00:17\n",
      "   ------------------- -------------------- 3.7/7.6 MB 237.8 kB/s eta 0:00:17\n",
      "   ------------------- -------------------- 3.7/7.6 MB 238.2 kB/s eta 0:00:17\n",
      "   ------------------- -------------------- 3.7/7.6 MB 237.9 kB/s eta 0:00:17\n",
      "   ------------------- -------------------- 3.7/7.6 MB 237.9 kB/s eta 0:00:17\n",
      "   ------------------- -------------------- 3.7/7.6 MB 237.1 kB/s eta 0:00:17\n",
      "   ------------------- -------------------- 3.8/7.6 MB 237.5 kB/s eta 0:00:17\n",
      "   ------------------- -------------------- 3.8/7.6 MB 237.5 kB/s eta 0:00:17\n",
      "   ------------------- -------------------- 3.8/7.6 MB 237.8 kB/s eta 0:00:17\n",
      "   ------------------- -------------------- 3.8/7.6 MB 237.8 kB/s eta 0:00:17\n",
      "   ------------------- -------------------- 3.8/7.6 MB 237.3 kB/s eta 0:00:17\n",
      "   ------------------- -------------------- 3.8/7.6 MB 238.1 kB/s eta 0:00:17\n",
      "   ------------------- -------------------- 3.8/7.6 MB 238.1 kB/s eta 0:00:17\n",
      "   -------------------- ------------------- 3.9/7.6 MB 239.2 kB/s eta 0:00:16\n",
      "   -------------------- ------------------- 3.9/7.6 MB 239.2 kB/s eta 0:00:16\n",
      "   -------------------- ------------------- 3.9/7.6 MB 238.9 kB/s eta 0:00:16\n",
      "   -------------------- ------------------- 3.9/7.6 MB 239.3 kB/s eta 0:00:16\n",
      "   -------------------- ------------------- 3.9/7.6 MB 239.3 kB/s eta 0:00:16\n",
      "   -------------------- ------------------- 3.9/7.6 MB 239.8 kB/s eta 0:00:16\n",
      "   -------------------- ------------------- 3.9/7.6 MB 240.1 kB/s eta 0:00:16\n",
      "   -------------------- ------------------- 4.0/7.6 MB 240.3 kB/s eta 0:00:16\n",
      "   -------------------- ------------------- 4.0/7.6 MB 240.6 kB/s eta 0:00:16\n",
      "   -------------------- ------------------- 4.0/7.6 MB 240.6 kB/s eta 0:00:16\n",
      "   -------------------- ------------------- 4.0/7.6 MB 241.1 kB/s eta 0:00:16\n",
      "   --------------------- ------------------ 4.0/7.6 MB 241.4 kB/s eta 0:00:15\n",
      "   --------------------- ------------------ 4.0/7.6 MB 241.4 kB/s eta 0:00:15\n",
      "   --------------------- ------------------ 4.1/7.6 MB 241.9 kB/s eta 0:00:15\n",
      "   --------------------- ------------------ 4.1/7.6 MB 241.9 kB/s eta 0:00:15\n",
      "   --------------------- ------------------ 4.1/7.6 MB 242.4 kB/s eta 0:00:15\n",
      "   --------------------- ------------------ 4.1/7.6 MB 242.4 kB/s eta 0:00:15\n",
      "   --------------------- ------------------ 4.1/7.6 MB 242.7 kB/s eta 0:00:15\n",
      "   --------------------- ------------------ 4.1/7.6 MB 242.4 kB/s eta 0:00:15\n",
      "   --------------------- ------------------ 4.1/7.6 MB 242.4 kB/s eta 0:00:15\n",
      "   --------------------- ------------------ 4.1/7.6 MB 242.9 kB/s eta 0:00:15\n",
      "   --------------------- ------------------ 4.2/7.6 MB 243.2 kB/s eta 0:00:15\n",
      "   --------------------- ------------------ 4.2/7.6 MB 244.0 kB/s eta 0:00:15\n",
      "   --------------------- ------------------ 4.2/7.6 MB 244.0 kB/s eta 0:00:15\n",
      "   ---------------------- ----------------- 4.2/7.6 MB 244.4 kB/s eta 0:00:15\n",
      "   ---------------------- ----------------- 4.2/7.6 MB 244.4 kB/s eta 0:00:15\n",
      "   ---------------------- ----------------- 4.2/7.6 MB 244.9 kB/s eta 0:00:14\n",
      "   ---------------------- ----------------- 4.2/7.6 MB 244.9 kB/s eta 0:00:14\n",
      "   ---------------------- ----------------- 4.3/7.6 MB 245.2 kB/s eta 0:00:14\n",
      "   ---------------------- ----------------- 4.3/7.6 MB 244.9 kB/s eta 0:00:14\n",
      "   ---------------------- ----------------- 4.3/7.6 MB 245.6 kB/s eta 0:00:14\n",
      "   ---------------------- ----------------- 4.3/7.6 MB 245.3 kB/s eta 0:00:14\n",
      "   ---------------------- ----------------- 4.3/7.6 MB 246.1 kB/s eta 0:00:14\n",
      "   ---------------------- ----------------- 4.4/7.6 MB 246.3 kB/s eta 0:00:14\n",
      "   ---------------------- ----------------- 4.4/7.6 MB 246.5 kB/s eta 0:00:14\n",
      "   ---------------------- ----------------- 4.4/7.6 MB 246.5 kB/s eta 0:00:14\n",
      "   ---------------------- ----------------- 4.4/7.6 MB 246.5 kB/s eta 0:00:14\n",
      "   ----------------------- ---------------- 4.4/7.6 MB 247.2 kB/s eta 0:00:14\n",
      "   ----------------------- ---------------- 4.4/7.6 MB 247.5 kB/s eta 0:00:13\n",
      "   ----------------------- ---------------- 4.4/7.6 MB 247.5 kB/s eta 0:00:13\n",
      "   ----------------------- ---------------- 4.5/7.6 MB 247.9 kB/s eta 0:00:13\n",
      "   ----------------------- ---------------- 4.5/7.6 MB 247.9 kB/s eta 0:00:13\n",
      "   ----------------------- ---------------- 4.5/7.6 MB 247.6 kB/s eta 0:00:13\n",
      "   ----------------------- ---------------- 4.5/7.6 MB 247.9 kB/s eta 0:00:13\n",
      "   ----------------------- ---------------- 4.5/7.6 MB 248.6 kB/s eta 0:00:13\n",
      "   ----------------------- ---------------- 4.5/7.6 MB 248.3 kB/s eta 0:00:13\n",
      "   ----------------------- ---------------- 4.5/7.6 MB 248.6 kB/s eta 0:00:13\n",
      "   ----------------------- ---------------- 4.6/7.6 MB 248.3 kB/s eta 0:00:13\n",
      "   ----------------------- ---------------- 4.6/7.6 MB 249.0 kB/s eta 0:00:13\n",
      "   ------------------------ --------------- 4.6/7.6 MB 249.7 kB/s eta 0:00:13\n",
      "   ------------------------ --------------- 4.6/7.6 MB 250.3 kB/s eta 0:00:13\n",
      "   ------------------------ --------------- 4.6/7.6 MB 250.6 kB/s eta 0:00:12\n",
      "   ------------------------ --------------- 4.7/7.6 MB 251.1 kB/s eta 0:00:12\n",
      "   ------------------------ --------------- 4.7/7.6 MB 251.7 kB/s eta 0:00:12\n",
      "   ------------------------ --------------- 4.7/7.6 MB 252.4 kB/s eta 0:00:12\n",
      "   ------------------------ --------------- 4.7/7.6 MB 252.5 kB/s eta 0:00:12\n",
      "   ------------------------ --------------- 4.8/7.6 MB 253.8 kB/s eta 0:00:12\n",
      "   ------------------------ --------------- 4.8/7.6 MB 254.0 kB/s eta 0:00:12\n",
      "   ------------------------- -------------- 4.8/7.6 MB 254.7 kB/s eta 0:00:12\n",
      "   ------------------------- -------------- 4.8/7.6 MB 255.2 kB/s eta 0:00:12\n",
      "   ------------------------- -------------- 4.9/7.6 MB 256.2 kB/s eta 0:00:11\n",
      "   ------------------------- -------------- 4.9/7.6 MB 256.9 kB/s eta 0:00:11\n",
      "   ------------------------- -------------- 4.9/7.6 MB 256.8 kB/s eta 0:00:11\n",
      "   ------------------------- -------------- 4.9/7.6 MB 257.2 kB/s eta 0:00:11\n",
      "   ------------------------- -------------- 4.9/7.6 MB 258.0 kB/s eta 0:00:11\n",
      "   ------------------------- -------------- 5.0/7.6 MB 258.7 kB/s eta 0:00:11\n",
      "   -------------------------- ------------- 5.0/7.6 MB 259.4 kB/s eta 0:00:11\n",
      "   -------------------------- ------------- 5.0/7.6 MB 260.1 kB/s eta 0:00:11\n",
      "   -------------------------- ------------- 5.0/7.6 MB 260.8 kB/s eta 0:00:10\n",
      "   -------------------------- ------------- 5.1/7.6 MB 261.5 kB/s eta 0:00:10\n",
      "   -------------------------- ------------- 5.1/7.6 MB 262.1 kB/s eta 0:00:10\n",
      "   -------------------------- ------------- 5.1/7.6 MB 262.3 kB/s eta 0:00:10\n",
      "   -------------------------- ------------- 5.1/7.6 MB 262.9 kB/s eta 0:00:10\n",
      "   -------------------------- ------------- 5.1/7.6 MB 262.6 kB/s eta 0:00:10\n",
      "   --------------------------- ------------ 5.2/7.6 MB 263.8 kB/s eta 0:00:10\n",
      "   --------------------------- ------------ 5.2/7.6 MB 263.9 kB/s eta 0:00:10\n",
      "   --------------------------- ------------ 5.2/7.6 MB 264.6 kB/s eta 0:00:10\n",
      "   --------------------------- ------------ 5.2/7.6 MB 265.3 kB/s eta 0:00:10\n",
      "   --------------------------- ------------ 5.3/7.6 MB 266.0 kB/s eta 0:00:09\n",
      "   --------------------------- ------------ 5.3/7.6 MB 266.6 kB/s eta 0:00:09\n",
      "   --------------------------- ------------ 5.3/7.6 MB 267.3 kB/s eta 0:00:09\n",
      "   --------------------------- ------------ 5.3/7.6 MB 267.9 kB/s eta 0:00:09\n",
      "   --------------------------- ------------ 5.3/7.6 MB 267.6 kB/s eta 0:00:09\n",
      "   ---------------------------- ----------- 5.4/7.6 MB 268.2 kB/s eta 0:00:09\n",
      "   ---------------------------- ----------- 5.4/7.6 MB 268.9 kB/s eta 0:00:09\n",
      "   ---------------------------- ----------- 5.4/7.6 MB 269.5 kB/s eta 0:00:09\n",
      "   ---------------------------- ----------- 5.4/7.6 MB 270.2 kB/s eta 0:00:09\n",
      "   ---------------------------- ----------- 5.5/7.6 MB 270.3 kB/s eta 0:00:09\n",
      "   ---------------------------- ----------- 5.5/7.6 MB 270.4 kB/s eta 0:00:09\n",
      "   ---------------------------- ----------- 5.5/7.6 MB 271.5 kB/s eta 0:00:08\n",
      "   ---------------------------- ----------- 5.5/7.6 MB 272.0 kB/s eta 0:00:08\n",
      "   ----------------------------- ---------- 5.6/7.6 MB 272.6 kB/s eta 0:00:08\n",
      "   ----------------------------- ---------- 5.6/7.6 MB 273.0 kB/s eta 0:00:08\n",
      "   ----------------------------- ---------- 5.6/7.6 MB 273.1 kB/s eta 0:00:08\n",
      "   ----------------------------- ---------- 5.6/7.6 MB 273.7 kB/s eta 0:00:08\n",
      "   ----------------------------- ---------- 5.6/7.6 MB 274.3 kB/s eta 0:00:08\n",
      "   ----------------------------- ---------- 5.7/7.6 MB 275.0 kB/s eta 0:00:08\n",
      "   ----------------------------- ---------- 5.7/7.6 MB 275.5 kB/s eta 0:00:08\n",
      "   ----------------------------- ---------- 5.7/7.6 MB 276.2 kB/s eta 0:00:07\n",
      "   ------------------------------ --------- 5.7/7.6 MB 276.8 kB/s eta 0:00:07\n",
      "   ------------------------------ --------- 5.8/7.6 MB 277.4 kB/s eta 0:00:07\n",
      "   ------------------------------ --------- 5.8/7.6 MB 277.4 kB/s eta 0:00:07\n",
      "   ------------------------------ --------- 5.8/7.6 MB 276.9 kB/s eta 0:00:07\n",
      "   ------------------------------ --------- 5.8/7.6 MB 278.2 kB/s eta 0:00:07\n",
      "   ------------------------------ --------- 5.9/7.6 MB 278.8 kB/s eta 0:00:07\n",
      "   ------------------------------ --------- 5.9/7.6 MB 278.9 kB/s eta 0:00:07\n",
      "   ------------------------------ --------- 5.9/7.6 MB 279.8 kB/s eta 0:00:07\n",
      "   ------------------------------ --------- 5.9/7.6 MB 280.1 kB/s eta 0:00:07\n",
      "   ------------------------------- -------- 5.9/7.6 MB 280.7 kB/s eta 0:00:07\n",
      "   ------------------------------- -------- 6.0/7.6 MB 281.3 kB/s eta 0:00:06\n",
      "   ------------------------------- -------- 6.0/7.6 MB 281.9 kB/s eta 0:00:06\n",
      "   ------------------------------- -------- 6.0/7.6 MB 281.9 kB/s eta 0:00:06\n",
      "   ------------------------------- -------- 6.0/7.6 MB 282.1 kB/s eta 0:00:06\n",
      "   ------------------------------- -------- 6.1/7.6 MB 282.6 kB/s eta 0:00:06\n",
      "   ------------------------------- -------- 6.1/7.6 MB 283.3 kB/s eta 0:00:06\n",
      "   ------------------------------- -------- 6.1/7.6 MB 283.8 kB/s eta 0:00:06\n",
      "   -------------------------------- ------- 6.1/7.6 MB 284.4 kB/s eta 0:00:06\n",
      "   -------------------------------- ------- 6.2/7.6 MB 284.9 kB/s eta 0:00:06\n",
      "   -------------------------------- ------- 6.2/7.6 MB 285.5 kB/s eta 0:00:06\n",
      "   -------------------------------- ------- 6.2/7.6 MB 285.6 kB/s eta 0:00:06\n",
      "   -------------------------------- ------- 6.2/7.6 MB 285.7 kB/s eta 0:00:06\n",
      "   -------------------------------- ------- 6.2/7.6 MB 286.2 kB/s eta 0:00:05\n",
      "   -------------------------------- ------- 6.3/7.6 MB 286.8 kB/s eta 0:00:05\n",
      "   -------------------------------- ------- 6.3/7.6 MB 286.9 kB/s eta 0:00:05\n",
      "   -------------------------------- ------- 6.3/7.6 MB 287.4 kB/s eta 0:00:05\n",
      "   --------------------------------- ------ 6.3/7.6 MB 288.0 kB/s eta 0:00:05\n",
      "   --------------------------------- ------ 6.4/7.6 MB 288.6 kB/s eta 0:00:05\n",
      "   --------------------------------- ------ 6.4/7.6 MB 289.1 kB/s eta 0:00:05\n",
      "   --------------------------------- ------ 6.4/7.6 MB 289.7 kB/s eta 0:00:05\n",
      "   --------------------------------- ------ 6.4/7.6 MB 289.7 kB/s eta 0:00:05\n",
      "   --------------------------------- ------ 6.4/7.6 MB 289.8 kB/s eta 0:00:05\n",
      "   --------------------------------- ------ 6.5/7.6 MB 290.3 kB/s eta 0:00:05\n",
      "   --------------------------------- ------ 6.5/7.6 MB 290.9 kB/s eta 0:00:04\n",
      "   ---------------------------------- ----- 6.5/7.6 MB 291.4 kB/s eta 0:00:04\n",
      "   ---------------------------------- ----- 6.5/7.6 MB 291.1 kB/s eta 0:00:04\n",
      "   ---------------------------------- ----- 6.5/7.6 MB 291.6 kB/s eta 0:00:04\n",
      "   ---------------------------------- ----- 6.5/7.6 MB 291.6 kB/s eta 0:00:04\n",
      "   ---------------------------------- ----- 6.6/7.6 MB 292.6 kB/s eta 0:00:04\n",
      "   ---------------------------------- ----- 6.6/7.6 MB 293.2 kB/s eta 0:00:04\n",
      "   ---------------------------------- ----- 6.6/7.6 MB 293.7 kB/s eta 0:00:04\n",
      "   ---------------------------------- ----- 6.7/7.6 MB 294.2 kB/s eta 0:00:04\n",
      "   ---------------------------------- ----- 6.7/7.6 MB 294.2 kB/s eta 0:00:04\n",
      "   ----------------------------------- ---- 6.7/7.6 MB 294.4 kB/s eta 0:00:04\n",
      "   ----------------------------------- ---- 6.7/7.6 MB 294.9 kB/s eta 0:00:04\n",
      "   ----------------------------------- ---- 6.8/7.6 MB 295.4 kB/s eta 0:00:04\n",
      "   ----------------------------------- ---- 6.8/7.6 MB 295.4 kB/s eta 0:00:03\n",
      "   ----------------------------------- ---- 6.8/7.6 MB 296.0 kB/s eta 0:00:03\n",
      "   ----------------------------------- ---- 6.8/7.6 MB 296.0 kB/s eta 0:00:03\n",
      "   ----------------------------------- ---- 6.9/7.6 MB 297.0 kB/s eta 0:00:03\n",
      "   ----------------------------------- ---- 6.9/7.6 MB 297.0 kB/s eta 0:00:03\n",
      "   ------------------------------------ --- 6.9/7.6 MB 297.6 kB/s eta 0:00:03\n",
      "   ------------------------------------ --- 6.9/7.6 MB 297.6 kB/s eta 0:00:03\n",
      "   ------------------------------------ --- 6.9/7.6 MB 298.1 kB/s eta 0:00:03\n",
      "   ------------------------------------ --- 6.9/7.6 MB 298.1 kB/s eta 0:00:03\n",
      "   ------------------------------------ --- 7.0/7.6 MB 298.7 kB/s eta 0:00:03\n",
      "   ------------------------------------ --- 7.0/7.6 MB 299.2 kB/s eta 0:00:03\n",
      "   ------------------------------------ --- 7.0/7.6 MB 299.2 kB/s eta 0:00:03\n",
      "   ------------------------------------ --- 7.0/7.6 MB 299.2 kB/s eta 0:00:03\n",
      "   ------------------------------------ --- 7.0/7.6 MB 299.2 kB/s eta 0:00:03\n",
      "   ------------------------------------ --- 7.0/7.6 MB 299.2 kB/s eta 0:00:03\n",
      "   ------------------------------------ --- 7.0/7.6 MB 299.2 kB/s eta 0:00:03\n",
      "   ------------------------------------ --- 7.0/7.6 MB 296.7 kB/s eta 0:00:03\n",
      "   ------------------------------------ --- 7.0/7.6 MB 296.7 kB/s eta 0:00:03\n",
      "   ------------------------------------ --- 7.1/7.6 MB 297.3 kB/s eta 0:00:02\n",
      "   ------------------------------------- -- 7.1/7.6 MB 297.5 kB/s eta 0:00:02\n",
      "   ------------------------------------- -- 7.1/7.6 MB 298.0 kB/s eta 0:00:02\n",
      "   ------------------------------------- -- 7.1/7.6 MB 298.0 kB/s eta 0:00:02\n",
      "   ------------------------------------- -- 7.1/7.6 MB 298.6 kB/s eta 0:00:02\n",
      "   ------------------------------------- -- 7.2/7.6 MB 299.0 kB/s eta 0:00:02\n",
      "   ------------------------------------- -- 7.2/7.6 MB 299.5 kB/s eta 0:00:02\n",
      "   ------------------------------------- -- 7.2/7.6 MB 300.0 kB/s eta 0:00:02\n",
      "   ------------------------------------- -- 7.2/7.6 MB 300.5 kB/s eta 0:00:02\n",
      "   -------------------------------------- - 7.3/7.6 MB 300.9 kB/s eta 0:00:02\n",
      "   -------------------------------------- - 7.3/7.6 MB 301.0 kB/s eta 0:00:02\n",
      "   -------------------------------------- - 7.3/7.6 MB 301.5 kB/s eta 0:00:02\n",
      "   -------------------------------------- - 7.3/7.6 MB 301.5 kB/s eta 0:00:02\n",
      "   -------------------------------------- - 7.4/7.6 MB 302.0 kB/s eta 0:00:01\n",
      "   -------------------------------------- - 7.4/7.6 MB 302.5 kB/s eta 0:00:01\n",
      "   -------------------------------------- - 7.4/7.6 MB 302.9 kB/s eta 0:00:01\n",
      "   -------------------------------------- - 7.4/7.6 MB 302.6 kB/s eta 0:00:01\n",
      "   -------------------------------------- - 7.4/7.6 MB 303.0 kB/s eta 0:00:01\n",
      "   ---------------------------------------  7.5/7.6 MB 303.5 kB/s eta 0:00:01\n",
      "   ---------------------------------------  7.5/7.6 MB 303.9 kB/s eta 0:00:01\n",
      "   ---------------------------------------  7.5/7.6 MB 304.4 kB/s eta 0:00:01\n",
      "   ---------------------------------------  7.5/7.6 MB 304.9 kB/s eta 0:00:01\n",
      "   ---------------------------------------  7.5/7.6 MB 304.9 kB/s eta 0:00:01\n",
      "   ---------------------------------------  7.6/7.6 MB 305.4 kB/s eta 0:00:01\n",
      "   ---------------------------------------  7.6/7.6 MB 305.6 kB/s eta 0:00:01\n",
      "   ---------------------------------------  7.6/7.6 MB 305.9 kB/s eta 0:00:01\n",
      "   ---------------------------------------- 7.6/7.6 MB 305.8 kB/s eta 0:00:00\n",
      "Downloading contourpy-1.2.0-cp311-cp311-win_amd64.whl (187 kB)\n",
      "   ---------------------------------------- 0.0/187.6 kB ? eta -:--:--\n",
      "   -- ------------------------------------- 10.2/187.6 kB ? eta -:--:--\n",
      "   -------- ------------------------------ 41.0/187.6 kB 653.6 kB/s eta 0:00:01\n",
      "   ------------ -------------------------- 61.4/187.6 kB 656.4 kB/s eta 0:00:01\n",
      "   ------------------- ------------------- 92.2/187.6 kB 585.1 kB/s eta 0:00:01\n",
      "   ---------------------- --------------- 112.6/187.6 kB 595.3 kB/s eta 0:00:01\n",
      "   ----------------------------- -------- 143.4/187.6 kB 568.9 kB/s eta 0:00:01\n",
      "   ----------------------------- -------- 143.4/187.6 kB 568.9 kB/s eta 0:00:01\n",
      "   -------------------------------------  184.3/187.6 kB 506.0 kB/s eta 0:00:01\n",
      "   -------------------------------------- 187.6/187.6 kB 493.9 kB/s eta 0:00:00\n",
      "Downloading cycler-0.12.1-py3-none-any.whl (8.3 kB)\n",
      "Downloading fonttools-4.47.2-cp311-cp311-win_amd64.whl (2.2 MB)\n",
      "   ---------------------------------------- 0.0/2.2 MB ? eta -:--:--\n",
      "   ---------------------------------------- 0.0/2.2 MB ? eta -:--:--\n",
      "    --------------------------------------- 0.0/2.2 MB 495.5 kB/s eta 0:00:05\n",
      "   - -------------------------------------- 0.1/2.2 MB 550.5 kB/s eta 0:00:04\n",
      "   - -------------------------------------- 0.1/2.2 MB 525.1 kB/s eta 0:00:04\n",
      "   -- ------------------------------------- 0.1/2.2 MB 547.6 kB/s eta 0:00:04\n",
      "   -- ------------------------------------- 0.1/2.2 MB 532.5 kB/s eta 0:00:04\n",
      "   --- ------------------------------------ 0.2/2.2 MB 546.6 kB/s eta 0:00:04\n",
      "   --- ------------------------------------ 0.2/2.2 MB 525.1 kB/s eta 0:00:04\n",
      "   --- ------------------------------------ 0.2/2.2 MB 491.5 kB/s eta 0:00:05\n",
      "   ---- ----------------------------------- 0.2/2.2 MB 492.1 kB/s eta 0:00:04\n",
      "   ---- ----------------------------------- 0.2/2.2 MB 503.2 kB/s eta 0:00:04\n",
      "   ----- ---------------------------------- 0.3/2.2 MB 501.4 kB/s eta 0:00:04\n",
      "   ----- ---------------------------------- 0.3/2.2 MB 492.0 kB/s eta 0:00:04\n",
      "   ------ --------------------------------- 0.3/2.2 MB 507.9 kB/s eta 0:00:04\n",
      "   ------ --------------------------------- 0.3/2.2 MB 499.5 kB/s eta 0:00:04\n",
      "   ------ --------------------------------- 0.4/2.2 MB 499.2 kB/s eta 0:00:04\n",
      "   ------- -------------------------------- 0.4/2.2 MB 505.2 kB/s eta 0:00:04\n",
      "   ------- -------------------------------- 0.4/2.2 MB 504.4 kB/s eta 0:00:04\n",
      "   ------- -------------------------------- 0.4/2.2 MB 504.4 kB/s eta 0:00:04\n",
      "   -------- ------------------------------- 0.5/2.2 MB 486.0 kB/s eta 0:00:04\n",
      "   -------- ------------------------------- 0.5/2.2 MB 491.8 kB/s eta 0:00:04\n",
      "   --------- ------------------------------ 0.5/2.2 MB 491.5 kB/s eta 0:00:04\n",
      "   --------- ------------------------------ 0.5/2.2 MB 496.6 kB/s eta 0:00:04\n",
      "   ---------- ----------------------------- 0.6/2.2 MB 489.4 kB/s eta 0:00:04\n",
      "   ---------- ----------------------------- 0.6/2.2 MB 500.6 kB/s eta 0:00:04\n",
      "   ----------- ---------------------------- 0.6/2.2 MB 500.4 kB/s eta 0:00:04\n",
      "   ----------- ---------------------------- 0.6/2.2 MB 496.0 kB/s eta 0:00:04\n",
      "   ------------ --------------------------- 0.7/2.2 MB 503.6 kB/s eta 0:00:04\n",
      "   ------------ --------------------------- 0.7/2.2 MB 503.6 kB/s eta 0:00:04\n",
      "   ------------ --------------------------- 0.7/2.2 MB 491.5 kB/s eta 0:00:04\n",
      "   ------------ --------------------------- 0.7/2.2 MB 495.2 kB/s eta 0:00:03\n",
      "   ------------ --------------------------- 0.7/2.2 MB 495.2 kB/s eta 0:00:03\n",
      "   ------------- -------------------------- 0.7/2.2 MB 484.7 kB/s eta 0:00:03\n",
      "   -------------- ------------------------- 0.8/2.2 MB 491.7 kB/s eta 0:00:03\n",
      "   -------------- ------------------------- 0.8/2.2 MB 495.0 kB/s eta 0:00:03\n",
      "   --------------- ------------------------ 0.8/2.2 MB 494.7 kB/s eta 0:00:03\n",
      "   --------------- ------------------------ 0.8/2.2 MB 497.7 kB/s eta 0:00:03\n",
      "   --------------- ------------------------ 0.9/2.2 MB 485.7 kB/s eta 0:00:03\n",
      "   ---------------- ----------------------- 0.9/2.2 MB 488.7 kB/s eta 0:00:03\n",
      "   ---------------- ----------------------- 0.9/2.2 MB 488.9 kB/s eta 0:00:03\n",
      "   ----------------- ---------------------- 0.9/2.2 MB 491.5 kB/s eta 0:00:03\n",
      "   ----------------- ---------------------- 1.0/2.2 MB 491.6 kB/s eta 0:00:03\n",
      "   ------------------ --------------------- 1.0/2.2 MB 494.3 kB/s eta 0:00:03\n",
      "   ------------------ --------------------- 1.0/2.2 MB 494.1 kB/s eta 0:00:03\n",
      "   ------------------ --------------------- 1.0/2.2 MB 491.6 kB/s eta 0:00:03\n",
      "   ------------------- -------------------- 1.1/2.2 MB 491.5 kB/s eta 0:00:03\n",
      "   ------------------- -------------------- 1.1/2.2 MB 494.0 kB/s eta 0:00:03\n",
      "   -------------------- ------------------- 1.1/2.2 MB 496.3 kB/s eta 0:00:03\n",
      "   -------------------- ------------------- 1.1/2.2 MB 487.0 kB/s eta 0:00:03\n",
      "   --------------------- ------------------ 1.1/2.2 MB 491.6 kB/s eta 0:00:03\n",
      "   --------------------- ------------------ 1.2/2.2 MB 489.5 kB/s eta 0:00:03\n",
      "   --------------------- ------------------ 1.2/2.2 MB 491.5 kB/s eta 0:00:03\n",
      "   ---------------------- ----------------- 1.2/2.2 MB 491.6 kB/s eta 0:00:02\n",
      "   ---------------------- ----------------- 1.2/2.2 MB 493.7 kB/s eta 0:00:02\n",
      "   ---------------------- ----------------- 1.2/2.2 MB 485.5 kB/s eta 0:00:02\n",
      "   ---------------------- ----------------- 1.2/2.2 MB 485.5 kB/s eta 0:00:02\n",
      "   ----------------------- ---------------- 1.3/2.2 MB 487.6 kB/s eta 0:00:02\n",
      "   ------------------------ --------------- 1.3/2.2 MB 489.6 kB/s eta 0:00:02\n",
      "   ------------------------ --------------- 1.3/2.2 MB 489.8 kB/s eta 0:00:02\n",
      "   ------------------------- -------------- 1.4/2.2 MB 486.9 kB/s eta 0:00:02\n",
      "   ------------------------- -------------- 1.4/2.2 MB 486.9 kB/s eta 0:00:02\n",
      "   ------------------------- -------------- 1.4/2.2 MB 484.4 kB/s eta 0:00:02\n",
      "   -------------------------- ------------- 1.4/2.2 MB 486.3 kB/s eta 0:00:02\n",
      "   -------------------------- ------------- 1.5/2.2 MB 483.9 kB/s eta 0:00:02\n",
      "   -------------------------- ------------- 1.5/2.2 MB 483.9 kB/s eta 0:00:02\n",
      "   --------------------------- ------------ 1.5/2.2 MB 481.6 kB/s eta 0:00:02\n",
      "   --------------------------- ------------ 1.5/2.2 MB 483.4 kB/s eta 0:00:02\n",
      "   --------------------------- ------------ 1.5/2.2 MB 477.0 kB/s eta 0:00:02\n",
      "   ---------------------------- ----------- 1.5/2.2 MB 478.7 kB/s eta 0:00:02\n",
      "   ---------------------------- ----------- 1.6/2.2 MB 475.8 kB/s eta 0:00:02\n",
      "   ---------------------------- ----------- 1.6/2.2 MB 474.4 kB/s eta 0:00:02\n",
      "   ----------------------------- ---------- 1.6/2.2 MB 474.8 kB/s eta 0:00:02\n",
      "   ----------------------------- ---------- 1.6/2.2 MB 476.3 kB/s eta 0:00:02\n",
      "   ------------------------------ --------- 1.6/2.2 MB 476.7 kB/s eta 0:00:02\n",
      "   ------------------------------ --------- 1.7/2.2 MB 478.3 kB/s eta 0:00:02\n",
      "   ------------------------------- -------- 1.7/2.2 MB 478.5 kB/s eta 0:00:02\n",
      "   ------------------------------- -------- 1.7/2.2 MB 480.1 kB/s eta 0:00:01\n",
      "   ------------------------------- -------- 1.7/2.2 MB 478.8 kB/s eta 0:00:01\n",
      "   -------------------------------- ------- 1.8/2.2 MB 476.1 kB/s eta 0:00:01\n",
      "   -------------------------------- ------- 1.8/2.2 MB 476.5 kB/s eta 0:00:01\n",
      "   --------------------------------- ------ 1.8/2.2 MB 477.9 kB/s eta 0:00:01\n",
      "   --------------------------------- ------ 1.8/2.2 MB 478.2 kB/s eta 0:00:01\n",
      "   --------------------------------- ------ 1.8/2.2 MB 478.2 kB/s eta 0:00:01\n",
      "   ---------------------------------- ----- 1.9/2.2 MB 479.8 kB/s eta 0:00:01\n",
      "   ---------------------------------- ----- 1.9/2.2 MB 478.6 kB/s eta 0:00:01\n",
      "   ----------------------------------- ---- 1.9/2.2 MB 478.7 kB/s eta 0:00:01\n",
      "   ----------------------------------- ---- 1.9/2.2 MB 478.7 kB/s eta 0:00:01\n",
      "   ----------------------------------- ---- 1.9/2.2 MB 472.8 kB/s eta 0:00:01\n",
      "   ------------------------------------ --- 2.0/2.2 MB 476.6 kB/s eta 0:00:01\n",
      "   ------------------------------------ --- 2.0/2.2 MB 476.9 kB/s eta 0:00:01\n",
      "   ------------------------------------- -- 2.0/2.2 MB 478.3 kB/s eta 0:00:01\n",
      "   ------------------------------------- -- 2.1/2.2 MB 478.4 kB/s eta 0:00:01\n",
      "   ------------------------------------- -- 2.1/2.2 MB 478.4 kB/s eta 0:00:01\n",
      "   -------------------------------------- - 2.1/2.2 MB 475.1 kB/s eta 0:00:01\n",
      "   -------------------------------------- - 2.1/2.2 MB 475.1 kB/s eta 0:00:01\n",
      "   ---------------------------------------  2.1/2.2 MB 474.4 kB/s eta 0:00:01\n",
      "   ---------------------------------------  2.1/2.2 MB 473.3 kB/s eta 0:00:01\n",
      "   ---------------------------------------  2.1/2.2 MB 473.3 kB/s eta 0:00:01\n",
      "   ---------------------------------------- 2.2/2.2 MB 468.9 kB/s eta 0:00:00\n",
      "Downloading kiwisolver-1.4.5-cp311-cp311-win_amd64.whl (56 kB)\n",
      "   ---------------------------------------- 0.0/56.1 kB ? eta -:--:--\n",
      "   --------------------- ------------------ 30.7/56.1 kB 1.4 MB/s eta 0:00:01\n",
      "   ---------------------------------------- 56.1/56.1 kB 588.2 kB/s eta 0:00:00\n",
      "Downloading pillow-10.2.0-cp311-cp311-win_amd64.whl (2.6 MB)\n",
      "   ---------------------------------------- 0.0/2.6 MB ? eta -:--:--\n",
      "   ---------------------------------------- 0.0/2.6 MB 660.6 kB/s eta 0:00:04\n",
      "    --------------------------------------- 0.0/2.6 MB 393.8 kB/s eta 0:00:07\n",
      "   - -------------------------------------- 0.1/2.6 MB 435.7 kB/s eta 0:00:06\n",
      "   - -------------------------------------- 0.1/2.6 MB 525.1 kB/s eta 0:00:05\n",
      "   - -------------------------------------- 0.1/2.6 MB 504.4 kB/s eta 0:00:05\n",
      "   -- ------------------------------------- 0.1/2.6 MB 532.5 kB/s eta 0:00:05\n",
      "   -- ------------------------------------- 0.2/2.6 MB 510.2 kB/s eta 0:00:05\n",
      "   -- ------------------------------------- 0.2/2.6 MB 476.3 kB/s eta 0:00:06\n",
      "   --- ------------------------------------ 0.2/2.6 MB 479.2 kB/s eta 0:00:06\n",
      "   --- ------------------------------------ 0.2/2.6 MB 492.1 kB/s eta 0:00:05\n",
      "   --- ------------------------------------ 0.3/2.6 MB 491.5 kB/s eta 0:00:05\n",
      "   ---- ----------------------------------- 0.3/2.6 MB 501.4 kB/s eta 0:00:05\n",
      "   ---- ----------------------------------- 0.3/2.6 MB 501.4 kB/s eta 0:00:05\n",
      "   ---- ----------------------------------- 0.3/2.6 MB 491.5 kB/s eta 0:00:05\n",
      "   ----- ---------------------------------- 0.4/2.6 MB 506.8 kB/s eta 0:00:05\n",
      "   ----- ---------------------------------- 0.4/2.6 MB 488.3 kB/s eta 0:00:05\n",
      "   ----- ---------------------------------- 0.4/2.6 MB 485.1 kB/s eta 0:00:05\n",
      "   ------ --------------------------------- 0.4/2.6 MB 479.2 kB/s eta 0:00:05\n",
      "   ------ --------------------------------- 0.4/2.6 MB 491.5 kB/s eta 0:00:05\n",
      "   ------ --------------------------------- 0.5/2.6 MB 486.0 kB/s eta 0:00:05\n",
      "   ------ --------------------------------- 0.5/2.6 MB 486.0 kB/s eta 0:00:05\n",
      "   ------- -------------------------------- 0.5/2.6 MB 491.5 kB/s eta 0:00:05\n",
      "   ------- -------------------------------- 0.5/2.6 MB 496.6 kB/s eta 0:00:05\n",
      "   -------- ------------------------------- 0.6/2.6 MB 489.4 kB/s eta 0:00:05\n",
      "   -------- ------------------------------- 0.6/2.6 MB 491.5 kB/s eta 0:00:05\n",
      "   -------- ------------------------------- 0.6/2.6 MB 496.1 kB/s eta 0:00:05\n",
      "   --------- ------------------------------ 0.6/2.6 MB 487.2 kB/s eta 0:00:05\n",
      "   --------- ------------------------------ 0.6/2.6 MB 487.6 kB/s eta 0:00:05\n",
      "   --------- ------------------------------ 0.6/2.6 MB 483.9 kB/s eta 0:00:05\n",
      "   ---------- ----------------------------- 0.7/2.6 MB 491.5 kB/s eta 0:00:04\n",
      "   ---------- ----------------------------- 0.7/2.6 MB 482.5 kB/s eta 0:00:04\n",
      "   ----------- ---------------------------- 0.7/2.6 MB 487.9 kB/s eta 0:00:04\n",
      "   ----------- ---------------------------- 0.7/2.6 MB 491.5 kB/s eta 0:00:04\n",
      "   ----------- ---------------------------- 0.8/2.6 MB 494.9 kB/s eta 0:00:04\n",
      "   ------------ --------------------------- 0.8/2.6 MB 494.7 kB/s eta 0:00:04\n",
      "   ------------ --------------------------- 0.8/2.6 MB 482.3 kB/s eta 0:00:04\n",
      "   ------------ --------------------------- 0.8/2.6 MB 485.6 kB/s eta 0:00:04\n",
      "   ------------- -------------------------- 0.9/2.6 MB 481.3 kB/s eta 0:00:04\n",
      "   ------------- -------------------------- 0.9/2.6 MB 488.7 kB/s eta 0:00:04\n",
      "   ------------- -------------------------- 0.9/2.6 MB 486.0 kB/s eta 0:00:04\n",
      "   -------------- ------------------------- 0.9/2.6 MB 491.5 kB/s eta 0:00:04\n",
      "   -------------- ------------------------- 1.0/2.6 MB 491.6 kB/s eta 0:00:04\n",
      "   -------------- ------------------------- 1.0/2.6 MB 488.9 kB/s eta 0:00:04\n",
      "   --------------- ------------------------ 1.0/2.6 MB 491.5 kB/s eta 0:00:04\n",
      "   --------------- ------------------------ 1.0/2.6 MB 486.7 kB/s eta 0:00:04\n",
      "   --------------- ------------------------ 1.0/2.6 MB 486.7 kB/s eta 0:00:04\n",
      "   --------------- ------------------------ 1.0/2.6 MB 486.7 kB/s eta 0:00:04\n",
      "   ---------------- ----------------------- 1.1/2.6 MB 489.2 kB/s eta 0:00:04\n",
      "   ----------------- ---------------------- 1.1/2.6 MB 491.5 kB/s eta 0:00:04\n",
      "   ----------------- ---------------------- 1.1/2.6 MB 491.6 kB/s eta 0:00:03\n",
      "   ----------------- ---------------------- 1.1/2.6 MB 491.6 kB/s eta 0:00:03\n",
      "   ----------------- ---------------------- 1.2/2.6 MB 485.2 kB/s eta 0:00:03\n",
      "   ------------------ --------------------- 1.2/2.6 MB 487.4 kB/s eta 0:00:03\n",
      "   ------------------ --------------------- 1.2/2.6 MB 487.4 kB/s eta 0:00:03\n",
      "   ------------------ --------------------- 1.2/2.6 MB 485.5 kB/s eta 0:00:03\n",
      "   ------------------- -------------------- 1.3/2.6 MB 489.5 kB/s eta 0:00:03\n",
      "   ------------------- -------------------- 1.3/2.6 MB 487.6 kB/s eta 0:00:03\n",
      "   -------------------- ------------------- 1.3/2.6 MB 484.0 kB/s eta 0:00:03\n",
      "   -------------------- ------------------- 1.3/2.6 MB 482.1 kB/s eta 0:00:03\n",
      "   -------------------- ------------------- 1.3/2.6 MB 481.3 kB/s eta 0:00:03\n",
      "   -------------------- ------------------- 1.4/2.6 MB 480.7 kB/s eta 0:00:03\n",
      "   --------------------- ------------------ 1.4/2.6 MB 480.8 kB/s eta 0:00:03\n",
      "   --------------------- ------------------ 1.4/2.6 MB 479.2 kB/s eta 0:00:03\n",
      "   ---------------------- ----------------- 1.4/2.6 MB 482.9 kB/s eta 0:00:03\n",
      "   ---------------------- ----------------- 1.5/2.6 MB 478.7 kB/s eta 0:00:03\n",
      "   ---------------------- ----------------- 1.5/2.6 MB 481.6 kB/s eta 0:00:03\n",
      "   ---------------------- ----------------- 1.5/2.6 MB 481.6 kB/s eta 0:00:03\n",
      "   ----------------------- ---------------- 1.5/2.6 MB 480.2 kB/s eta 0:00:03\n",
      "   ----------------------- ---------------- 1.5/2.6 MB 478.7 kB/s eta 0:00:03\n",
      "   ----------------------- ---------------- 1.6/2.6 MB 478.9 kB/s eta 0:00:03\n",
      "   ----------------------- ---------------- 1.6/2.6 MB 478.9 kB/s eta 0:00:03\n",
      "   ------------------------ --------------- 1.6/2.6 MB 477.7 kB/s eta 0:00:03\n",
      "   ------------------------ --------------- 1.6/2.6 MB 479.4 kB/s eta 0:00:03\n",
      "   ------------------------- -------------- 1.7/2.6 MB 479.7 kB/s eta 0:00:03\n",
      "   ------------------------- -------------- 1.7/2.6 MB 478.2 kB/s eta 0:00:02\n",
      "   -------------------------- ------------- 1.7/2.6 MB 481.4 kB/s eta 0:00:02\n",
      "   -------------------------- ------------- 1.7/2.6 MB 481.4 kB/s eta 0:00:02\n",
      "   -------------------------- ------------- 1.7/2.6 MB 475.8 kB/s eta 0:00:02\n",
      "   -------------------------- ------------- 1.8/2.6 MB 476.1 kB/s eta 0:00:02\n",
      "   --------------------------- ------------ 1.8/2.6 MB 477.7 kB/s eta 0:00:02\n",
      "   --------------------------- ------------ 1.8/2.6 MB 479.1 kB/s eta 0:00:02\n",
      "   --------------------------- ------------ 1.8/2.6 MB 475.5 kB/s eta 0:00:02\n",
      "   --------------------------- ------------ 1.8/2.6 MB 474.2 kB/s eta 0:00:02\n",
      "   ---------------------------- ----------- 1.8/2.6 MB 473.0 kB/s eta 0:00:02\n",
      "   ---------------------------- ----------- 1.9/2.6 MB 476.0 kB/s eta 0:00:02\n",
      "   ---------------------------- ----------- 1.9/2.6 MB 474.7 kB/s eta 0:00:02\n",
      "   ----------------------------- ---------- 1.9/2.6 MB 473.2 kB/s eta 0:00:02\n",
      "   ----------------------------- ---------- 1.9/2.6 MB 473.2 kB/s eta 0:00:02\n",
      "   ------------------------------ --------- 2.0/2.6 MB 474.1 kB/s eta 0:00:02\n",
      "   ------------------------------ --------- 2.0/2.6 MB 473.1 kB/s eta 0:00:02\n",
      "   ------------------------------ --------- 2.0/2.6 MB 473.3 kB/s eta 0:00:02\n",
      "   ------------------------------ --------- 2.0/2.6 MB 474.7 kB/s eta 0:00:02\n",
      "   ------------------------------- -------- 2.0/2.6 MB 472.6 kB/s eta 0:00:02\n",
      "   ------------------------------- -------- 2.1/2.6 MB 471.5 kB/s eta 0:00:02\n",
      "   ------------------------------- -------- 2.1/2.6 MB 471.8 kB/s eta 0:00:02\n",
      "   -------------------------------- ------- 2.1/2.6 MB 473.1 kB/s eta 0:00:02\n",
      "   -------------------------------- ------- 2.1/2.6 MB 473.3 kB/s eta 0:00:02\n",
      "   -------------------------------- ------- 2.2/2.6 MB 474.6 kB/s eta 0:00:01\n",
      "   --------------------------------- ------ 2.2/2.6 MB 470.3 kB/s eta 0:00:01\n",
      "   --------------------------------- ------ 2.2/2.6 MB 471.6 kB/s eta 0:00:01\n",
      "   --------------------------------- ------ 2.2/2.6 MB 471.9 kB/s eta 0:00:01\n",
      "   ---------------------------------- ----- 2.2/2.6 MB 473.0 kB/s eta 0:00:01\n",
      "   ---------------------------------- ----- 2.3/2.6 MB 473.3 kB/s eta 0:00:01\n",
      "   ---------------------------------- ----- 2.3/2.6 MB 473.3 kB/s eta 0:00:01\n",
      "   ----------------------------------- ---- 2.3/2.6 MB 470.5 kB/s eta 0:00:01\n",
      "   ----------------------------------- ---- 2.3/2.6 MB 471.7 kB/s eta 0:00:01\n",
      "   ----------------------------------- ---- 2.4/2.6 MB 471.9 kB/s eta 0:00:01\n",
      "   ------------------------------------ --- 2.4/2.6 MB 473.1 kB/s eta 0:00:01\n",
      "   ------------------------------------ --- 2.4/2.6 MB 473.4 kB/s eta 0:00:01\n",
      "   ------------------------------------ --- 2.4/2.6 MB 472.4 kB/s eta 0:00:01\n",
      "   ------------------------------------ --- 2.4/2.6 MB 472.4 kB/s eta 0:00:01\n",
      "   ------------------------------------- -- 2.5/2.6 MB 471.8 kB/s eta 0:00:01\n",
      "   -------------------------------------- - 2.5/2.6 MB 474.0 kB/s eta 0:00:01\n",
      "   -------------------------------------- - 2.5/2.6 MB 473.1 kB/s eta 0:00:01\n",
      "   -------------------------------------- - 2.5/2.6 MB 471.4 kB/s eta 0:00:01\n",
      "   -------------------------------------- - 2.5/2.6 MB 470.6 kB/s eta 0:00:01\n",
      "   ---------------------------------------  2.6/2.6 MB 472.7 kB/s eta 0:00:01\n",
      "   ---------------------------------------  2.6/2.6 MB 471.8 kB/s eta 0:00:01\n",
      "   ---------------------------------------  2.6/2.6 MB 470.3 kB/s eta 0:00:01\n",
      "   ---------------------------------------- 2.6/2.6 MB 468.1 kB/s eta 0:00:00\n",
      "Downloading pyparsing-3.1.1-py3-none-any.whl (103 kB)\n",
      "   ---------------------------------------- 0.0/103.1 kB ? eta -:--:--\n",
      "   ----------- --------------------------- 30.7/103.1 kB 660.6 kB/s eta 0:00:01\n",
      "   --------------- ----------------------- 41.0/103.1 kB 495.5 kB/s eta 0:00:01\n",
      "   ------------------------------ -------- 81.9/103.1 kB 573.4 kB/s eta 0:00:01\n",
      "   ------------------------------ -------- 81.9/103.1 kB 573.4 kB/s eta 0:00:01\n",
      "   -------------------------------------- 103.1/103.1 kB 426.1 kB/s eta 0:00:00\n",
      "Installing collected packages: pyparsing, pillow, kiwisolver, fonttools, cycler, contourpy, matplotlib\n",
      "Successfully installed contourpy-1.2.0 cycler-0.12.1 fonttools-4.47.2 kiwisolver-1.4.5 matplotlib-3.8.2 pillow-10.2.0 pyparsing-3.1.1\n",
      "Note: you may need to restart the kernel to use updated packages.\n"
     ]
    },
    {
     "name": "stderr",
     "output_type": "stream",
     "text": [
      "\n",
      "[notice] A new release of pip is available: 23.2.1 -> 23.3.2\n",
      "[notice] To update, run: python.exe -m pip install --upgrade pip\n"
     ]
    }
   ],
   "source": [
    "%pip install matplotlib \n",
    "import matplotlib.pyplot as plt\n",
    "%matplotlib inline"
   ]
  },
  {
   "cell_type": "code",
   "execution_count": 89,
   "id": "22acfd7f-d119-483b-878b-41d99eaa1ea7",
   "metadata": {},
   "outputs": [
    {
     "data": {
      "text/plain": [
       "<Axes: xlabel='AGE', ylabel='TAX_INFO'>"
      ]
     },
     "execution_count": 89,
     "metadata": {},
     "output_type": "execute_result"
    },
    {
     "data": {
      "image/png": "[encoded data removed]",
      "text/plain": [
       "<Figure size 640x480 with 1 Axes>"
      ]
     },
     "metadata": {},
     "output_type": "display_data"
    }
   ],
   "source": [
    "df2.plot(x='AGE',y='TAX_INFO',kind='scatter')"
   ]
  },
  {
   "cell_type": "code",
   "execution_count": null,
   "id": "3ca34c28-c73d-4f16-8be4-838674f5bebe",
   "metadata": {},
   "outputs": [],
   "source": []
  }
 ],
 "metadata": {
  "kernelspec": {
   "display_name": "Python 3 (ipykernel)",
   "language": "python",
   "name": "python3"
  },
  "language_info": {
   "codemirror_mode": {
    "name": "ipython",
    "version": 3
   },
   "file_extension": ".py",
   "mimetype": "text/x-python",
   "name": "python",
   "nbconvert_exporter": "python",
   "pygments_lexer": "ipython3",
   "version": "3.11.3"
  },
  "nteract": {
   "version": "nteract-front-end@1.0.0"
  }
 },
 "nbformat": 4,
 "nbformat_minor": 5
}
